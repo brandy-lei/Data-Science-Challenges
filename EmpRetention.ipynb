{
 "cells": [
  {
   "cell_type": "markdown",
   "metadata": {},
   "source": [
    "# Employee Retention\n",
    "\n",
    "### 1-1-2017\n",
    "\n",
    "## Problem Statement\n",
    "We got employee data from a few companies. We have data about all employees who joined\n",
    "from 2011/01/24 to 2015/12/13. For each employee, we also know if they are still at the\n",
    "company as of 2015/12/13 or they have quit. Beside that, we have general info about the\n",
    "employee, such as avg salary during her tenure, dept, and yrs of experience.\n",
    "As said above, the goal is to predict employee retention and understand its main drivers.\n",
    "Specifically, you should:  \n",
    "\n",
    "--Assume, for each company, that the headcount starts from zero on 2011/01/23. Estimate\n",
    "employee headcount, for each company, on each day, from 2011/01/24 to 2015/12/13.\n",
    "That is, if by 2012/03/02 2000 people have joined company 1 and 1000 of them have\n",
    "already quit, then company headcount on 2012/03/02 for company 1 would be 1000.  \n",
    "----You should create a table with 3 columns: day, employee_headcount, company_id.  \n",
    "--What are the main factors that drive employee churn? Do they make sense? Explain your\n",
    "findings.  \n",
    "--If you could add to this data set just one variable that could help explain employee churn,\n",
    "what would that be?"
   ]
  },
  {
   "cell_type": "markdown",
   "metadata": {},
   "source": [
    "## Data Description\n",
    "\n",
    "Columns:  \n",
    "--employee_id : id of the employee. Unique by employee per company  \n",
    "--company_id : company id.  \n",
    "--dept : employee dept  \n",
    "--seniority : number of yrs of work experience when hired  \n",
    "--salary: avg yearly salary of the employee during her tenure within the company  \n",
    "--join_date: when the employee joined the company, it can only be between 2011/01/24\n",
    "and 2015/12/13  \n",
    "--quit_date: when the employee left her job (if she is still employed as of 2015/12/13, this\n",
    "field is NA)  "
   ]
  },
  {
   "cell_type": "markdown",
   "metadata": {},
   "source": [
    "# Part 0 - Setup, Import, Exploration\n",
    "\n",
    "Before any complex analysis, let's perform some exploratory analysis and sanity checks to ensure our data makes sense."
   ]
  },
  {
   "cell_type": "code",
   "execution_count": 1,
   "metadata": {
    "collapsed": false
   },
   "outputs": [
    {
     "name": "stdout",
     "output_type": "stream",
     "text": [
      "Populating the interactive namespace from numpy and matplotlib\n"
     ]
    }
   ],
   "source": [
    "# setup and import\n",
    "## basics\n",
    "import pandas as pd\n",
    "import numpy as np\n",
    "from pandas import DataFrame, Series\n",
    "\n",
    "## date manipulation\n",
    "from dateutil.parser import parse\n",
    "\n",
    "## plotting\n",
    "import matplotlib.pyplot as plt\n",
    "%pylab inline\n",
    "\n",
    "## formulas\n",
    "import patsy"
   ]
  },
  {
   "cell_type": "code",
   "execution_count": 2,
   "metadata": {
    "collapsed": false
   },
   "outputs": [],
   "source": [
    "# grab the data and store as dataframe\n",
    "emps = pd.read_csv('employee_retention_data.csv')"
   ]
  },
  {
   "cell_type": "code",
   "execution_count": 3,
   "metadata": {
    "collapsed": false,
    "scrolled": true
   },
   "outputs": [
    {
     "data": {
      "text/html": [
       "<div>\n",
       "<table border=\"1\" class=\"dataframe\">\n",
       "  <thead>\n",
       "    <tr style=\"text-align: right;\">\n",
       "      <th></th>\n",
       "      <th>employee_id</th>\n",
       "      <th>company_id</th>\n",
       "      <th>dept</th>\n",
       "      <th>seniority</th>\n",
       "      <th>salary</th>\n",
       "      <th>join_date</th>\n",
       "      <th>quit_date</th>\n",
       "    </tr>\n",
       "  </thead>\n",
       "  <tbody>\n",
       "    <tr>\n",
       "      <th>0</th>\n",
       "      <td>13021.0</td>\n",
       "      <td>7</td>\n",
       "      <td>customer_service</td>\n",
       "      <td>28</td>\n",
       "      <td>89000.0</td>\n",
       "      <td>2014-03-24</td>\n",
       "      <td>2015-10-30</td>\n",
       "    </tr>\n",
       "    <tr>\n",
       "      <th>1</th>\n",
       "      <td>825355.0</td>\n",
       "      <td>7</td>\n",
       "      <td>marketing</td>\n",
       "      <td>20</td>\n",
       "      <td>183000.0</td>\n",
       "      <td>2013-04-29</td>\n",
       "      <td>2014-04-04</td>\n",
       "    </tr>\n",
       "    <tr>\n",
       "      <th>2</th>\n",
       "      <td>927315.0</td>\n",
       "      <td>4</td>\n",
       "      <td>marketing</td>\n",
       "      <td>14</td>\n",
       "      <td>101000.0</td>\n",
       "      <td>2014-10-13</td>\n",
       "      <td>NaN</td>\n",
       "    </tr>\n",
       "    <tr>\n",
       "      <th>3</th>\n",
       "      <td>662910.0</td>\n",
       "      <td>7</td>\n",
       "      <td>customer_service</td>\n",
       "      <td>20</td>\n",
       "      <td>115000.0</td>\n",
       "      <td>2012-05-14</td>\n",
       "      <td>2013-06-07</td>\n",
       "    </tr>\n",
       "    <tr>\n",
       "      <th>4</th>\n",
       "      <td>256971.0</td>\n",
       "      <td>2</td>\n",
       "      <td>data_science</td>\n",
       "      <td>23</td>\n",
       "      <td>276000.0</td>\n",
       "      <td>2011-10-17</td>\n",
       "      <td>2014-08-22</td>\n",
       "    </tr>\n",
       "  </tbody>\n",
       "</table>\n",
       "</div>"
      ],
      "text/plain": [
       "   employee_id  company_id              dept  seniority    salary   join_date  \\\n",
       "0      13021.0           7  customer_service         28   89000.0  2014-03-24   \n",
       "1     825355.0           7         marketing         20  183000.0  2013-04-29   \n",
       "2     927315.0           4         marketing         14  101000.0  2014-10-13   \n",
       "3     662910.0           7  customer_service         20  115000.0  2012-05-14   \n",
       "4     256971.0           2      data_science         23  276000.0  2011-10-17   \n",
       "\n",
       "    quit_date  \n",
       "0  2015-10-30  \n",
       "1  2014-04-04  \n",
       "2         NaN  \n",
       "3  2013-06-07  \n",
       "4  2014-08-22  "
      ]
     },
     "execution_count": 3,
     "metadata": {},
     "output_type": "execute_result"
    }
   ],
   "source": [
    "# let's look at the first few rows\n",
    "emps.head()"
   ]
  },
  {
   "cell_type": "code",
   "execution_count": 4,
   "metadata": {
    "collapsed": true
   },
   "outputs": [],
   "source": [
    "# let's check for blank values in each column\n",
    "def fillprc(dff):\n",
    "    fillprc = [] # initialize empty list to be returned later\n",
    "    dfcols = list(dff.columns.values) # get list of all column names\n",
    "    for i in range(0,len(dfcols)): # loop through each column and get percentage filled, defined as ratio of lengths\n",
    "        colname = dfcols[i]\n",
    "        collfillprc = float(dff[dfcols[i]].value_counts().sum())/dff[dfcols[i]].value_counts(dropna=False).sum()\n",
    "    \n",
    "        fillprc.append((colname,collfillprc)) # add tuple of colname and percentage filled to list\n",
    "     \n",
    "    missinglist = [f for f in fillprc if f[1] != 1] # Filter fillprc list for less than 100%\n",
    "\n",
    "    return missinglist"
   ]
  },
  {
   "cell_type": "code",
   "execution_count": 5,
   "metadata": {
    "collapsed": false,
    "scrolled": true
   },
   "outputs": [
    {
     "data": {
      "text/plain": [
       "[('quit_date', 0.5469192777912719)]"
      ]
     },
     "execution_count": 5,
     "metadata": {},
     "output_type": "execute_result"
    }
   ],
   "source": [
    "fillprc(emps)\n",
    "# here we see that only the quit_date column has any blanks - this is great and these blanks represent employees who were\n",
    "# still employed as of Dec 13, 2015"
   ]
  },
  {
   "cell_type": "code",
   "execution_count": 6,
   "metadata": {
    "collapsed": false
   },
   "outputs": [
    {
     "data": {
      "text/plain": [
       "1.0"
      ]
     },
     "execution_count": 6,
     "metadata": {},
     "output_type": "execute_result"
    }
   ],
   "source": [
    "# check for duplicate rows\n",
    "(len(emps.drop_duplicates())*1.0)/len(emps)\n",
    "# a value of 1.0 means the length of the de-duplicated list is the same as the original list, implying no duplicate value"
   ]
  },
  {
   "cell_type": "code",
   "execution_count": 7,
   "metadata": {
    "collapsed": false
   },
   "outputs": [
    {
     "data": {
      "text/plain": [
       "1.0"
      ]
     },
     "execution_count": 7,
     "metadata": {},
     "output_type": "execute_result"
    }
   ],
   "source": [
    "# let's check for duplicate values in employee ID\n",
    "(len(Series(emps['employee_id'].values).unique())*1.0)/len(emps['employee_id'].values)\n",
    "# a value of 1.0 means the length of the de-duplicated list is the same as the original list, implying no duplicate value, so\n",
    "# employee_id is in fact a unique identifier"
   ]
  },
  {
   "cell_type": "code",
   "execution_count": 8,
   "metadata": {
    "collapsed": false
   },
   "outputs": [
    {
     "data": {
      "text/plain": [
       "employee_id    float64\n",
       "company_id       int64\n",
       "dept            object\n",
       "seniority        int64\n",
       "salary         float64\n",
       "join_date       object\n",
       "quit_date       object\n",
       "dtype: object"
      ]
     },
     "execution_count": 8,
     "metadata": {},
     "output_type": "execute_result"
    }
   ],
   "source": [
    "# let's look at data types to ensure they make sense\n",
    "emps.dtypes\n",
    "# they all make sense! later, we will need to convert the date objects to dates but they are ok for now"
   ]
  },
  {
   "cell_type": "code",
   "execution_count": 9,
   "metadata": {
    "collapsed": true
   },
   "outputs": [],
   "source": [
    "# let's examine values for each field to see if anything is odd"
   ]
  },
  {
   "cell_type": "code",
   "execution_count": 10,
   "metadata": {
    "collapsed": false
   },
   "outputs": [
    {
     "data": {
      "text/html": [
       "<div>\n",
       "<table border=\"1\" class=\"dataframe\">\n",
       "  <thead>\n",
       "    <tr style=\"text-align: right;\">\n",
       "      <th></th>\n",
       "      <th>employee_id</th>\n",
       "      <th>company_id</th>\n",
       "      <th>seniority</th>\n",
       "      <th>salary</th>\n",
       "    </tr>\n",
       "  </thead>\n",
       "  <tbody>\n",
       "    <tr>\n",
       "      <th>count</th>\n",
       "      <td>24702.000000</td>\n",
       "      <td>24702.000000</td>\n",
       "      <td>24702.000000</td>\n",
       "      <td>24702.000000</td>\n",
       "    </tr>\n",
       "    <tr>\n",
       "      <th>mean</th>\n",
       "      <td>501604.403530</td>\n",
       "      <td>3.426969</td>\n",
       "      <td>14.127803</td>\n",
       "      <td>138183.345478</td>\n",
       "    </tr>\n",
       "    <tr>\n",
       "      <th>std</th>\n",
       "      <td>288909.026101</td>\n",
       "      <td>2.700011</td>\n",
       "      <td>8.089520</td>\n",
       "      <td>76058.184573</td>\n",
       "    </tr>\n",
       "    <tr>\n",
       "      <th>min</th>\n",
       "      <td>36.000000</td>\n",
       "      <td>1.000000</td>\n",
       "      <td>1.000000</td>\n",
       "      <td>17000.000000</td>\n",
       "    </tr>\n",
       "    <tr>\n",
       "      <th>25%</th>\n",
       "      <td>250133.750000</td>\n",
       "      <td>1.000000</td>\n",
       "      <td>7.000000</td>\n",
       "      <td>79000.000000</td>\n",
       "    </tr>\n",
       "    <tr>\n",
       "      <th>50%</th>\n",
       "      <td>500793.000000</td>\n",
       "      <td>2.000000</td>\n",
       "      <td>14.000000</td>\n",
       "      <td>123000.000000</td>\n",
       "    </tr>\n",
       "    <tr>\n",
       "      <th>75%</th>\n",
       "      <td>753137.250000</td>\n",
       "      <td>5.000000</td>\n",
       "      <td>21.000000</td>\n",
       "      <td>187000.000000</td>\n",
       "    </tr>\n",
       "    <tr>\n",
       "      <th>max</th>\n",
       "      <td>999969.000000</td>\n",
       "      <td>12.000000</td>\n",
       "      <td>99.000000</td>\n",
       "      <td>408000.000000</td>\n",
       "    </tr>\n",
       "  </tbody>\n",
       "</table>\n",
       "</div>"
      ],
      "text/plain": [
       "         employee_id    company_id     seniority         salary\n",
       "count   24702.000000  24702.000000  24702.000000   24702.000000\n",
       "mean   501604.403530      3.426969     14.127803  138183.345478\n",
       "std    288909.026101      2.700011      8.089520   76058.184573\n",
       "min        36.000000      1.000000      1.000000   17000.000000\n",
       "25%    250133.750000      1.000000      7.000000   79000.000000\n",
       "50%    500793.000000      2.000000     14.000000  123000.000000\n",
       "75%    753137.250000      5.000000     21.000000  187000.000000\n",
       "max    999969.000000     12.000000     99.000000  408000.000000"
      ]
     },
     "execution_count": 10,
     "metadata": {},
     "output_type": "execute_result"
    }
   ],
   "source": [
    "# first let's view the numerical variables\n",
    "emps.describe()\n",
    "# everything looks reasonable except a max seniority of 99 years - this is likely a fill-in value - we'll handle this later"
   ]
  },
  {
   "cell_type": "code",
   "execution_count": 11,
   "metadata": {
    "collapsed": false
   },
   "outputs": [
    {
     "data": {
      "text/plain": [
       "customer_service    9180\n",
       "engineer            4613\n",
       "data_science        3190\n",
       "sales               3172\n",
       "marketing           3167\n",
       "design              1380\n",
       "Name: dept, dtype: int64"
      ]
     },
     "execution_count": 11,
     "metadata": {},
     "output_type": "execute_result"
    }
   ],
   "source": [
    "emps['dept'].value_counts()\n",
    "# looks reasonable"
   ]
  },
  {
   "cell_type": "code",
   "execution_count": 12,
   "metadata": {
    "collapsed": false
   },
   "outputs": [
    {
     "data": {
      "text/plain": [
       "1     8486\n",
       "2     4222\n",
       "3     2749\n",
       "4     2062\n",
       "5     1755\n",
       "6     1291\n",
       "7     1224\n",
       "8     1047\n",
       "9      961\n",
       "10     865\n",
       "12      24\n",
       "11      16\n",
       "Name: company_id, dtype: int64"
      ]
     },
     "execution_count": 12,
     "metadata": {},
     "output_type": "execute_result"
    }
   ],
   "source": [
    "emps['company_id'].value_counts()\n",
    "# reasonable, but we will need to be wary about any conclusions drawn regarding companies 11 and 12 since there are so \n",
    "# few observations"
   ]
  },
  {
   "cell_type": "code",
   "execution_count": 13,
   "metadata": {
    "collapsed": false
   },
   "outputs": [
    {
     "data": {
      "image/png": "[encoded data removed]",
      "text/plain": [
       "<matplotlib.figure.Figure at 0x9701278>"
      ]
     },
     "metadata": {},
     "output_type": "display_data"
    }
   ],
   "source": [
    "plt.hist(emps['seniority'],bins='auto')\n",
    "plt.show()\n",
    "# looks like the range goes way beyond what we would expect - we know the max seniority is 99 years so we lilely have some errors"
   ]
  },
  {
   "cell_type": "code",
   "execution_count": 14,
   "metadata": {
    "collapsed": false
   },
   "outputs": [
    {
     "data": {
      "text/plain": [
       "8     1008\n",
       "12     988\n",
       "6      950\n",
       "9      944\n",
       "2      942\n",
       "16     936\n",
       "5      936\n",
       "7      928\n",
       "10     927\n",
       "11     924\n",
       "14     920\n",
       "15     911\n",
       "19     910\n",
       "4      895\n",
       "13     894\n",
       "17     893\n",
       "3      881\n",
       "18     872\n",
       "1      861\n",
       "20     844\n",
       "23     785\n",
       "21     782\n",
       "22     764\n",
       "24     743\n",
       "25     715\n",
       "26     694\n",
       "27     642\n",
       "29     626\n",
       "28     585\n",
       "99       1\n",
       "98       1\n",
       "Name: seniority, dtype: int64"
      ]
     },
     "execution_count": 14,
     "metadata": {},
     "output_type": "execute_result"
    }
   ],
   "source": [
    "emps['seniority'].value_counts()\n",
    "# there are two outlier observations with seniority values of 99 and 98 - let's take a closer look"
   ]
  },
  {
   "cell_type": "code",
   "execution_count": 15,
   "metadata": {
    "collapsed": false
   },
   "outputs": [
    {
     "data": {
      "text/html": [
       "<div>\n",
       "<table border=\"1\" class=\"dataframe\">\n",
       "  <thead>\n",
       "    <tr style=\"text-align: right;\">\n",
       "      <th></th>\n",
       "      <th>employee_id</th>\n",
       "      <th>company_id</th>\n",
       "      <th>dept</th>\n",
       "      <th>seniority</th>\n",
       "      <th>salary</th>\n",
       "      <th>join_date</th>\n",
       "      <th>quit_date</th>\n",
       "    </tr>\n",
       "  </thead>\n",
       "  <tbody>\n",
       "    <tr>\n",
       "      <th>24700</th>\n",
       "      <td>97289.0</td>\n",
       "      <td>10</td>\n",
       "      <td>engineer</td>\n",
       "      <td>98</td>\n",
       "      <td>266000.0</td>\n",
       "      <td>2011-12-13</td>\n",
       "      <td>2015-01-09</td>\n",
       "    </tr>\n",
       "    <tr>\n",
       "      <th>24701</th>\n",
       "      <td>604052.0</td>\n",
       "      <td>1</td>\n",
       "      <td>marketing</td>\n",
       "      <td>99</td>\n",
       "      <td>185000.0</td>\n",
       "      <td>2011-07-26</td>\n",
       "      <td>2013-12-06</td>\n",
       "    </tr>\n",
       "  </tbody>\n",
       "</table>\n",
       "</div>"
      ],
      "text/plain": [
       "       employee_id  company_id       dept  seniority    salary   join_date  \\\n",
       "24700      97289.0          10   engineer         98  266000.0  2011-12-13   \n",
       "24701     604052.0           1  marketing         99  185000.0  2011-07-26   \n",
       "\n",
       "        quit_date  \n",
       "24700  2015-01-09  \n",
       "24701  2013-12-06  "
      ]
     },
     "execution_count": 15,
     "metadata": {},
     "output_type": "execute_result"
    }
   ],
   "source": [
    "emps[emps['seniority'] > 29]\n",
    "# here we see the two employees with odd tenures - we only have two, so let's just drop them since we have over 20k rows of data"
   ]
  },
  {
   "cell_type": "code",
   "execution_count": 16,
   "metadata": {
    "collapsed": true
   },
   "outputs": [],
   "source": [
    "# remove two observations with seniority greater than 29\n",
    "emps = emps[emps['seniority'] <= 29]"
   ]
  },
  {
   "cell_type": "code",
   "execution_count": 17,
   "metadata": {
    "collapsed": false
   },
   "outputs": [
    {
     "data": {
      "image/png": "[encoded data removed]",
      "text/plain": [
       "<matplotlib.figure.Figure at 0x96bfd30>"
      ]
     },
     "metadata": {},
     "output_type": "display_data"
    }
   ],
   "source": [
    "plt.hist(emps['salary'],bins='auto')\n",
    "plt.show()\n",
    "# this looks reasonable and fairly log-normal, maybe a log transformation will be useful later if we are using as a predictor?"
   ]
  },
  {
   "cell_type": "markdown",
   "metadata": {
    "collapsed": true
   },
   "source": [
    "At this point, we have established that our variables are distributed as expected and we have dropped two outlier values so our data is slightly cleaner. Next, let's perform some exploratory analysis around the question we are asking - how can we understand and predict employee retention?\n",
    "\n",
    "### Dependent Variable\n",
    "\n",
    "First, let's create a couple of variables to better analyze churn and retention. First, let's create an indicator variable to determine if the employee has quit (1) or is still with the company (0). Next, we need a measure of the length of time the employee has been with the company. If the employee has quit, then the time will be equal to the quit date minus the join date. If the employee is still employed, the time will be join date minus \"today\" (2015/12/13). "
   ]
  },
  {
   "cell_type": "code",
   "execution_count": 18,
   "metadata": {
    "collapsed": false,
    "scrolled": true
   },
   "outputs": [],
   "source": [
    "# define variable as boolean to check if quit_date is filled or not. If filled, then the employee has churned. \n",
    "emps['churn'] = emps['quit_date'].isnull() == False"
   ]
  },
  {
   "cell_type": "code",
   "execution_count": 19,
   "metadata": {
    "collapsed": false
   },
   "outputs": [],
   "source": [
    "# define time variable\n",
    "## first, we need to convert the date fields to date values\n",
    "from dateutil.parser import parse\n",
    "from datetime import timedelta"
   ]
  },
  {
   "cell_type": "code",
   "execution_count": 20,
   "metadata": {
    "collapsed": false
   },
   "outputs": [],
   "source": [
    "# convert dates to get duration\n",
    "## convert join date without issue\n",
    "emps['join_date'] = emps['join_date'].map(lambda x: parse(str(x)))\n",
    "\n",
    "## create max time as either quit date or 12/13/2015 if quit date is NA, convert to date object\n",
    "emps['max_time'] = emps['quit_date'].fillna('2015-12-13')\n",
    "emps['max_time'] = emps['max_time'].map(lambda x: parse(str(x)))\n",
    "\n",
    "# create duration as difference between max time and join date, then convert to count of days\n",
    "emps['duration'] = emps['max_time'] - emps['join_date']\n",
    "emps['duration'] = emps['duration'].map(lambda x: x.days)"
   ]
  },
  {
   "cell_type": "code",
   "execution_count": 21,
   "metadata": {
    "collapsed": false
   },
   "outputs": [
    {
     "data": {
      "text/html": [
       "<div>\n",
       "<table border=\"1\" class=\"dataframe\">\n",
       "  <thead>\n",
       "    <tr style=\"text-align: right;\">\n",
       "      <th></th>\n",
       "      <th>employee_id</th>\n",
       "      <th>company_id</th>\n",
       "      <th>dept</th>\n",
       "      <th>seniority</th>\n",
       "      <th>salary</th>\n",
       "      <th>join_date</th>\n",
       "      <th>quit_date</th>\n",
       "      <th>churn</th>\n",
       "      <th>max_time</th>\n",
       "      <th>duration</th>\n",
       "    </tr>\n",
       "  </thead>\n",
       "  <tbody>\n",
       "    <tr>\n",
       "      <th>0</th>\n",
       "      <td>13021.0</td>\n",
       "      <td>7</td>\n",
       "      <td>customer_service</td>\n",
       "      <td>28</td>\n",
       "      <td>89000.0</td>\n",
       "      <td>2014-03-24</td>\n",
       "      <td>2015-10-30</td>\n",
       "      <td>True</td>\n",
       "      <td>2015-10-30</td>\n",
       "      <td>585</td>\n",
       "    </tr>\n",
       "    <tr>\n",
       "      <th>1</th>\n",
       "      <td>825355.0</td>\n",
       "      <td>7</td>\n",
       "      <td>marketing</td>\n",
       "      <td>20</td>\n",
       "      <td>183000.0</td>\n",
       "      <td>2013-04-29</td>\n",
       "      <td>2014-04-04</td>\n",
       "      <td>True</td>\n",
       "      <td>2014-04-04</td>\n",
       "      <td>340</td>\n",
       "    </tr>\n",
       "    <tr>\n",
       "      <th>2</th>\n",
       "      <td>927315.0</td>\n",
       "      <td>4</td>\n",
       "      <td>marketing</td>\n",
       "      <td>14</td>\n",
       "      <td>101000.0</td>\n",
       "      <td>2014-10-13</td>\n",
       "      <td>NaN</td>\n",
       "      <td>False</td>\n",
       "      <td>2015-12-13</td>\n",
       "      <td>426</td>\n",
       "    </tr>\n",
       "    <tr>\n",
       "      <th>3</th>\n",
       "      <td>662910.0</td>\n",
       "      <td>7</td>\n",
       "      <td>customer_service</td>\n",
       "      <td>20</td>\n",
       "      <td>115000.0</td>\n",
       "      <td>2012-05-14</td>\n",
       "      <td>2013-06-07</td>\n",
       "      <td>True</td>\n",
       "      <td>2013-06-07</td>\n",
       "      <td>389</td>\n",
       "    </tr>\n",
       "    <tr>\n",
       "      <th>4</th>\n",
       "      <td>256971.0</td>\n",
       "      <td>2</td>\n",
       "      <td>data_science</td>\n",
       "      <td>23</td>\n",
       "      <td>276000.0</td>\n",
       "      <td>2011-10-17</td>\n",
       "      <td>2014-08-22</td>\n",
       "      <td>True</td>\n",
       "      <td>2014-08-22</td>\n",
       "      <td>1040</td>\n",
       "    </tr>\n",
       "  </tbody>\n",
       "</table>\n",
       "</div>"
      ],
      "text/plain": [
       "   employee_id  company_id              dept  seniority    salary  join_date  \\\n",
       "0      13021.0           7  customer_service         28   89000.0 2014-03-24   \n",
       "1     825355.0           7         marketing         20  183000.0 2013-04-29   \n",
       "2     927315.0           4         marketing         14  101000.0 2014-10-13   \n",
       "3     662910.0           7  customer_service         20  115000.0 2012-05-14   \n",
       "4     256971.0           2      data_science         23  276000.0 2011-10-17   \n",
       "\n",
       "    quit_date  churn   max_time  duration  \n",
       "0  2015-10-30   True 2015-10-30       585  \n",
       "1  2014-04-04   True 2014-04-04       340  \n",
       "2         NaN  False 2015-12-13       426  \n",
       "3  2013-06-07   True 2013-06-07       389  \n",
       "4  2014-08-22   True 2014-08-22      1040  "
      ]
     },
     "execution_count": 21,
     "metadata": {},
     "output_type": "execute_result"
    }
   ],
   "source": [
    "emps.head()\n",
    "# looks good!"
   ]
  },
  {
   "cell_type": "code",
   "execution_count": 22,
   "metadata": {
    "collapsed": false
   },
   "outputs": [
    {
     "data": {
      "text/plain": [
       "True     13508\n",
       "False    11192\n",
       "Name: churn, dtype: int64"
      ]
     },
     "execution_count": 22,
     "metadata": {},
     "output_type": "execute_result"
    }
   ],
   "source": [
    "emps['churn'].value_counts()\n",
    "## looks like slightly over half of our employees have quit - reasonable proportions if we want to go the binary\n",
    "## classification route"
   ]
  },
  {
   "cell_type": "code",
   "execution_count": 23,
   "metadata": {
    "collapsed": false
   },
   "outputs": [
    {
     "data": {
      "text/html": [
       "<div>\n",
       "<table border=\"1\" class=\"dataframe\">\n",
       "  <thead>\n",
       "    <tr style=\"text-align: right;\">\n",
       "      <th>churn</th>\n",
       "      <th>False</th>\n",
       "      <th>True</th>\n",
       "      <th>retprc</th>\n",
       "    </tr>\n",
       "    <tr>\n",
       "      <th>company_id</th>\n",
       "      <th></th>\n",
       "      <th></th>\n",
       "      <th></th>\n",
       "    </tr>\n",
       "  </thead>\n",
       "  <tbody>\n",
       "    <tr>\n",
       "      <th>1</th>\n",
       "      <td>3865</td>\n",
       "      <td>4620</td>\n",
       "      <td>0.455510</td>\n",
       "    </tr>\n",
       "    <tr>\n",
       "      <th>2</th>\n",
       "      <td>2016</td>\n",
       "      <td>2206</td>\n",
       "      <td>0.477499</td>\n",
       "    </tr>\n",
       "    <tr>\n",
       "      <th>3</th>\n",
       "      <td>1218</td>\n",
       "      <td>1531</td>\n",
       "      <td>0.443070</td>\n",
       "    </tr>\n",
       "    <tr>\n",
       "      <th>4</th>\n",
       "      <td>909</td>\n",
       "      <td>1153</td>\n",
       "      <td>0.440834</td>\n",
       "    </tr>\n",
       "    <tr>\n",
       "      <th>5</th>\n",
       "      <td>772</td>\n",
       "      <td>983</td>\n",
       "      <td>0.439886</td>\n",
       "    </tr>\n",
       "    <tr>\n",
       "      <th>6</th>\n",
       "      <td>579</td>\n",
       "      <td>712</td>\n",
       "      <td>0.448490</td>\n",
       "    </tr>\n",
       "    <tr>\n",
       "      <th>7</th>\n",
       "      <td>532</td>\n",
       "      <td>692</td>\n",
       "      <td>0.434641</td>\n",
       "    </tr>\n",
       "    <tr>\n",
       "      <th>8</th>\n",
       "      <td>468</td>\n",
       "      <td>579</td>\n",
       "      <td>0.446991</td>\n",
       "    </tr>\n",
       "    <tr>\n",
       "      <th>9</th>\n",
       "      <td>432</td>\n",
       "      <td>529</td>\n",
       "      <td>0.449532</td>\n",
       "    </tr>\n",
       "    <tr>\n",
       "      <th>10</th>\n",
       "      <td>385</td>\n",
       "      <td>479</td>\n",
       "      <td>0.445602</td>\n",
       "    </tr>\n",
       "    <tr>\n",
       "      <th>11</th>\n",
       "      <td>4</td>\n",
       "      <td>12</td>\n",
       "      <td>0.250000</td>\n",
       "    </tr>\n",
       "    <tr>\n",
       "      <th>12</th>\n",
       "      <td>12</td>\n",
       "      <td>12</td>\n",
       "      <td>0.500000</td>\n",
       "    </tr>\n",
       "  </tbody>\n",
       "</table>\n",
       "</div>"
      ],
      "text/plain": [
       "churn       False  True    retprc\n",
       "company_id                       \n",
       "1            3865  4620  0.455510\n",
       "2            2016  2206  0.477499\n",
       "3            1218  1531  0.443070\n",
       "4             909  1153  0.440834\n",
       "5             772   983  0.439886\n",
       "6             579   712  0.448490\n",
       "7             532   692  0.434641\n",
       "8             468   579  0.446991\n",
       "9             432   529  0.449532\n",
       "10            385   479  0.445602\n",
       "11              4    12  0.250000\n",
       "12             12    12  0.500000"
      ]
     },
     "execution_count": 23,
     "metadata": {},
     "output_type": "execute_result"
    }
   ],
   "source": [
    "# how does retention vary across company?\n",
    "ret_comp = pd.crosstab(emps['company_id'],emps['churn'])\n",
    "ret_comp['retprc'] = ret_comp[0]/(1.0*ret_comp[0]+ret_comp[1])\n",
    "ret_comp\n",
    "## retention is near 45% for all companies except 11 and 12, but we already decided to be wary of conclusions drawn from so \n",
    "## few observations"
   ]
  },
  {
   "cell_type": "code",
   "execution_count": 24,
   "metadata": {
    "collapsed": false
   },
   "outputs": [
    {
     "data": {
      "text/html": [
       "<div>\n",
       "<table border=\"1\" class=\"dataframe\">\n",
       "  <thead>\n",
       "    <tr style=\"text-align: right;\">\n",
       "      <th>churn</th>\n",
       "      <th>False</th>\n",
       "      <th>True</th>\n",
       "      <th>retprc</th>\n",
       "    </tr>\n",
       "    <tr>\n",
       "      <th>dept</th>\n",
       "      <th></th>\n",
       "      <th></th>\n",
       "      <th></th>\n",
       "    </tr>\n",
       "  </thead>\n",
       "  <tbody>\n",
       "    <tr>\n",
       "      <th>customer_service</th>\n",
       "      <td>4086</td>\n",
       "      <td>5094</td>\n",
       "      <td>0.445098</td>\n",
       "    </tr>\n",
       "    <tr>\n",
       "      <th>data_science</th>\n",
       "      <td>1508</td>\n",
       "      <td>1682</td>\n",
       "      <td>0.472727</td>\n",
       "    </tr>\n",
       "    <tr>\n",
       "      <th>design</th>\n",
       "      <td>602</td>\n",
       "      <td>778</td>\n",
       "      <td>0.436232</td>\n",
       "    </tr>\n",
       "    <tr>\n",
       "      <th>engineer</th>\n",
       "      <td>2251</td>\n",
       "      <td>2361</td>\n",
       "      <td>0.488075</td>\n",
       "    </tr>\n",
       "    <tr>\n",
       "      <th>marketing</th>\n",
       "      <td>1384</td>\n",
       "      <td>1782</td>\n",
       "      <td>0.437145</td>\n",
       "    </tr>\n",
       "    <tr>\n",
       "      <th>sales</th>\n",
       "      <td>1361</td>\n",
       "      <td>1811</td>\n",
       "      <td>0.429067</td>\n",
       "    </tr>\n",
       "  </tbody>\n",
       "</table>\n",
       "</div>"
      ],
      "text/plain": [
       "churn             False  True    retprc\n",
       "dept                                   \n",
       "customer_service   4086  5094  0.445098\n",
       "data_science       1508  1682  0.472727\n",
       "design              602   778  0.436232\n",
       "engineer           2251  2361  0.488075\n",
       "marketing          1384  1782  0.437145\n",
       "sales              1361  1811  0.429067"
      ]
     },
     "execution_count": 24,
     "metadata": {},
     "output_type": "execute_result"
    }
   ],
   "source": [
    "# how does retention vary across department?\n",
    "dep_comp = pd.crosstab(emps['dept'],emps['churn'])\n",
    "dep_comp['retprc'] = dep_comp[0]/(1.0*dep_comp[0]+dep_comp[1])\n",
    "dep_comp\n",
    "## we see some small differences here - engineers and data scientists are less likely to churn than sales or marketing, so\n",
    "## hopefully we will see these variables as significant when we predict. however, we have not controlled for any other \n",
    "## variables, but so far, it looks like I made the right career choice!"
   ]
  },
  {
   "cell_type": "code",
   "execution_count": 25,
   "metadata": {
    "collapsed": false
   },
   "outputs": [
    {
     "data": {
      "text/html": [
       "<div>\n",
       "<table border=\"1\" class=\"dataframe\">\n",
       "  <thead>\n",
       "    <tr style=\"text-align: right;\">\n",
       "      <th>churn</th>\n",
       "      <th>False</th>\n",
       "      <th>True</th>\n",
       "      <th>retprc</th>\n",
       "    </tr>\n",
       "    <tr>\n",
       "      <th>salary_bucket</th>\n",
       "      <th></th>\n",
       "      <th></th>\n",
       "      <th></th>\n",
       "    </tr>\n",
       "  </thead>\n",
       "  <tbody>\n",
       "    <tr>\n",
       "      <th>[17000, 52000]</th>\n",
       "      <td>1267</td>\n",
       "      <td>1205</td>\n",
       "      <td>0.512540</td>\n",
       "    </tr>\n",
       "    <tr>\n",
       "      <th>(52000, 70000]</th>\n",
       "      <td>1165</td>\n",
       "      <td>1377</td>\n",
       "      <td>0.458301</td>\n",
       "    </tr>\n",
       "    <tr>\n",
       "      <th>(70000, 89000]</th>\n",
       "      <td>1134</td>\n",
       "      <td>1387</td>\n",
       "      <td>0.449821</td>\n",
       "    </tr>\n",
       "    <tr>\n",
       "      <th>(89000, 105000]</th>\n",
       "      <td>1006</td>\n",
       "      <td>1356</td>\n",
       "      <td>0.425910</td>\n",
       "    </tr>\n",
       "    <tr>\n",
       "      <th>(105000, 123000]</th>\n",
       "      <td>1064</td>\n",
       "      <td>1517</td>\n",
       "      <td>0.412243</td>\n",
       "    </tr>\n",
       "    <tr>\n",
       "      <th>(123000, 145000]</th>\n",
       "      <td>931</td>\n",
       "      <td>1447</td>\n",
       "      <td>0.391505</td>\n",
       "    </tr>\n",
       "    <tr>\n",
       "      <th>(145000, 172000]</th>\n",
       "      <td>1008</td>\n",
       "      <td>1435</td>\n",
       "      <td>0.412607</td>\n",
       "    </tr>\n",
       "    <tr>\n",
       "      <th>(172000, 202000]</th>\n",
       "      <td>1064</td>\n",
       "      <td>1398</td>\n",
       "      <td>0.432169</td>\n",
       "    </tr>\n",
       "    <tr>\n",
       "      <th>(202000, 250000]</th>\n",
       "      <td>1162</td>\n",
       "      <td>1326</td>\n",
       "      <td>0.467042</td>\n",
       "    </tr>\n",
       "    <tr>\n",
       "      <th>(250000, 408000]</th>\n",
       "      <td>1391</td>\n",
       "      <td>1060</td>\n",
       "      <td>0.567523</td>\n",
       "    </tr>\n",
       "  </tbody>\n",
       "</table>\n",
       "</div>"
      ],
      "text/plain": [
       "churn             False  True    retprc\n",
       "salary_bucket                          \n",
       "[17000, 52000]     1267  1205  0.512540\n",
       "(52000, 70000]     1165  1377  0.458301\n",
       "(70000, 89000]     1134  1387  0.449821\n",
       "(89000, 105000]    1006  1356  0.425910\n",
       "(105000, 123000]   1064  1517  0.412243\n",
       "(123000, 145000]    931  1447  0.391505\n",
       "(145000, 172000]   1008  1435  0.412607\n",
       "(172000, 202000]   1064  1398  0.432169\n",
       "(202000, 250000]   1162  1326  0.467042\n",
       "(250000, 408000]   1391  1060  0.567523"
      ]
     },
     "execution_count": 25,
     "metadata": {},
     "output_type": "execute_result"
    }
   ],
   "source": [
    "# how does retention vary across salary?\n",
    "emps['salary_bucket'] = pd.qcut(emps['salary'],10) # create ten percentile-based buckets to analyze more easily\n",
    "comp_comp = pd.crosstab(emps['salary_bucket'],emps['churn'])\n",
    "comp_comp['retprc'] = comp_comp[0]/(1.0*comp_comp[0]+comp_comp[1])\n",
    "comp_comp\n",
    "## again, we see some differences across salary buckets in retention percentage, such as the highest and lowest buckets of salary\n",
    "## churning at a lower rate than elsewhere. we cannot draw conclusions without controlling for other variables, but this is \n",
    "## encouraging"
   ]
  },
  {
   "cell_type": "code",
   "execution_count": 26,
   "metadata": {
    "collapsed": false
   },
   "outputs": [
    {
     "data": {
      "image/png": "[encoded data removed]",
      "text/plain": [
       "<matplotlib.figure.Figure at 0xa360ba8>"
      ]
     },
     "metadata": {},
     "output_type": "display_data"
    }
   ],
   "source": [
    "# let's look at duration in some detail\n",
    "plt.hist(emps['duration'],bins='auto')\n",
    "plt.show()\n",
    "## looks like a bimodal distribution with peaks around 1 year and 2 years (365 and 730 days). People tend to leave jobs after \n",
    "## bonus cycles, so it makes sense "
   ]
  },
  {
   "cell_type": "markdown",
   "metadata": {},
   "source": [
    "## Part 1\n",
    "--Assume, for each company, that the headcount starts from zero on 2011/01/23. Estimate employee headcount, for each company, on each day, from 2011/01/24 to 2015/12/13. That is, if by 2012/03/02 2000 people have joined company 1 and 1000 of them have already quit, then company headcount on 2012/03/02 for company 1 would be 1000.  \n",
    "----You should create a table with 3 columns: day, employee_headcount, company_id.  \n",
    "  \n",
    "To tackle this problem, we will initialize a series of all dates from 1/23/2011 to 12/13/2015. Then, for each company, we will use a pivot table to get counts of adds (from *join_date*) and subtracts (from *quit_date*) for each date. We will then join both of these series to our list of all dates, filling missing values with zero, and then take the difference to find the net headcount change each day. From this field we can then use a cumulative sum to find headcount on each day."
   ]
  },
  {
   "cell_type": "code",
   "execution_count": 27,
   "metadata": {
    "collapsed": true
   },
   "outputs": [],
   "source": [
    "# create dataframe indexed by the date range\n",
    "datelist = pd.DataFrame(index=pd.date_range(start='2011-01-23',end='2015-12-13').tolist())"
   ]
  },
  {
   "cell_type": "code",
   "execution_count": 28,
   "metadata": {
    "collapsed": false
   },
   "outputs": [
    {
     "data": {
      "text/html": [
       "<div>\n",
       "<table border=\"1\" class=\"dataframe\">\n",
       "  <thead>\n",
       "    <tr style=\"text-align: right;\">\n",
       "      <th></th>\n",
       "    </tr>\n",
       "  </thead>\n",
       "  <tbody>\n",
       "    <tr>\n",
       "      <th>2011-01-23</th>\n",
       "    </tr>\n",
       "    <tr>\n",
       "      <th>2011-01-24</th>\n",
       "    </tr>\n",
       "    <tr>\n",
       "      <th>2011-01-25</th>\n",
       "    </tr>\n",
       "    <tr>\n",
       "      <th>2011-01-26</th>\n",
       "    </tr>\n",
       "    <tr>\n",
       "      <th>2011-01-27</th>\n",
       "    </tr>\n",
       "  </tbody>\n",
       "</table>\n",
       "</div>"
      ],
      "text/plain": [
       "Empty DataFrame\n",
       "Columns: []\n",
       "Index: [2011-01-23 00:00:00, 2011-01-24 00:00:00, 2011-01-25 00:00:00, 2011-01-26 00:00:00, 2011-01-27 00:00:00]"
      ]
     },
     "execution_count": 28,
     "metadata": {},
     "output_type": "execute_result"
    }
   ],
   "source": [
    "datelist.head()"
   ]
  },
  {
   "cell_type": "code",
   "execution_count": 29,
   "metadata": {
    "collapsed": false
   },
   "outputs": [],
   "source": [
    "# get list of all unique company IDs to later iterate through\n",
    "complist = emps['company_id'].unique().tolist()\n",
    "\n",
    "# initialize empty DF with the three columns we care about\n",
    "headcounts = pd.DataFrame(columns=['day','company_id','employee_headcount'])\n",
    "\n",
    "# loop through each unique company ID and do the following:\n",
    "for i in complist:\n",
    "    # create temporary DF of just the company ID we want to examine\n",
    "    emps_c = emps[emps['company_id'] == i]\n",
    "\n",
    "    # create pivot tables to count adds and quits on each date, use employee_id as value since it's always filled\n",
    "    adds = pd.DataFrame(pd.pivot_table(data=emps_c,values='employee_id',index='join_date',aggfunc='count',fill_value=0))\n",
    "    quits = pd.DataFrame(pd.pivot_table(data=emps_c,values='employee_id',index='quit_date',aggfunc='count',fill_value=0))\n",
    "\n",
    "    # merge adds and quits onto our datelist, use left join so we keep all dates in our series\n",
    "    deltas = datelist.merge(adds,how='left',left_index=True,right_index=True)\n",
    "    deltas = deltas.merge(quits,how='left',left_index=True,right_index=True)\n",
    "\n",
    "    # rename columns\n",
    "    deltas = deltas.rename(columns={'employee_id_x':'joins','employee_id_y':'quits'})\n",
    "\n",
    "    # fill blank values with zero, since a missing value means no employees joined or quit that day\n",
    "    # this isn't strictly necessary but helps for interpretability\n",
    "    deltas['joins'] = deltas['joins'].fillna(0)\n",
    "    deltas['quits'] = deltas['quits'].fillna(0)\n",
    "\n",
    "    # create net column to find change in headcount each day\n",
    "    deltas['net'] = deltas['joins'] - deltas['quits']\n",
    "\n",
    "    # create headcount as cumulative sum\n",
    "    deltas['employee_headcount'] = deltas['net'].cumsum(axis=0)\n",
    "    \n",
    "    # add company ID field\n",
    "    deltas['company_id'] = i\n",
    "    \n",
    "    # add day field equal to index\n",
    "    deltas['day'] = deltas.index\n",
    "    \n",
    "    # cut down to columns we care about - note column names are the same as our final DF\n",
    "    deltas = deltas[['day','company_id','employee_headcount']]\n",
    "    \n",
    "    # add to headcount  final DF\n",
    "    headcounts = headcounts.append(deltas,ignore_index=True)"
   ]
  },
  {
   "cell_type": "code",
   "execution_count": 30,
   "metadata": {
    "collapsed": false
   },
   "outputs": [
    {
     "data": {
      "text/html": [
       "<div>\n",
       "<table border=\"1\" class=\"dataframe\">\n",
       "  <thead>\n",
       "    <tr style=\"text-align: right;\">\n",
       "      <th></th>\n",
       "      <th>day</th>\n",
       "      <th>company_id</th>\n",
       "      <th>employee_headcount</th>\n",
       "    </tr>\n",
       "  </thead>\n",
       "  <tbody>\n",
       "    <tr>\n",
       "      <th>0</th>\n",
       "      <td>2011-01-23</td>\n",
       "      <td>7.0</td>\n",
       "      <td>0.0</td>\n",
       "    </tr>\n",
       "    <tr>\n",
       "      <th>1</th>\n",
       "      <td>2011-01-24</td>\n",
       "      <td>7.0</td>\n",
       "      <td>1.0</td>\n",
       "    </tr>\n",
       "    <tr>\n",
       "      <th>2</th>\n",
       "      <td>2011-01-25</td>\n",
       "      <td>7.0</td>\n",
       "      <td>1.0</td>\n",
       "    </tr>\n",
       "    <tr>\n",
       "      <th>3</th>\n",
       "      <td>2011-01-26</td>\n",
       "      <td>7.0</td>\n",
       "      <td>1.0</td>\n",
       "    </tr>\n",
       "    <tr>\n",
       "      <th>4</th>\n",
       "      <td>2011-01-27</td>\n",
       "      <td>7.0</td>\n",
       "      <td>1.0</td>\n",
       "    </tr>\n",
       "  </tbody>\n",
       "</table>\n",
       "</div>"
      ],
      "text/plain": [
       "         day  company_id  employee_headcount\n",
       "0 2011-01-23         7.0                 0.0\n",
       "1 2011-01-24         7.0                 1.0\n",
       "2 2011-01-25         7.0                 1.0\n",
       "3 2011-01-26         7.0                 1.0\n",
       "4 2011-01-27         7.0                 1.0"
      ]
     },
     "execution_count": 30,
     "metadata": {},
     "output_type": "execute_result"
    }
   ],
   "source": [
    "# let's take a look\n",
    "headcounts.head()\n",
    "# this appears to have what we're after!"
   ]
  },
  {
   "cell_type": "code",
   "execution_count": 31,
   "metadata": {
    "collapsed": false
   },
   "outputs": [
    {
     "data": {
      "text/html": [
       "<div>\n",
       "<table border=\"1\" class=\"dataframe\">\n",
       "  <thead>\n",
       "    <tr style=\"text-align: right;\">\n",
       "      <th></th>\n",
       "      <th>day</th>\n",
       "      <th>company_id</th>\n",
       "      <th>employee_headcount</th>\n",
       "    </tr>\n",
       "  </thead>\n",
       "  <tbody>\n",
       "    <tr>\n",
       "      <th>4747</th>\n",
       "      <td>2014-04-12</td>\n",
       "      <td>2.0</td>\n",
       "      <td>1780.0</td>\n",
       "    </tr>\n",
       "    <tr>\n",
       "      <th>4748</th>\n",
       "      <td>2014-04-13</td>\n",
       "      <td>2.0</td>\n",
       "      <td>1780.0</td>\n",
       "    </tr>\n",
       "    <tr>\n",
       "      <th>4749</th>\n",
       "      <td>2014-04-14</td>\n",
       "      <td>2.0</td>\n",
       "      <td>1803.0</td>\n",
       "    </tr>\n",
       "    <tr>\n",
       "      <th>4750</th>\n",
       "      <td>2014-04-15</td>\n",
       "      <td>2.0</td>\n",
       "      <td>1803.0</td>\n",
       "    </tr>\n",
       "    <tr>\n",
       "      <th>4751</th>\n",
       "      <td>2014-04-16</td>\n",
       "      <td>2.0</td>\n",
       "      <td>1804.0</td>\n",
       "    </tr>\n",
       "    <tr>\n",
       "      <th>4752</th>\n",
       "      <td>2014-04-17</td>\n",
       "      <td>2.0</td>\n",
       "      <td>1805.0</td>\n",
       "    </tr>\n",
       "    <tr>\n",
       "      <th>4753</th>\n",
       "      <td>2014-04-18</td>\n",
       "      <td>2.0</td>\n",
       "      <td>1805.0</td>\n",
       "    </tr>\n",
       "    <tr>\n",
       "      <th>4754</th>\n",
       "      <td>2014-04-19</td>\n",
       "      <td>2.0</td>\n",
       "      <td>1805.0</td>\n",
       "    </tr>\n",
       "    <tr>\n",
       "      <th>4755</th>\n",
       "      <td>2014-04-20</td>\n",
       "      <td>2.0</td>\n",
       "      <td>1805.0</td>\n",
       "    </tr>\n",
       "    <tr>\n",
       "      <th>4756</th>\n",
       "      <td>2014-04-21</td>\n",
       "      <td>2.0</td>\n",
       "      <td>1808.0</td>\n",
       "    </tr>\n",
       "    <tr>\n",
       "      <th>4757</th>\n",
       "      <td>2014-04-22</td>\n",
       "      <td>2.0</td>\n",
       "      <td>1811.0</td>\n",
       "    </tr>\n",
       "    <tr>\n",
       "      <th>4758</th>\n",
       "      <td>2014-04-23</td>\n",
       "      <td>2.0</td>\n",
       "      <td>1814.0</td>\n",
       "    </tr>\n",
       "    <tr>\n",
       "      <th>4759</th>\n",
       "      <td>2014-04-24</td>\n",
       "      <td>2.0</td>\n",
       "      <td>1814.0</td>\n",
       "    </tr>\n",
       "    <tr>\n",
       "      <th>4760</th>\n",
       "      <td>2014-04-25</td>\n",
       "      <td>2.0</td>\n",
       "      <td>1796.0</td>\n",
       "    </tr>\n",
       "    <tr>\n",
       "      <th>4761</th>\n",
       "      <td>2014-04-26</td>\n",
       "      <td>2.0</td>\n",
       "      <td>1796.0</td>\n",
       "    </tr>\n",
       "    <tr>\n",
       "      <th>4762</th>\n",
       "      <td>2014-04-27</td>\n",
       "      <td>2.0</td>\n",
       "      <td>1796.0</td>\n",
       "    </tr>\n",
       "    <tr>\n",
       "      <th>4763</th>\n",
       "      <td>2014-04-28</td>\n",
       "      <td>2.0</td>\n",
       "      <td>1807.0</td>\n",
       "    </tr>\n",
       "    <tr>\n",
       "      <th>4764</th>\n",
       "      <td>2014-04-29</td>\n",
       "      <td>2.0</td>\n",
       "      <td>1809.0</td>\n",
       "    </tr>\n",
       "    <tr>\n",
       "      <th>4765</th>\n",
       "      <td>2014-04-30</td>\n",
       "      <td>2.0</td>\n",
       "      <td>1810.0</td>\n",
       "    </tr>\n",
       "    <tr>\n",
       "      <th>4766</th>\n",
       "      <td>2014-05-01</td>\n",
       "      <td>2.0</td>\n",
       "      <td>1812.0</td>\n",
       "    </tr>\n",
       "  </tbody>\n",
       "</table>\n",
       "</div>"
      ],
      "text/plain": [
       "            day  company_id  employee_headcount\n",
       "4747 2014-04-12         2.0              1780.0\n",
       "4748 2014-04-13         2.0              1780.0\n",
       "4749 2014-04-14         2.0              1803.0\n",
       "4750 2014-04-15         2.0              1803.0\n",
       "4751 2014-04-16         2.0              1804.0\n",
       "4752 2014-04-17         2.0              1805.0\n",
       "4753 2014-04-18         2.0              1805.0\n",
       "4754 2014-04-19         2.0              1805.0\n",
       "4755 2014-04-20         2.0              1805.0\n",
       "4756 2014-04-21         2.0              1808.0\n",
       "4757 2014-04-22         2.0              1811.0\n",
       "4758 2014-04-23         2.0              1814.0\n",
       "4759 2014-04-24         2.0              1814.0\n",
       "4760 2014-04-25         2.0              1796.0\n",
       "4761 2014-04-26         2.0              1796.0\n",
       "4762 2014-04-27         2.0              1796.0\n",
       "4763 2014-04-28         2.0              1807.0\n",
       "4764 2014-04-29         2.0              1809.0\n",
       "4765 2014-04-30         2.0              1810.0\n",
       "4766 2014-05-01         2.0              1812.0"
      ]
     },
     "execution_count": 31,
     "metadata": {},
     "output_type": "execute_result"
    }
   ],
   "source": [
    "# let's look at a spot in the middle to see if it makes sense\n",
    "headcounts[4747:4767]\n",
    "# this passes the sanity check! looks like company 2 had a mass exodus of 18 people on 4/25/2014 - let's double check"
   ]
  },
  {
   "cell_type": "code",
   "execution_count": 32,
   "metadata": {
    "collapsed": false
   },
   "outputs": [
    {
     "data": {
      "text/plain": [
       "18"
      ]
     },
     "execution_count": 32,
     "metadata": {},
     "output_type": "execute_result"
    }
   ],
   "source": [
    "# this line will tell us how many employees quit company 2 on 4/25/2014. It should be 18, since headcount in our final DF\n",
    "# drops by 18 on this day\n",
    "len(emps[(emps['company_id'] == 2.0) & (emps['quit_date'] == '2014-04-25')])\n",
    "# correct!"
   ]
  },
  {
   "cell_type": "code",
   "execution_count": 35,
   "metadata": {
    "collapsed": false
   },
   "outputs": [
    {
     "data": {
      "image/png": "[encoded data removed]",
      "text/plain": [
       "<matplotlib.figure.Figure at 0xb3e6c50>"
      ]
     },
     "metadata": {},
     "output_type": "display_data"
    }
   ],
   "source": [
    "# let's take a quick look graphically to see how it looks\n",
    "headcounts.pivot(index='day', columns='company_id', values='employee_headcount').plot()\n",
    "plt.legend(bbox_to_anchor=(1.3, 1, 0, 0))\n",
    "plt.show()\n",
    "# looks good!"
   ]
  },
  {
   "cell_type": "markdown",
   "metadata": {},
   "source": [
    "Above we were able to create a dataframe that shows headcount by day for each company that shows increasing headcount over time from 2011 to 2015. Headcount is steadily increasing for each company and starts to flatten towards the end. However, this does not help us to understand what factors lead to employee churn, which we will explore below.\n",
    "\n",
    "## Part 2\n",
    "--What are the main factors that drive employee churn? Do they make sense? Explain your\n",
    "findings.  \n",
    "--If you could add to this data set just one variable that could help explain employee churn,\n",
    "what would that be?\n",
    "\n",
    "To answer these questions, we want to develop some sort of predictive model that identifies which features of a given employee - salary, seniority, etc. - increase or decrease the likelihood of churning in the observed time period. The model framework that makes the most sense in this case is survival analysis, where we treat churn as the survival event. We can apply a Cox Regression (proportional hazards model) to identify relevant predictors from our independent variables. This model's assumptions fit our data relatively well in that most observed independent variables do not change significantly over time (department, seniority, etc. are fixed and salary likely only grows incrementally unless there is a promotion), and that the effect a given variable has on likelihood of survival/churn does not change over time. The second assumption may not necessarily be true over long time horizons - for example, the effect of a lower salary may have a greater effect on retention after a tenure of 5-10 years compared to an employee who just joined. However, over just a few years, this assumption is reasonable.\n",
    "\n",
    "To identify the factors that influence churn, we will use the survival analysis package in R and examine the effect of different variables. Since we are not looking at out-of-sample prediction, but rather variance explained in-sample, we will look at likelihood statistics to evaluate model fits and determine if variables are useful.\n",
    "\n",
    "We will use export our *emps* dataframe to R, run survival analysis in R, and examine those results."
   ]
  },
  {
   "cell_type": "code",
   "execution_count": 36,
   "metadata": {
    "collapsed": false
   },
   "outputs": [
    {
     "data": {
      "text/html": [
       "<div>\n",
       "<table border=\"1\" class=\"dataframe\">\n",
       "  <thead>\n",
       "    <tr style=\"text-align: right;\">\n",
       "      <th></th>\n",
       "      <th>employee_id</th>\n",
       "      <th>company_id</th>\n",
       "      <th>dept</th>\n",
       "      <th>seniority</th>\n",
       "      <th>salary</th>\n",
       "      <th>join_date</th>\n",
       "      <th>quit_date</th>\n",
       "      <th>churn</th>\n",
       "      <th>max_time</th>\n",
       "      <th>duration</th>\n",
       "      <th>salary_bucket</th>\n",
       "    </tr>\n",
       "  </thead>\n",
       "  <tbody>\n",
       "    <tr>\n",
       "      <th>0</th>\n",
       "      <td>13021.0</td>\n",
       "      <td>7</td>\n",
       "      <td>customer_service</td>\n",
       "      <td>28</td>\n",
       "      <td>89000.0</td>\n",
       "      <td>2014-03-24</td>\n",
       "      <td>2015-10-30</td>\n",
       "      <td>True</td>\n",
       "      <td>2015-10-30</td>\n",
       "      <td>585</td>\n",
       "      <td>(70000, 89000]</td>\n",
       "    </tr>\n",
       "    <tr>\n",
       "      <th>1</th>\n",
       "      <td>825355.0</td>\n",
       "      <td>7</td>\n",
       "      <td>marketing</td>\n",
       "      <td>20</td>\n",
       "      <td>183000.0</td>\n",
       "      <td>2013-04-29</td>\n",
       "      <td>2014-04-04</td>\n",
       "      <td>True</td>\n",
       "      <td>2014-04-04</td>\n",
       "      <td>340</td>\n",
       "      <td>(172000, 202000]</td>\n",
       "    </tr>\n",
       "    <tr>\n",
       "      <th>2</th>\n",
       "      <td>927315.0</td>\n",
       "      <td>4</td>\n",
       "      <td>marketing</td>\n",
       "      <td>14</td>\n",
       "      <td>101000.0</td>\n",
       "      <td>2014-10-13</td>\n",
       "      <td>NaN</td>\n",
       "      <td>False</td>\n",
       "      <td>2015-12-13</td>\n",
       "      <td>426</td>\n",
       "      <td>(89000, 105000]</td>\n",
       "    </tr>\n",
       "    <tr>\n",
       "      <th>3</th>\n",
       "      <td>662910.0</td>\n",
       "      <td>7</td>\n",
       "      <td>customer_service</td>\n",
       "      <td>20</td>\n",
       "      <td>115000.0</td>\n",
       "      <td>2012-05-14</td>\n",
       "      <td>2013-06-07</td>\n",
       "      <td>True</td>\n",
       "      <td>2013-06-07</td>\n",
       "      <td>389</td>\n",
       "      <td>(105000, 123000]</td>\n",
       "    </tr>\n",
       "    <tr>\n",
       "      <th>4</th>\n",
       "      <td>256971.0</td>\n",
       "      <td>2</td>\n",
       "      <td>data_science</td>\n",
       "      <td>23</td>\n",
       "      <td>276000.0</td>\n",
       "      <td>2011-10-17</td>\n",
       "      <td>2014-08-22</td>\n",
       "      <td>True</td>\n",
       "      <td>2014-08-22</td>\n",
       "      <td>1040</td>\n",
       "      <td>(250000, 408000]</td>\n",
       "    </tr>\n",
       "  </tbody>\n",
       "</table>\n",
       "</div>"
      ],
      "text/plain": [
       "   employee_id  company_id              dept  seniority    salary  join_date  \\\n",
       "0      13021.0           7  customer_service         28   89000.0 2014-03-24   \n",
       "1     825355.0           7         marketing         20  183000.0 2013-04-29   \n",
       "2     927315.0           4         marketing         14  101000.0 2014-10-13   \n",
       "3     662910.0           7  customer_service         20  115000.0 2012-05-14   \n",
       "4     256971.0           2      data_science         23  276000.0 2011-10-17   \n",
       "\n",
       "    quit_date  churn   max_time  duration     salary_bucket  \n",
       "0  2015-10-30   True 2015-10-30       585    (70000, 89000]  \n",
       "1  2014-04-04   True 2014-04-04       340  (172000, 202000]  \n",
       "2         NaN  False 2015-12-13       426   (89000, 105000]  \n",
       "3  2013-06-07   True 2013-06-07       389  (105000, 123000]  \n",
       "4  2014-08-22   True 2014-08-22      1040  (250000, 408000]  "
      ]
     },
     "execution_count": 36,
     "metadata": {},
     "output_type": "execute_result"
    }
   ],
   "source": [
    "# double check we have what we need\n",
    "emps.head()"
   ]
  },
  {
   "cell_type": "markdown",
   "metadata": {},
   "source": [
    "### R for Survival Analysis"
   ]
  },
  {
   "cell_type": "code",
   "execution_count": 37,
   "metadata": {
    "collapsed": true
   },
   "outputs": [],
   "source": [
    "%load_ext rpy2.ipython"
   ]
  },
  {
   "cell_type": "code",
   "execution_count": 38,
   "metadata": {
    "collapsed": false
   },
   "outputs": [],
   "source": [
    "%%R \n",
    "options(width=300)\n",
    "# get the survival package if you do not have it:\n",
    "if (! length(which(.packages(all.available=TRUE) %in% \"survival\"))) {\n",
    "    install.packages(\"survival\",repos=\"http://cran.cnr.berkeley.edu/\")\n",
    "}\n",
    "# load survival package\n",
    "library(survival)"
   ]
  },
  {
   "cell_type": "code",
   "execution_count": 39,
   "metadata": {
    "collapsed": false,
    "scrolled": true
   },
   "outputs": [
    {
     "data": {
      "text/html": [
       "<div>\n",
       "<table border=\"1\" class=\"dataframe\">\n",
       "  <thead>\n",
       "    <tr style=\"text-align: right;\">\n",
       "      <th></th>\n",
       "      <th>employee_id</th>\n",
       "      <th>company_id</th>\n",
       "      <th>dept</th>\n",
       "      <th>seniority</th>\n",
       "      <th>salary</th>\n",
       "      <th>join_date</th>\n",
       "      <th>quit_date</th>\n",
       "      <th>churn</th>\n",
       "      <th>max_time</th>\n",
       "      <th>duration</th>\n",
       "      <th>salary_bucket</th>\n",
       "    </tr>\n",
       "  </thead>\n",
       "  <tbody>\n",
       "    <tr>\n",
       "      <th>0</th>\n",
       "      <td>13021.0</td>\n",
       "      <td>7</td>\n",
       "      <td>customer_service</td>\n",
       "      <td>28</td>\n",
       "      <td>89000.0</td>\n",
       "      <td>1.395637e+09</td>\n",
       "      <td>2015-10-30</td>\n",
       "      <td>1</td>\n",
       "      <td>1.446181e+09</td>\n",
       "      <td>585</td>\n",
       "      <td>(70000, 89000]</td>\n",
       "    </tr>\n",
       "    <tr>\n",
       "      <th>1</th>\n",
       "      <td>825355.0</td>\n",
       "      <td>7</td>\n",
       "      <td>marketing</td>\n",
       "      <td>20</td>\n",
       "      <td>183000.0</td>\n",
       "      <td>1.367212e+09</td>\n",
       "      <td>2014-04-04</td>\n",
       "      <td>1</td>\n",
       "      <td>1.396588e+09</td>\n",
       "      <td>340</td>\n",
       "      <td>(172000, 202000]</td>\n",
       "    </tr>\n",
       "    <tr>\n",
       "      <th>2</th>\n",
       "      <td>927315.0</td>\n",
       "      <td>4</td>\n",
       "      <td>marketing</td>\n",
       "      <td>14</td>\n",
       "      <td>101000.0</td>\n",
       "      <td>1.413176e+09</td>\n",
       "      <td>nan</td>\n",
       "      <td>0</td>\n",
       "      <td>1.449986e+09</td>\n",
       "      <td>426</td>\n",
       "      <td>(89000, 105000]</td>\n",
       "    </tr>\n",
       "    <tr>\n",
       "      <th>3</th>\n",
       "      <td>662910.0</td>\n",
       "      <td>7</td>\n",
       "      <td>customer_service</td>\n",
       "      <td>20</td>\n",
       "      <td>115000.0</td>\n",
       "      <td>1.336972e+09</td>\n",
       "      <td>2013-06-07</td>\n",
       "      <td>1</td>\n",
       "      <td>1.370581e+09</td>\n",
       "      <td>389</td>\n",
       "      <td>(105000, 123000]</td>\n",
       "    </tr>\n",
       "    <tr>\n",
       "      <th>4</th>\n",
       "      <td>256971.0</td>\n",
       "      <td>2</td>\n",
       "      <td>data_science</td>\n",
       "      <td>23</td>\n",
       "      <td>276000.0</td>\n",
       "      <td>1.318828e+09</td>\n",
       "      <td>2014-08-22</td>\n",
       "      <td>1</td>\n",
       "      <td>1.408684e+09</td>\n",
       "      <td>1040</td>\n",
       "      <td>(250000, 408000]</td>\n",
       "    </tr>\n",
       "    <tr>\n",
       "      <th>5</th>\n",
       "      <td>509529.0</td>\n",
       "      <td>4</td>\n",
       "      <td>data_science</td>\n",
       "      <td>14</td>\n",
       "      <td>165000.0</td>\n",
       "      <td>1.327903e+09</td>\n",
       "      <td>2013-08-30</td>\n",
       "      <td>1</td>\n",
       "      <td>1.377839e+09</td>\n",
       "      <td>578</td>\n",
       "      <td>(145000, 172000]</td>\n",
       "    </tr>\n",
       "  </tbody>\n",
       "</table>\n",
       "</div>"
      ],
      "text/plain": [
       "   employee_id  company_id              dept  seniority    salary  \\\n",
       "0      13021.0           7  customer_service         28   89000.0   \n",
       "1     825355.0           7         marketing         20  183000.0   \n",
       "2     927315.0           4         marketing         14  101000.0   \n",
       "3     662910.0           7  customer_service         20  115000.0   \n",
       "4     256971.0           2      data_science         23  276000.0   \n",
       "5     509529.0           4      data_science         14  165000.0   \n",
       "\n",
       "      join_date   quit_date  churn      max_time  duration     salary_bucket  \n",
       "0  1.395637e+09  2015-10-30      1  1.446181e+09       585    (70000, 89000]  \n",
       "1  1.367212e+09  2014-04-04      1  1.396588e+09       340  (172000, 202000]  \n",
       "2  1.413176e+09         nan      0  1.449986e+09       426   (89000, 105000]  \n",
       "3  1.336972e+09  2013-06-07      1  1.370581e+09       389  (105000, 123000]  \n",
       "4  1.318828e+09  2014-08-22      1  1.408684e+09      1040  (250000, 408000]  \n",
       "5  1.327903e+09  2013-08-30      1  1.377839e+09       578  (145000, 172000]  "
      ]
     },
     "execution_count": 39,
     "metadata": {},
     "output_type": "execute_result"
    }
   ],
   "source": [
    "%R -i emps # send emps DF to the R workspace\n",
    "%R attach(emps)\n",
    "%R print(head(emps)) # make sure it looks ok"
   ]
  },
  {
   "cell_type": "code",
   "execution_count": 51,
   "metadata": {
    "collapsed": false
   },
   "outputs": [],
   "source": [
    "%%R\n",
    "# let's try a cox survival regression with just seniority as a predictor\n",
    "reg1 = coxph(Surv(duration,churn) ~ seniority, emps)\n",
    "# this creates a survival object using duration and churn, first regress on seniority and store the summary as an object\n",
    "sum1 = summary(reg1)\n",
    "\n",
    "# try model with all of our variables\n",
    "reg2 = coxph(Surv(duration,churn) ~ seniority + salary + factor(company_id) + dept, emps)\n",
    "sum2 = summary(reg2)"
   ]
  },
  {
   "cell_type": "code",
   "execution_count": 52,
   "metadata": {
    "collapsed": false,
    "scrolled": true
   },
   "outputs": [
    {
     "name": "stdout",
     "output_type": "stream",
     "text": [
      "Call:\n",
      "\r\n",
      "coxph(formula = Surv(duration, churn) ~ seniority, data = emps)\n",
      "\r\n",
      "\n",
      "\r\n",
      "  n= 24700, number of events= 13508 \n",
      "\r\n",
      "\n",
      "\r\n",
      "                coef  exp(coef)   se(coef)      z Pr(>|z|)\n",
      "\r\n",
      "seniority -0.0001955  0.9998045  0.0010601 -0.184    0.854\n",
      "\r\n",
      "\n",
      "\r\n",
      "          exp(coef) exp(-coef) lower .95 upper .95\n",
      "\r\n",
      "seniority    0.9998          1    0.9977     1.002\n",
      "\r\n",
      "\n",
      "\r\n",
      "Concordance= 0.5  (se = 0.003 )\n",
      "\r\n",
      "Rsquare= 0   (max possible= 1 )\n",
      "\r\n",
      "Likelihood ratio test= 0.03  on 1 df,   p=0.8536\n",
      "\r\n",
      "Wald test            = 0.03  on 1 df,   p=0.8536\n",
      "\r\n",
      "Score (logrank) test = 0.03  on 1 df,   p=0.8536\n",
      "\r\n",
      "\n",
      "\n"
     ]
    }
   ],
   "source": [
    "%R -o sum1\n",
    "print sum1\n",
    "# let's look at a summary of the first cox regression"
   ]
  },
  {
   "cell_type": "markdown",
   "metadata": {},
   "source": [
    "The proportional hazards model does not yield a significant variable on seniority when no other variables are included, shown by the very large p-value of .935. In addition, the p-values from the likelihood ratio and Wald tests indicate that we should not reject the null hypoethesis of nonsignificance of the model. That is to say, this model is fairly worthless."
   ]
  },
  {
   "cell_type": "code",
   "execution_count": 53,
   "metadata": {
    "collapsed": false
   },
   "outputs": [
    {
     "name": "stdout",
     "output_type": "stream",
     "text": [
      "Call:\n",
      "\r\n",
      "coxph(formula = Surv(duration, churn) ~ seniority + salary + \n",
      "\r\n",
      "    factor(company_id) + dept, data = emps)\n",
      "\r\n",
      "\n",
      "\r\n",
      "  n= 24700, number of events= 13508 \n",
      "\r\n",
      "\n",
      "\r\n",
      "                           coef  exp(coef)   se(coef)      z Pr(>|z|)    \n",
      "\r\n",
      "seniority             1.029e-02  1.010e+00  1.727e-03  5.956 2.58e-09 ***\n",
      "\r\n",
      "salary               -1.801e-06  1.000e+00  2.572e-07 -7.005 2.47e-12 ***\n",
      "\r\n",
      "factor(company_id)2  -5.649e-02  9.451e-01  2.589e-02 -2.182  0.02910 *  \n",
      "\r\n",
      "factor(company_id)3   4.027e-03  1.004e+00  3.040e-02  0.132  0.89462    \n",
      "\r\n",
      "factor(company_id)4   1.584e-02  1.016e+00  3.372e-02  0.470  0.63860    \n",
      "\r\n",
      "factor(company_id)5  -2.031e-02  9.799e-01  3.591e-02 -0.565  0.57179    \n",
      "\r\n",
      "factor(company_id)6  -1.593e-02  9.842e-01  4.091e-02 -0.389  0.69705    \n",
      "\r\n",
      "factor(company_id)7  -3.030e-02  9.702e-01  4.134e-02 -0.733  0.46364    \n",
      "\r\n",
      "factor(company_id)8  -8.902e-03  9.911e-01  4.478e-02 -0.199  0.84242    \n",
      "\r\n",
      "factor(company_id)9  -2.656e-02  9.738e-01  4.645e-02 -0.572  0.56749    \n",
      "\r\n",
      "factor(company_id)10 -3.510e-03  9.965e-01  4.856e-02 -0.072  0.94238    \n",
      "\r\n",
      "factor(company_id)11  2.033e-01  1.225e+00  2.896e-01  0.702  0.48255    \n",
      "\r\n",
      "factor(company_id)12  9.945e-03  1.010e+00  2.895e-01  0.034  0.97260    \n",
      "\r\n",
      "deptdata_science      5.137e-02  1.053e+00  4.237e-02  1.212  0.22533    \n",
      "\r\n",
      "deptdesign            8.851e-02  1.093e+00  4.081e-02  2.169  0.03007 *  \n",
      "\r\n",
      "deptengineer          2.414e-02  1.024e+00  4.044e-02  0.597  0.55058    \n",
      "\r\n",
      "deptmarketing         1.119e-01  1.118e+00  3.072e-02  3.643  0.00027 ***\n",
      "\r\n",
      "deptsales             1.582e-01  1.171e+00  3.055e-02  5.177 2.25e-07 ***\n",
      "\r\n",
      "---\n",
      "\r\n",
      "Signif. codes:  0 '***' 0.001 '**' 0.01 '*' 0.05 '.' 0.1 ' ' 1\n",
      "\r\n",
      "\n",
      "\r\n",
      "                     exp(coef) exp(-coef) lower .95 upper .95\n",
      "\r\n",
      "seniority               1.0103     0.9898    1.0069    1.0138\n",
      "\r\n",
      "salary                  1.0000     1.0000    1.0000    1.0000\n",
      "\r\n",
      "factor(company_id)2     0.9451     1.0581    0.8983    0.9943\n",
      "\r\n",
      "factor(company_id)3     1.0040     0.9960    0.9460    1.0657\n",
      "\r\n",
      "factor(company_id)4     1.0160     0.9843    0.9510    1.0854\n",
      "\r\n",
      "factor(company_id)5     0.9799     1.0205    0.9133    1.0514\n",
      "\r\n",
      "factor(company_id)6     0.9842     1.0161    0.9084    1.0664\n",
      "\r\n",
      "factor(company_id)7     0.9702     1.0308    0.8947    1.0520\n",
      "\r\n",
      "factor(company_id)8     0.9911     1.0089    0.9079    1.0821\n",
      "\r\n",
      "factor(company_id)9     0.9738     1.0269    0.8891    1.0666\n",
      "\r\n",
      "factor(company_id)10    0.9965     1.0035    0.9060    1.0960\n",
      "\r\n",
      "factor(company_id)11    1.2255     0.8160    0.6948    2.1616\n",
      "\r\n",
      "factor(company_id)12    1.0100     0.9901    0.5726    1.7814\n",
      "\r\n",
      "deptdata_science        1.0527     0.9499    0.9688    1.1439\n",
      "\r\n",
      "deptdesign              1.0925     0.9153    1.0086    1.1835\n",
      "\r\n",
      "deptengineer            1.0244     0.9761    0.9464    1.1089\n",
      "\r\n",
      "deptmarketing           1.1184     0.8941    1.0531    1.1878\n",
      "\r\n",
      "deptsales               1.1714     0.8537    1.1033    1.2437\n",
      "\r\n",
      "\n",
      "\r\n",
      "Concordance= 0.535  (se = 0.003 )\n",
      "\r\n",
      "Rsquare= 0.008   (max possible= 1 )\n",
      "\r\n",
      "Likelihood ratio test= 199.9  on 18 df,   p=0\n",
      "\r\n",
      "Wald test            = 101.9  on 18 df,   p=1.003e-13\n",
      "\r\n",
      "Score (logrank) test = 194  on 18 df,   p=0\n",
      "\r\n",
      "\n",
      "\n"
     ]
    }
   ],
   "source": [
    "%R -o sum2\n",
    "print sum2\n",
    "# let's look at the second regression including seniority, salary, company, and department"
   ]
  },
  {
   "cell_type": "code",
   "execution_count": 55,
   "metadata": {
    "collapsed": false
   },
   "outputs": [
    {
     "name": "stdout",
     "output_type": "stream",
     "text": [
      "                           rho    chisq        p\n",
      "\r\n",
      "seniority            -0.030214 1.22e+01 4.86e-04\n",
      "\r\n",
      "salary                0.039334 1.97e+01 9.01e-06\n",
      "\r\n",
      "factor(company_id)2  -0.000655 5.80e-03 9.39e-01\n",
      "\r\n",
      "factor(company_id)3   0.013418 2.43e+00 1.19e-01\n",
      "\r\n",
      "factor(company_id)4   0.003642 1.79e-01 6.72e-01\n",
      "\r\n",
      "factor(company_id)5   0.004903 3.23e-01 5.70e-01\n",
      "\r\n",
      "factor(company_id)6  -0.001904 4.87e-02 8.25e-01\n",
      "\r\n",
      "factor(company_id)7   0.000646 5.62e-03 9.40e-01\n",
      "\r\n",
      "factor(company_id)8  -0.005922 4.75e-01 4.91e-01\n",
      "\r\n",
      "factor(company_id)9   0.006415 5.54e-01 4.57e-01\n",
      "\r\n",
      "factor(company_id)10  0.000172 3.98e-04 9.84e-01\n",
      "\r\n",
      "factor(company_id)11  0.002499 8.44e-02 7.71e-01\n",
      "\r\n",
      "factor(company_id)12 -0.004738 3.04e-01 5.82e-01\n",
      "\r\n",
      "deptdata_science     -0.010323 1.42e+00 2.33e-01\n",
      "\r\n",
      "deptdesign           -0.001745 4.04e-02 8.41e-01\n",
      "\r\n",
      "deptengineer         -0.017038 3.92e+00 4.76e-02\n",
      "\r\n",
      "deptmarketing        -0.014211 2.66e+00 1.03e-01\n",
      "\r\n",
      "deptsales            -0.023695 7.38e+00 6.59e-03\n",
      "\r\n",
      "GLOBAL                      NA 4.33e+01 7.14e-04\n",
      "\n"
     ]
    }
   ],
   "source": [
    "%R test2 = cox.zph(reg2) # here we are going to test the proportional hazards assumption of our model fit\n",
    "%R -o test2\n",
    "print test2"
   ]
  },
  {
   "cell_type": "markdown",
   "metadata": {
    "collapsed": true
   },
   "source": [
    "These results are much better! Overall, the p-values of the likelihood ratio and Wald tests indicate that this model is statistically significant. Looking at the model coefficients, we see strong statistical significance for the *salary*, *seniority*, and marketing and sales department variables, and minor statistical significance for company 2 as well as the design department.  \n",
    "\n",
    "Looking at the exponentiated coefficients, which reflect the multiplicative effect of the variable on the hazard rate - the churn likelihood - of a given employee, only two have a value that differs significantly from one. These are indicator variables for the marketing and sales departments, both compared to the base case of the customer service department. The values are 1.12 for marketing and 1.17 for sales, meaning that the churn likelihood of a given employee increases by 12% and 17%, respectively, compared to a customer service employee.  \n",
    "\n",
    "However, when we test the proportional hazards assumption, which is key to the model, we see that *seniority*, *salary*, and the sales department variables all violate the assumption. This means that we cannot make any meaningful conclusions about these variables or use them for prediction, which is not satisfying.  \n",
    "\n",
    "To get another view of the data, we will run similar regressions predicting *duration* and the probability of churn using OLS and logistic regression and examine the coefficients and their significance. Again, these regressions will be used as a descriptive tool to explain the relationship between independent and dependent variables, rather than for predictive purposes. When predicting *duration*, results will be biased since the data is right-censored and there is a maximum value for duration. We run into the same issue when predicting churn probability because we do not know, for example, if an employee is going to quit on 12/24/15, the first day after our observed data ends. Nevertheless, a regression will allow us to look within the dataset to see which variables are correlated with a longer tenure at the companies and which increase the likelihood of quitting in the observed window."
   ]
  },
  {
   "cell_type": "code",
   "execution_count": 82,
   "metadata": {
    "collapsed": true
   },
   "outputs": [],
   "source": [
    "# import feaure selection packages\n",
    "from sklearn.feature_selection import f_regression\n",
    "from sklearn.feature_selection import f_classif\n",
    "\n",
    "# import regression packages\n",
    "from sklearn.linear_model import LogisticRegression\n",
    "from sklearn.linear_model import LinearRegression"
   ]
  },
  {
   "cell_type": "code",
   "execution_count": 66,
   "metadata": {
    "collapsed": false
   },
   "outputs": [],
   "source": [
    "# create formulas for predicting duration and churn\n",
    "d_model = 'duration ~ seniority + salary + C(company_id) + dept'\n",
    "c_model = 'churn ~ seniority + salary + C(company_id) + dept'\n",
    "\n",
    "# create dataframes from formulas using patsy\n",
    "y_c,x_c = patsy.dmatrices(c_model,emps,return_type='dataframe')\n",
    "del y_c['churn[False]'] # delete column for churn = false since patsy does not interpret booleans\n",
    "y_d,x_d = patsy.dmatrices(d_model,emps,return_type='dataframe')"
   ]
  },
  {
   "cell_type": "code",
   "execution_count": 83,
   "metadata": {
    "collapsed": false
   },
   "outputs": [
    {
     "data": {
      "text/html": [
       "<div>\n",
       "<table border=\"1\" class=\"dataframe\">\n",
       "  <thead>\n",
       "    <tr style=\"text-align: right;\">\n",
       "      <th></th>\n",
       "      <th>coefficient</th>\n",
       "      <th>pval</th>\n",
       "      <th>sig</th>\n",
       "    </tr>\n",
       "  </thead>\n",
       "  <tbody>\n",
       "    <tr>\n",
       "      <th>Intercept</th>\n",
       "      <td>0.000000</td>\n",
       "      <td>NaN</td>\n",
       "      <td>False</td>\n",
       "    </tr>\n",
       "    <tr>\n",
       "      <th>C(company_id)[T.2]</th>\n",
       "      <td>5.228873</td>\n",
       "      <td>4.233057e-02</td>\n",
       "      <td>False</td>\n",
       "    </tr>\n",
       "    <tr>\n",
       "      <th>C(company_id)[T.3]</th>\n",
       "      <td>-0.689028</td>\n",
       "      <td>1.296118e-01</td>\n",
       "      <td>False</td>\n",
       "    </tr>\n",
       "    <tr>\n",
       "      <th>C(company_id)[T.4]</th>\n",
       "      <td>-2.462233</td>\n",
       "      <td>1.524884e-01</td>\n",
       "      <td>False</td>\n",
       "    </tr>\n",
       "    <tr>\n",
       "      <th>C(company_id)[T.5]</th>\n",
       "      <td>5.728065</td>\n",
       "      <td>6.196648e-01</td>\n",
       "      <td>False</td>\n",
       "    </tr>\n",
       "    <tr>\n",
       "      <th>C(company_id)[T.6]</th>\n",
       "      <td>2.565123</td>\n",
       "      <td>4.591815e-01</td>\n",
       "      <td>False</td>\n",
       "    </tr>\n",
       "    <tr>\n",
       "      <th>C(company_id)[T.7]</th>\n",
       "      <td>17.154424</td>\n",
       "      <td>3.978644e-01</td>\n",
       "      <td>False</td>\n",
       "    </tr>\n",
       "    <tr>\n",
       "      <th>C(company_id)[T.8]</th>\n",
       "      <td>-2.019879</td>\n",
       "      <td>3.360459e-01</td>\n",
       "      <td>False</td>\n",
       "    </tr>\n",
       "    <tr>\n",
       "      <th>C(company_id)[T.9]</th>\n",
       "      <td>2.291902</td>\n",
       "      <td>6.501625e-01</td>\n",
       "      <td>False</td>\n",
       "    </tr>\n",
       "    <tr>\n",
       "      <th>C(company_id)[T.10]</th>\n",
       "      <td>4.054267</td>\n",
       "      <td>7.016914e-01</td>\n",
       "      <td>False</td>\n",
       "    </tr>\n",
       "    <tr>\n",
       "      <th>C(company_id)[T.11]</th>\n",
       "      <td>54.131361</td>\n",
       "      <td>6.448625e-01</td>\n",
       "      <td>False</td>\n",
       "    </tr>\n",
       "    <tr>\n",
       "      <th>C(company_id)[T.12]</th>\n",
       "      <td>-3.039110</td>\n",
       "      <td>7.582966e-01</td>\n",
       "      <td>False</td>\n",
       "    </tr>\n",
       "    <tr>\n",
       "      <th>dept[T.data_science]</th>\n",
       "      <td>-8.481720</td>\n",
       "      <td>6.326810e-08</td>\n",
       "      <td>True</td>\n",
       "    </tr>\n",
       "    <tr>\n",
       "      <th>dept[T.design]</th>\n",
       "      <td>-11.948418</td>\n",
       "      <td>9.155838e-01</td>\n",
       "      <td>False</td>\n",
       "    </tr>\n",
       "    <tr>\n",
       "      <th>dept[T.engineer]</th>\n",
       "      <td>-12.241715</td>\n",
       "      <td>4.516074e-09</td>\n",
       "      <td>True</td>\n",
       "    </tr>\n",
       "    <tr>\n",
       "      <th>dept[T.marketing]</th>\n",
       "      <td>-25.439334</td>\n",
       "      <td>1.315918e-02</td>\n",
       "      <td>False</td>\n",
       "    </tr>\n",
       "    <tr>\n",
       "      <th>dept[T.sales]</th>\n",
       "      <td>-32.049824</td>\n",
       "      <td>3.864691e-04</td>\n",
       "      <td>True</td>\n",
       "    </tr>\n",
       "    <tr>\n",
       "      <th>seniority</th>\n",
       "      <td>-2.304958</td>\n",
       "      <td>9.704257e-01</td>\n",
       "      <td>False</td>\n",
       "    </tr>\n",
       "    <tr>\n",
       "      <th>salary</th>\n",
       "      <td>0.000430</td>\n",
       "      <td>2.658614e-17</td>\n",
       "      <td>True</td>\n",
       "    </tr>\n",
       "  </tbody>\n",
       "</table>\n",
       "</div>"
      ],
      "text/plain": [
       "                      coefficient          pval    sig\n",
       "Intercept                0.000000           NaN  False\n",
       "C(company_id)[T.2]       5.228873  4.233057e-02  False\n",
       "C(company_id)[T.3]      -0.689028  1.296118e-01  False\n",
       "C(company_id)[T.4]      -2.462233  1.524884e-01  False\n",
       "C(company_id)[T.5]       5.728065  6.196648e-01  False\n",
       "C(company_id)[T.6]       2.565123  4.591815e-01  False\n",
       "C(company_id)[T.7]      17.154424  3.978644e-01  False\n",
       "C(company_id)[T.8]      -2.019879  3.360459e-01  False\n",
       "C(company_id)[T.9]       2.291902  6.501625e-01  False\n",
       "C(company_id)[T.10]      4.054267  7.016914e-01  False\n",
       "C(company_id)[T.11]     54.131361  6.448625e-01  False\n",
       "C(company_id)[T.12]     -3.039110  7.582966e-01  False\n",
       "dept[T.data_science]    -8.481720  6.326810e-08   True\n",
       "dept[T.design]         -11.948418  9.155838e-01  False\n",
       "dept[T.engineer]       -12.241715  4.516074e-09   True\n",
       "dept[T.marketing]      -25.439334  1.315918e-02  False\n",
       "dept[T.sales]          -32.049824  3.864691e-04   True\n",
       "seniority               -2.304958  9.704257e-01  False\n",
       "salary                   0.000430  2.658614e-17   True"
      ]
     },
     "execution_count": 83,
     "metadata": {},
     "output_type": "execute_result"
    }
   ],
   "source": [
    "# run feature selection regression on duration model\n",
    "feat_d = f_regression(x_d, y_d)\n",
    "fit_d = LinearRegression()\n",
    "fit_d.fit(x_d,y_d)\n",
    "\n",
    "# create DF to store coefficients and p-values\n",
    "r2 = DataFrame(data=fit_d.coef_[0],index=x_d.columns.values,columns=['coefficient'])\n",
    "r2['pval'] = feat_d[1]\n",
    "r2['sig'] = r2['pval'] <= .01\n",
    "\n",
    "# show results\n",
    "r2"
   ]
  },
  {
   "cell_type": "markdown",
   "metadata": {},
   "source": [
    "When predicting duration using a linear model, we see that similar variables are significant: the data science, engineering, and sales departments (compared to the base case of customer service), as well as *salary*. Interestingly, all of the departmental indicators have negative coefficients, meaning that they all reduce the employee's duration compared to customer service. However, since the data is right-censored, we cannot conclude that these employees leave earlier. It could be the case, for example, that the data science departments are brand new at most companies and these employees simply were hired more recently. The coefficient on *salary* is highly significant, with a positive value, indicating that higher salaried employees stay longer. This confirms what we saw in the earlier pivot tables, with employee retention higher at the top and bottom ends of salary ranges. "
   ]
  },
  {
   "cell_type": "code",
   "execution_count": 84,
   "metadata": {
    "collapsed": false,
    "scrolled": false
   },
   "outputs": [
    {
     "data": {
      "text/html": [
       "<div>\n",
       "<table border=\"1\" class=\"dataframe\">\n",
       "  <thead>\n",
       "    <tr style=\"text-align: right;\">\n",
       "      <th></th>\n",
       "      <th>coefficient</th>\n",
       "      <th>pval</th>\n",
       "      <th>sig</th>\n",
       "    </tr>\n",
       "  </thead>\n",
       "  <tbody>\n",
       "    <tr>\n",
       "      <th>Intercept</th>\n",
       "      <td>1.056672e-11</td>\n",
       "      <td>NaN</td>\n",
       "      <td>False</td>\n",
       "    </tr>\n",
       "    <tr>\n",
       "      <th>C(company_id)[T.2]</th>\n",
       "      <td>3.610472e-13</td>\n",
       "      <td>4.732803e-04</td>\n",
       "      <td>True</td>\n",
       "    </tr>\n",
       "    <tr>\n",
       "      <th>C(company_id)[T.3]</th>\n",
       "      <td>1.596178e-12</td>\n",
       "      <td>2.616515e-01</td>\n",
       "      <td>False</td>\n",
       "    </tr>\n",
       "    <tr>\n",
       "      <th>C(company_id)[T.4]</th>\n",
       "      <td>1.255915e-12</td>\n",
       "      <td>2.418563e-01</td>\n",
       "      <td>False</td>\n",
       "    </tr>\n",
       "    <tr>\n",
       "      <th>C(company_id)[T.5]</th>\n",
       "      <td>1.089206e-12</td>\n",
       "      <td>2.479845e-01</td>\n",
       "      <td>False</td>\n",
       "    </tr>\n",
       "    <tr>\n",
       "      <th>C(company_id)[T.6]</th>\n",
       "      <td>6.618994e-13</td>\n",
       "      <td>7.315195e-01</td>\n",
       "      <td>False</td>\n",
       "    </tr>\n",
       "    <tr>\n",
       "      <th>C(company_id)[T.7]</th>\n",
       "      <td>8.465103e-13</td>\n",
       "      <td>1.828752e-01</td>\n",
       "      <td>False</td>\n",
       "    </tr>\n",
       "    <tr>\n",
       "      <th>C(company_id)[T.8]</th>\n",
       "      <td>5.540099e-13</td>\n",
       "      <td>6.840851e-01</td>\n",
       "      <td>False</td>\n",
       "    </tr>\n",
       "    <tr>\n",
       "      <th>C(company_id)[T.9]</th>\n",
       "      <td>4.744989e-13</td>\n",
       "      <td>8.198337e-01</td>\n",
       "      <td>False</td>\n",
       "    </tr>\n",
       "    <tr>\n",
       "      <th>C(company_id)[T.10]</th>\n",
       "      <td>4.739145e-13</td>\n",
       "      <td>6.514655e-01</td>\n",
       "      <td>False</td>\n",
       "    </tr>\n",
       "    <tr>\n",
       "      <th>C(company_id)[T.11]</th>\n",
       "      <td>4.995680e-14</td>\n",
       "      <td>1.025489e-01</td>\n",
       "      <td>False</td>\n",
       "    </tr>\n",
       "    <tr>\n",
       "      <th>C(company_id)[T.12]</th>\n",
       "      <td>-2.352575e-15</td>\n",
       "      <td>6.443765e-01</td>\n",
       "      <td>False</td>\n",
       "    </tr>\n",
       "    <tr>\n",
       "      <th>dept[T.data_science]</th>\n",
       "      <td>2.537873e-13</td>\n",
       "      <td>1.711474e-02</td>\n",
       "      <td>False</td>\n",
       "    </tr>\n",
       "    <tr>\n",
       "      <th>dept[T.design]</th>\n",
       "      <td>8.962528e-13</td>\n",
       "      <td>1.947018e-01</td>\n",
       "      <td>False</td>\n",
       "    </tr>\n",
       "    <tr>\n",
       "      <th>dept[T.engineer]</th>\n",
       "      <td>-5.504114e-13</td>\n",
       "      <td>1.226911e-07</td>\n",
       "      <td>True</td>\n",
       "    </tr>\n",
       "    <tr>\n",
       "      <th>dept[T.marketing]</th>\n",
       "      <td>2.026358e-12</td>\n",
       "      <td>5.316420e-02</td>\n",
       "      <td>False</td>\n",
       "    </tr>\n",
       "    <tr>\n",
       "      <th>dept[T.sales]</th>\n",
       "      <td>2.363877e-12</td>\n",
       "      <td>3.559712e-03</td>\n",
       "      <td>True</td>\n",
       "    </tr>\n",
       "    <tr>\n",
       "      <th>seniority</th>\n",
       "      <td>1.375010e-10</td>\n",
       "      <td>9.657149e-01</td>\n",
       "      <td>False</td>\n",
       "    </tr>\n",
       "    <tr>\n",
       "      <th>salary</th>\n",
       "      <td>8.208950e-07</td>\n",
       "      <td>8.335695e-09</td>\n",
       "      <td>True</td>\n",
       "    </tr>\n",
       "  </tbody>\n",
       "</table>\n",
       "</div>"
      ],
      "text/plain": [
       "                       coefficient          pval    sig\n",
       "Intercept             1.056672e-11           NaN  False\n",
       "C(company_id)[T.2]    3.610472e-13  4.732803e-04   True\n",
       "C(company_id)[T.3]    1.596178e-12  2.616515e-01  False\n",
       "C(company_id)[T.4]    1.255915e-12  2.418563e-01  False\n",
       "C(company_id)[T.5]    1.089206e-12  2.479845e-01  False\n",
       "C(company_id)[T.6]    6.618994e-13  7.315195e-01  False\n",
       "C(company_id)[T.7]    8.465103e-13  1.828752e-01  False\n",
       "C(company_id)[T.8]    5.540099e-13  6.840851e-01  False\n",
       "C(company_id)[T.9]    4.744989e-13  8.198337e-01  False\n",
       "C(company_id)[T.10]   4.739145e-13  6.514655e-01  False\n",
       "C(company_id)[T.11]   4.995680e-14  1.025489e-01  False\n",
       "C(company_id)[T.12]  -2.352575e-15  6.443765e-01  False\n",
       "dept[T.data_science]  2.537873e-13  1.711474e-02  False\n",
       "dept[T.design]        8.962528e-13  1.947018e-01  False\n",
       "dept[T.engineer]     -5.504114e-13  1.226911e-07   True\n",
       "dept[T.marketing]     2.026358e-12  5.316420e-02  False\n",
       "dept[T.sales]         2.363877e-12  3.559712e-03   True\n",
       "seniority             1.375010e-10  9.657149e-01  False\n",
       "salary                8.208950e-07  8.335695e-09   True"
      ]
     },
     "execution_count": 84,
     "metadata": {},
     "output_type": "execute_result"
    }
   ],
   "source": [
    "# run feature selection classifier on churn model\n",
    "feat_c = f_classif(x_c, y_c)\n",
    "fit_c = LogisticRegression()\n",
    "fit_c.fit(x_c,y_c)\n",
    "\n",
    "# create DF to store coefficients and p-values\n",
    "r2 = DataFrame(data=fit_c.coef_[0],index=x_c.columns.values,columns=['coefficient'])\n",
    "r2['pval'] = feat_c[1]\n",
    "r2['sig'] = r2['pval'] <= .01\n",
    "\n",
    "# show results\n",
    "r2"
   ]
  },
  {
   "cell_type": "markdown",
   "metadata": {},
   "source": [
    "Looking at a model that predicts the probability of churning, similar variables are significant at the 1% level: company 2, engineering, and sales indicators, and *salary*. Other than engineering, the coefficients are all positive, indicating their presence increases the likelihood of churning in the observed time period. We saw that employees in the sales department are retained at a lower rate, so this makes sense. However, we also observed that higher salaried employees tend to stick around, which is the opposite of the result observed here. It could be that the large number of employees in the middle salary range - who churn at rates above the top and bottom ends of salary - could be forcing the coefficient to a positive value. To confirm, let's swap the *salary* variable for *salary_bucket* and compare the results again."
   ]
  },
  {
   "cell_type": "code",
   "execution_count": 85,
   "metadata": {
    "collapsed": false
   },
   "outputs": [
    {
     "data": {
      "text/html": [
       "<div>\n",
       "<table border=\"1\" class=\"dataframe\">\n",
       "  <thead>\n",
       "    <tr style=\"text-align: right;\">\n",
       "      <th></th>\n",
       "      <th>coefficient</th>\n",
       "      <th>pval</th>\n",
       "      <th>sig</th>\n",
       "    </tr>\n",
       "  </thead>\n",
       "  <tbody>\n",
       "    <tr>\n",
       "      <th>Intercept</th>\n",
       "      <td>-0.014380</td>\n",
       "      <td>NaN</td>\n",
       "      <td>False</td>\n",
       "    </tr>\n",
       "    <tr>\n",
       "      <th>salary_bucket[T.(52000, 70000]]</th>\n",
       "      <td>0.224751</td>\n",
       "      <td>5.794206e-01</td>\n",
       "      <td>False</td>\n",
       "    </tr>\n",
       "    <tr>\n",
       "      <th>salary_bucket[T.(70000, 89000]]</th>\n",
       "      <td>0.295954</td>\n",
       "      <td>7.257349e-01</td>\n",
       "      <td>False</td>\n",
       "    </tr>\n",
       "    <tr>\n",
       "      <th>salary_bucket[T.(89000, 105000]]</th>\n",
       "      <td>0.382340</td>\n",
       "      <td>5.218173e-03</td>\n",
       "      <td>True</td>\n",
       "    </tr>\n",
       "    <tr>\n",
       "      <th>salary_bucket[T.(105000, 123000]]</th>\n",
       "      <td>0.465559</td>\n",
       "      <td>1.039523e-05</td>\n",
       "      <td>True</td>\n",
       "    </tr>\n",
       "    <tr>\n",
       "      <th>salary_bucket[T.(123000, 145000]]</th>\n",
       "      <td>0.567137</td>\n",
       "      <td>2.136445e-10</td>\n",
       "      <td>True</td>\n",
       "    </tr>\n",
       "    <tr>\n",
       "      <th>salary_bucket[T.(145000, 172000]]</th>\n",
       "      <td>0.472649</td>\n",
       "      <td>2.256934e-05</td>\n",
       "      <td>True</td>\n",
       "    </tr>\n",
       "    <tr>\n",
       "      <th>salary_bucket[T.(172000, 202000]]</th>\n",
       "      <td>0.429016</td>\n",
       "      <td>2.776359e-02</td>\n",
       "      <td>False</td>\n",
       "    </tr>\n",
       "    <tr>\n",
       "      <th>salary_bucket[T.(202000, 250000]]</th>\n",
       "      <td>0.298422</td>\n",
       "      <td>1.412192e-01</td>\n",
       "      <td>False</td>\n",
       "    </tr>\n",
       "    <tr>\n",
       "      <th>salary_bucket[T.(250000, 408000]]</th>\n",
       "      <td>-0.069085</td>\n",
       "      <td>3.332805e-33</td>\n",
       "      <td>True</td>\n",
       "    </tr>\n",
       "    <tr>\n",
       "      <th>C(company_id)[T.2]</th>\n",
       "      <td>-0.084843</td>\n",
       "      <td>4.732803e-04</td>\n",
       "      <td>True</td>\n",
       "    </tr>\n",
       "    <tr>\n",
       "      <th>C(company_id)[T.3]</th>\n",
       "      <td>0.035625</td>\n",
       "      <td>2.616515e-01</td>\n",
       "      <td>False</td>\n",
       "    </tr>\n",
       "    <tr>\n",
       "      <th>C(company_id)[T.4]</th>\n",
       "      <td>0.048828</td>\n",
       "      <td>2.418563e-01</td>\n",
       "      <td>False</td>\n",
       "    </tr>\n",
       "    <tr>\n",
       "      <th>C(company_id)[T.5]</th>\n",
       "      <td>0.049067</td>\n",
       "      <td>2.479845e-01</td>\n",
       "      <td>False</td>\n",
       "    </tr>\n",
       "    <tr>\n",
       "      <th>C(company_id)[T.6]</th>\n",
       "      <td>0.013285</td>\n",
       "      <td>7.315195e-01</td>\n",
       "      <td>False</td>\n",
       "    </tr>\n",
       "    <tr>\n",
       "      <th>C(company_id)[T.7]</th>\n",
       "      <td>0.067144</td>\n",
       "      <td>1.828752e-01</td>\n",
       "      <td>False</td>\n",
       "    </tr>\n",
       "    <tr>\n",
       "      <th>C(company_id)[T.8]</th>\n",
       "      <td>0.024881</td>\n",
       "      <td>6.840851e-01</td>\n",
       "      <td>False</td>\n",
       "    </tr>\n",
       "    <tr>\n",
       "      <th>C(company_id)[T.9]</th>\n",
       "      <td>0.017293</td>\n",
       "      <td>8.198337e-01</td>\n",
       "      <td>False</td>\n",
       "    </tr>\n",
       "    <tr>\n",
       "      <th>C(company_id)[T.10]</th>\n",
       "      <td>0.023867</td>\n",
       "      <td>6.514655e-01</td>\n",
       "      <td>False</td>\n",
       "    </tr>\n",
       "    <tr>\n",
       "      <th>C(company_id)[T.11]</th>\n",
       "      <td>0.737954</td>\n",
       "      <td>1.025489e-01</td>\n",
       "      <td>False</td>\n",
       "    </tr>\n",
       "    <tr>\n",
       "      <th>C(company_id)[T.12]</th>\n",
       "      <td>-0.057903</td>\n",
       "      <td>6.443765e-01</td>\n",
       "      <td>False</td>\n",
       "    </tr>\n",
       "    <tr>\n",
       "      <th>dept[T.data_science]</th>\n",
       "      <td>-0.033549</td>\n",
       "      <td>1.711474e-02</td>\n",
       "      <td>False</td>\n",
       "    </tr>\n",
       "    <tr>\n",
       "      <th>dept[T.design]</th>\n",
       "      <td>-0.045563</td>\n",
       "      <td>1.947018e-01</td>\n",
       "      <td>False</td>\n",
       "    </tr>\n",
       "    <tr>\n",
       "      <th>dept[T.engineer]</th>\n",
       "      <td>-0.100473</td>\n",
       "      <td>1.226911e-07</td>\n",
       "      <td>True</td>\n",
       "    </tr>\n",
       "    <tr>\n",
       "      <th>dept[T.marketing]</th>\n",
       "      <td>-0.044993</td>\n",
       "      <td>5.316420e-02</td>\n",
       "      <td>False</td>\n",
       "    </tr>\n",
       "    <tr>\n",
       "      <th>dept[T.sales]</th>\n",
       "      <td>-0.016746</td>\n",
       "      <td>3.559712e-03</td>\n",
       "      <td>True</td>\n",
       "    </tr>\n",
       "    <tr>\n",
       "      <th>seniority</th>\n",
       "      <td>-0.004120</td>\n",
       "      <td>9.657149e-01</td>\n",
       "      <td>False</td>\n",
       "    </tr>\n",
       "  </tbody>\n",
       "</table>\n",
       "</div>"
      ],
      "text/plain": [
       "                                   coefficient          pval    sig\n",
       "Intercept                            -0.014380           NaN  False\n",
       "salary_bucket[T.(52000, 70000]]       0.224751  5.794206e-01  False\n",
       "salary_bucket[T.(70000, 89000]]       0.295954  7.257349e-01  False\n",
       "salary_bucket[T.(89000, 105000]]      0.382340  5.218173e-03   True\n",
       "salary_bucket[T.(105000, 123000]]     0.465559  1.039523e-05   True\n",
       "salary_bucket[T.(123000, 145000]]     0.567137  2.136445e-10   True\n",
       "salary_bucket[T.(145000, 172000]]     0.472649  2.256934e-05   True\n",
       "salary_bucket[T.(172000, 202000]]     0.429016  2.776359e-02  False\n",
       "salary_bucket[T.(202000, 250000]]     0.298422  1.412192e-01  False\n",
       "salary_bucket[T.(250000, 408000]]    -0.069085  3.332805e-33   True\n",
       "C(company_id)[T.2]                   -0.084843  4.732803e-04   True\n",
       "C(company_id)[T.3]                    0.035625  2.616515e-01  False\n",
       "C(company_id)[T.4]                    0.048828  2.418563e-01  False\n",
       "C(company_id)[T.5]                    0.049067  2.479845e-01  False\n",
       "C(company_id)[T.6]                    0.013285  7.315195e-01  False\n",
       "C(company_id)[T.7]                    0.067144  1.828752e-01  False\n",
       "C(company_id)[T.8]                    0.024881  6.840851e-01  False\n",
       "C(company_id)[T.9]                    0.017293  8.198337e-01  False\n",
       "C(company_id)[T.10]                   0.023867  6.514655e-01  False\n",
       "C(company_id)[T.11]                   0.737954  1.025489e-01  False\n",
       "C(company_id)[T.12]                  -0.057903  6.443765e-01  False\n",
       "dept[T.data_science]                 -0.033549  1.711474e-02  False\n",
       "dept[T.design]                       -0.045563  1.947018e-01  False\n",
       "dept[T.engineer]                     -0.100473  1.226911e-07   True\n",
       "dept[T.marketing]                    -0.044993  5.316420e-02  False\n",
       "dept[T.sales]                        -0.016746  3.559712e-03   True\n",
       "seniority                            -0.004120  9.657149e-01  False"
      ]
     },
     "execution_count": 85,
     "metadata": {},
     "output_type": "execute_result"
    }
   ],
   "source": [
    "# define new formula with salary bucket instead of salary\n",
    "c_model2 = 'churn ~ seniority + salary_bucket + C(company_id) + dept'\n",
    "\n",
    "# create dataframes from formulas using patsy\n",
    "y_c,x_c = patsy.dmatrices(c_model2,emps,return_type='dataframe')\n",
    "del y_c['churn[False]'] # delete column for churn = false since patsy does not interpret booleans\n",
    "\n",
    "# run feature selection classifier on churn model\n",
    "feat_c = f_classif(x_c, y_c)\n",
    "fit_c = LogisticRegression()\n",
    "fit_c.fit(x_c,y_c)\n",
    "\n",
    "# create DF to store coefficients and p-values\n",
    "r2 = DataFrame(data=fit_c.coef_[0],index=x_c.columns.values,columns=['coefficient'])\n",
    "r2['pval'] = feat_c[1]\n",
    "r2['sig'] = r2['pval'] <= .01\n",
    "\n",
    "# show results\n",
    "r2"
   ]
  },
  {
   "cell_type": "markdown",
   "metadata": {},
   "source": [
    "Using salary buckets instead of salary as a continuous variable, we see our initial observations confirmed. For the salary bucket variable, the base case is the lowest salary bucket, which we observed to have a lower churn rate than the middle salary range, but not quite as low as the highest salary range. The middle buckets - representing 89k to 172k - are all signifcant with positive coeffients, indicating they increase the likelihood of churn. The highest salary bucket is also significant, with a negative coefficient, indicating that churn is less likely for these employees than even the low-churning bottom salary range. Other conclusions remain the same."
   ]
  },
  {
   "cell_type": "markdown",
   "metadata": {
    "collapsed": true
   },
   "source": [
    "## Conclusion\n",
    "\n",
    "Overall, we see that two variables play the largest role in affecting churn: department and, more importantly, salary. Employees in the middle salary range are more likely to churn and have lower employment durations (in our observed window) than employees at the low or high end. There could be a few causes for this. The employees with the lowest wages may be have the least experience, and so even if they are not fundamentallly different than other employees, they may be less inclined to leave their job for another. Or, they may be of a lower ability and less marketable, so have fewer exit opportunities. Conversely, on the high end, employees that are well-compensated need extraordinary motivation to leave, so it makes sense they churn at a lower rate. The middle range represents typical employees in the middle of their careers and on the lookout for new opportunities - unless they are data scientists! We also see that across departments, there is some variance in churn and retention. The marketing and sales departments churn at a higher rate than engineers or data scientists. \n",
    "\n",
    "If we were to add another variable, it would certainly be related to salary since that appears to be the variable that affects churn the most. For example, the salary a given employee was paid at a previous job would allow us to better determine if their current job is a major upgrade (probably less likely to churn) or more of a lateral move (probably more likely). Information about where the employee goes next would also be useful, but only in a backward-looking sense and not for predictive purposes. "
   ]
  }
 ],
 "metadata": {
  "anaconda-cloud": {},
  "kernelspec": {
   "display_name": "Python [Root]",
   "language": "python",
   "name": "Python [Root]"
  },
  "language_info": {
   "codemirror_mode": {
    "name": "ipython",
    "version": 2
   },
   "file_extension": ".py",
   "mimetype": "text/x-python",
   "name": "python",
   "nbconvert_exporter": "python",
   "pygments_lexer": "ipython2",
   "version": "2.7.11"
  }
 },
 "nbformat": 4,
 "nbformat_minor": 0
}
