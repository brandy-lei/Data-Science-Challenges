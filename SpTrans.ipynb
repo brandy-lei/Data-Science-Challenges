{
 "cells": [
  {
   "cell_type": "markdown",
   "metadata": {},
   "source": [
    "# Spanish Translation A/B Test Challenge\n",
    "\n",
    "### Jon Zeller\n",
    "### 12-21-2016\n",
    "\n",
    "## Problem Statement\n",
    "You are asked to:  \n",
    "--Confirm that the test is actually negative. That is, it appears that the old version of the site with just one translation across Spain and LatAm performs better  \n",
    "--Explain why that might be happening. Are the localized translations really worse?  \n",
    "--If you identified what was wrong, design an algorithm that would return FALSE if thesame problem is happening in the future and TRUE if everything is good and the results can be trusted."
   ]
  },
  {
   "cell_type": "markdown",
   "metadata": {},
   "source": [
    "## Data Description\n",
    "\n",
    "#### Test Table\n",
    "--user_id : the id of the user. Unique by user. Can be joined to user id in the other table. For each user, we just check whether conversion happens the first time they land on the site since the test started.  \n",
    "--date : when they came to the site for the first time since the test started  \n",
    "--source : marketing channel: Ads, SEO, Direct . Direct means everything except for ads and SEO. Such as directly typing site URL on the browser, downloading the app w/o coming from SEO or Ads, referral friend, etc.  \n",
    "--device : device used by the user. It can be mobile or web  \n",
    "--browser_language : in browser or app settings, the language chosen by the user. It can be EN, ES, Other (Other means any language except for English and Spanish)  \n",
    "--ads_channel : if marketing channel is ads, this is the site where the ad was displayed. It can be: Google, Facebook, Bing, Yahoo ,Other. If the user didn't come via an ad, this field is NA  \n",
    "--browser : user browser. It can be: IE, Chrome, Android_App, FireFox, Iphone_App, Safari, Opera  \n",
    "--conversion : whether the user converted (1) or not (0). This is our label. A test is considered successful if it increases the proportion of users who convert.  \n",
    "--test : users are randomly split into test (1) and control (0). Test users see the new translation and control the old one. For Spain-based users, this is obviously always 0 since there is no change there.  \n",
    "\n",
    "#### User Table\n",
    "--user_id : the id of the user. It can be joined to user id in the other table  \n",
    "--sex : user sex: Male or Female  \n",
    "--age : user age (self-reported)  \n",
    "--country : user country based on ip address  "
   ]
  },
  {
   "cell_type": "markdown",
   "metadata": {},
   "source": [
    "### Part 0 - Setup, Import, and Exploration\n",
    "\n",
    "Before performing any analysis, we will import the data and perform a little bit of exploration to ensure everything looks normal enough to proceed. This will mostly involve checking for missing values and examining the distributions of variables to perform a 'sanity check.'"
   ]
  },
  {
   "cell_type": "code",
   "execution_count": 2,
   "metadata": {
    "collapsed": false
   },
   "outputs": [
    {
     "name": "stdout",
     "output_type": "stream",
     "text": [
      "Populating the interactive namespace from numpy and matplotlib\n"
     ]
    }
   ],
   "source": [
    "# setup and import\n",
    "## basics\n",
    "import pandas as pd\n",
    "import numpy as np\n",
    "from pandas import DataFrame, Series\n",
    "\n",
    "## date manipulation\n",
    "from dateutil.parser import parse\n",
    "\n",
    "## plotting\n",
    "import matplotlib.pyplot as plt\n",
    "%pylab inline\n",
    "\n",
    "## formulas\n",
    "import patsy"
   ]
  },
  {
   "cell_type": "code",
   "execution_count": 3,
   "metadata": {
    "collapsed": true
   },
   "outputs": [],
   "source": [
    "# create dataframes of provided data, setting index to user_id\n",
    "test = pd.read_csv('test_table.csv',index_col='user_id')\n",
    "user = pd.read_csv('user_table.csv',index_col='user_id')"
   ]
  },
  {
   "cell_type": "code",
   "execution_count": 4,
   "metadata": {
    "collapsed": false
   },
   "outputs": [
    {
     "data": {
      "text/plain": [
       "1.0"
      ]
     },
     "execution_count": 4,
     "metadata": {},
     "output_type": "execute_result"
    }
   ],
   "source": [
    "# check for duplicate indices\n",
    "len(test.index.values)/(len(Series(test.index.values).unique())*1.0)\n",
    "## length of the index divided by the length of the de-duplicated index is 1, no duplicates! this means one entry per user"
   ]
  },
  {
   "cell_type": "code",
   "execution_count": 5,
   "metadata": {
    "collapsed": false
   },
   "outputs": [
    {
     "data": {
      "text/plain": [
       "1.0"
      ]
     },
     "execution_count": 5,
     "metadata": {},
     "output_type": "execute_result"
    }
   ],
   "source": [
    "len(user.index.values)/(len(Series(user.index.values).unique())*1.0)\n",
    "## length of the index divided by the length of the de-duplicated index is 1, no duplicates! this means one entry per user"
   ]
  },
  {
   "cell_type": "code",
   "execution_count": 6,
   "metadata": {
    "collapsed": false
   },
   "outputs": [
    {
     "data": {
      "text/html": [
       "<div>\n",
       "<table border=\"1\" class=\"dataframe\">\n",
       "  <thead>\n",
       "    <tr style=\"text-align: right;\">\n",
       "      <th></th>\n",
       "      <th>date</th>\n",
       "      <th>source</th>\n",
       "      <th>device</th>\n",
       "      <th>browser_language</th>\n",
       "      <th>ads_channel</th>\n",
       "      <th>browser</th>\n",
       "      <th>conversion</th>\n",
       "      <th>test</th>\n",
       "    </tr>\n",
       "    <tr>\n",
       "      <th>user_id</th>\n",
       "      <th></th>\n",
       "      <th></th>\n",
       "      <th></th>\n",
       "      <th></th>\n",
       "      <th></th>\n",
       "      <th></th>\n",
       "      <th></th>\n",
       "      <th></th>\n",
       "    </tr>\n",
       "  </thead>\n",
       "  <tbody>\n",
       "    <tr>\n",
       "      <th>315281</th>\n",
       "      <td>2015-12-03</td>\n",
       "      <td>Direct</td>\n",
       "      <td>Web</td>\n",
       "      <td>ES</td>\n",
       "      <td>NaN</td>\n",
       "      <td>IE</td>\n",
       "      <td>1</td>\n",
       "      <td>0</td>\n",
       "    </tr>\n",
       "    <tr>\n",
       "      <th>497851</th>\n",
       "      <td>2015-12-04</td>\n",
       "      <td>Ads</td>\n",
       "      <td>Web</td>\n",
       "      <td>ES</td>\n",
       "      <td>Google</td>\n",
       "      <td>IE</td>\n",
       "      <td>0</td>\n",
       "      <td>1</td>\n",
       "    </tr>\n",
       "    <tr>\n",
       "      <th>848402</th>\n",
       "      <td>2015-12-04</td>\n",
       "      <td>Ads</td>\n",
       "      <td>Web</td>\n",
       "      <td>ES</td>\n",
       "      <td>Facebook</td>\n",
       "      <td>Chrome</td>\n",
       "      <td>0</td>\n",
       "      <td>0</td>\n",
       "    </tr>\n",
       "    <tr>\n",
       "      <th>290051</th>\n",
       "      <td>2015-12-03</td>\n",
       "      <td>Ads</td>\n",
       "      <td>Mobile</td>\n",
       "      <td>Other</td>\n",
       "      <td>Facebook</td>\n",
       "      <td>Android_App</td>\n",
       "      <td>0</td>\n",
       "      <td>1</td>\n",
       "    </tr>\n",
       "    <tr>\n",
       "      <th>548435</th>\n",
       "      <td>2015-11-30</td>\n",
       "      <td>Ads</td>\n",
       "      <td>Web</td>\n",
       "      <td>ES</td>\n",
       "      <td>Google</td>\n",
       "      <td>FireFox</td>\n",
       "      <td>0</td>\n",
       "      <td>1</td>\n",
       "    </tr>\n",
       "  </tbody>\n",
       "</table>\n",
       "</div>"
      ],
      "text/plain": [
       "               date  source  device browser_language ads_channel      browser  \\\n",
       "user_id                                                                         \n",
       "315281   2015-12-03  Direct     Web               ES         NaN           IE   \n",
       "497851   2015-12-04     Ads     Web               ES      Google           IE   \n",
       "848402   2015-12-04     Ads     Web               ES    Facebook       Chrome   \n",
       "290051   2015-12-03     Ads  Mobile            Other    Facebook  Android_App   \n",
       "548435   2015-11-30     Ads     Web               ES      Google      FireFox   \n",
       "\n",
       "         conversion  test  \n",
       "user_id                    \n",
       "315281            1     0  \n",
       "497851            0     1  \n",
       "848402            0     0  \n",
       "290051            0     1  \n",
       "548435            0     1  "
      ]
     },
     "execution_count": 6,
     "metadata": {},
     "output_type": "execute_result"
    }
   ],
   "source": [
    "# let's look at the first few rows\n",
    "test.head()"
   ]
  },
  {
   "cell_type": "code",
   "execution_count": 7,
   "metadata": {
    "collapsed": false
   },
   "outputs": [
    {
     "data": {
      "text/html": [
       "<div>\n",
       "<table border=\"1\" class=\"dataframe\">\n",
       "  <thead>\n",
       "    <tr style=\"text-align: right;\">\n",
       "      <th></th>\n",
       "      <th>sex</th>\n",
       "      <th>age</th>\n",
       "      <th>country</th>\n",
       "    </tr>\n",
       "    <tr>\n",
       "      <th>user_id</th>\n",
       "      <th></th>\n",
       "      <th></th>\n",
       "      <th></th>\n",
       "    </tr>\n",
       "  </thead>\n",
       "  <tbody>\n",
       "    <tr>\n",
       "      <th>765821</th>\n",
       "      <td>M</td>\n",
       "      <td>20</td>\n",
       "      <td>Mexico</td>\n",
       "    </tr>\n",
       "    <tr>\n",
       "      <th>343561</th>\n",
       "      <td>F</td>\n",
       "      <td>27</td>\n",
       "      <td>Nicaragua</td>\n",
       "    </tr>\n",
       "    <tr>\n",
       "      <th>118744</th>\n",
       "      <td>M</td>\n",
       "      <td>23</td>\n",
       "      <td>Colombia</td>\n",
       "    </tr>\n",
       "    <tr>\n",
       "      <th>987753</th>\n",
       "      <td>F</td>\n",
       "      <td>27</td>\n",
       "      <td>Venezuela</td>\n",
       "    </tr>\n",
       "    <tr>\n",
       "      <th>554597</th>\n",
       "      <td>F</td>\n",
       "      <td>20</td>\n",
       "      <td>Spain</td>\n",
       "    </tr>\n",
       "  </tbody>\n",
       "</table>\n",
       "</div>"
      ],
      "text/plain": [
       "        sex  age    country\n",
       "user_id                    \n",
       "765821    M   20     Mexico\n",
       "343561    F   27  Nicaragua\n",
       "118744    M   23   Colombia\n",
       "987753    F   27  Venezuela\n",
       "554597    F   20      Spain"
      ]
     },
     "execution_count": 7,
     "metadata": {},
     "output_type": "execute_result"
    }
   ],
   "source": [
    "user.head()"
   ]
  },
  {
   "cell_type": "code",
   "execution_count": 8,
   "metadata": {
    "collapsed": false
   },
   "outputs": [
    {
     "data": {
      "text/plain": [
       "date                object\n",
       "source              object\n",
       "device              object\n",
       "browser_language    object\n",
       "ads_channel         object\n",
       "browser             object\n",
       "conversion           int64\n",
       "test                 int64\n",
       "dtype: object"
      ]
     },
     "execution_count": 8,
     "metadata": {},
     "output_type": "execute_result"
    }
   ],
   "source": [
    "# let's look at the data types to ensure everything is what it should be\n",
    "test.dtypes\n",
    "\n",
    "## we want conversion and test to be integers - looks good! \n",
    "## everything else is an object/string - let's convert date into a date so we can use it later if needed"
   ]
  },
  {
   "cell_type": "code",
   "execution_count": 9,
   "metadata": {
    "collapsed": true
   },
   "outputs": [],
   "source": [
    "test['date'] = test['date'].map(lambda x: parse(x))"
   ]
  },
  {
   "cell_type": "code",
   "execution_count": 10,
   "metadata": {
    "collapsed": false,
    "scrolled": true
   },
   "outputs": [
    {
     "data": {
      "text/plain": [
       "sex        object\n",
       "age         int64\n",
       "country    object\n",
       "dtype: object"
      ]
     },
     "execution_count": 10,
     "metadata": {},
     "output_type": "execute_result"
    }
   ],
   "source": [
    "user.dtypes\n",
    "\n",
    "## everything looks ok here!"
   ]
  },
  {
   "cell_type": "code",
   "execution_count": 11,
   "metadata": {
    "collapsed": true
   },
   "outputs": [],
   "source": [
    "# Let's see if we have any missing values - let's define a function to give us the \"fill percentage\" of each column in a df:\n",
    "\n",
    "def fillprc(dff):\n",
    "    fillprc = [] # initialize empty list to be returned later\n",
    "    dfcols = list(dff.columns.values) # get list of all column names\n",
    "    for i in range(0,len(dfcols)): # loop through each column and get percentage filled, defined as ratio of lengths\n",
    "        colname = dfcols[i]\n",
    "        collfillprc = float(dff[dfcols[i]].value_counts().sum())/dff[dfcols[i]].value_counts(dropna=False).sum()\n",
    "    \n",
    "        fillprc.append((colname,collfillprc)) # add tuple of colname and percentage filled to list\n",
    "     \n",
    "    missinglist = [f for f in fillprc if f[1] != 1] # Filter fillprc list for less than 100%\n",
    "\n",
    "    return missinglist # spit out the list"
   ]
  },
  {
   "cell_type": "code",
   "execution_count": 12,
   "metadata": {
    "collapsed": false
   },
   "outputs": [
    {
     "data": {
      "text/plain": [
       "[('ads_channel', 0.40121017998283776)]"
      ]
     },
     "execution_count": 12,
     "metadata": {},
     "output_type": "execute_result"
    }
   ],
   "source": [
    "fillprc(test)\n",
    "## everything is 100% filled except ads channel. From the data description, we know a missing value here means the user did\n",
    "## not come via an ad. let's fill this in so we can use for later analysis"
   ]
  },
  {
   "cell_type": "code",
   "execution_count": 13,
   "metadata": {
    "collapsed": true
   },
   "outputs": [],
   "source": [
    "test['ads_channel'] = test['ads_channel'].fillna(value='None')"
   ]
  },
  {
   "cell_type": "code",
   "execution_count": 14,
   "metadata": {
    "collapsed": false
   },
   "outputs": [
    {
     "data": {
      "text/plain": [
       "None        271444\n",
       "Facebook     68425\n",
       "Google       68180\n",
       "Yahoo        27435\n",
       "Bing         13689\n",
       "Other         4148\n",
       "Name: ads_channel, dtype: int64"
      ]
     },
     "execution_count": 14,
     "metadata": {},
     "output_type": "execute_result"
    }
   ],
   "source": [
    "test['ads_channel'].value_counts()\n",
    "## looks good!"
   ]
  },
  {
   "cell_type": "code",
   "execution_count": 15,
   "metadata": {
    "collapsed": false
   },
   "outputs": [
    {
     "data": {
      "text/plain": [
       "[]"
      ]
     },
     "execution_count": 15,
     "metadata": {},
     "output_type": "execute_result"
    }
   ],
   "source": [
    "fillprc(user)\n",
    "## no missing values here - excellent!"
   ]
  },
  {
   "cell_type": "code",
   "execution_count": 16,
   "metadata": {
    "collapsed": false
   },
   "outputs": [
    {
     "data": {
      "text/plain": [
       "ES       377547\n",
       "EN        63137\n",
       "Other     12637\n",
       "Name: browser_language, dtype: int64"
      ]
     },
     "execution_count": 16,
     "metadata": {},
     "output_type": "execute_result"
    }
   ],
   "source": [
    "# Let's sanity check a few different columns in each dataframe\n",
    "\n",
    "test['browser_language'].value_counts()\n",
    "## makes sense - mostly in Spanish, some English, and a few others"
   ]
  },
  {
   "cell_type": "code",
   "execution_count": 17,
   "metadata": {
    "collapsed": false
   },
   "outputs": [
    {
     "data": {
      "text/plain": [
       "Android_App    155135\n",
       "Chrome         101929\n",
       "IE              61715\n",
       "Iphone_App      46621\n",
       "Safari          41065\n",
       "FireFox         40766\n",
       "Opera            6090\n",
       "Name: browser, dtype: int64"
      ]
     },
     "execution_count": 17,
     "metadata": {},
     "output_type": "execute_result"
    }
   ],
   "source": [
    "test['browser'].value_counts()\n",
    "## seems reasonable - our users appear to be big fans of Google!"
   ]
  },
  {
   "cell_type": "code",
   "execution_count": 18,
   "metadata": {
    "collapsed": false
   },
   "outputs": [
    {
     "data": {
      "text/plain": [
       "2015-12-04    141163\n",
       "2015-12-03     99493\n",
       "2015-11-30     71025\n",
       "2015-12-01     70991\n",
       "2015-12-02     70649\n",
       "Name: date, dtype: int64"
      ]
     },
     "execution_count": 18,
     "metadata": {},
     "output_type": "execute_result"
    }
   ],
   "source": [
    "test['date'].value_counts()\n",
    "## looks like the data was collected over a period of five consecutive days - this is good - it means there were probably no\n",
    "## fundamental changes in the user base or product or anything else that could potentially skew the analysis"
   ]
  },
  {
   "cell_type": "code",
   "execution_count": 19,
   "metadata": {
    "collapsed": false
   },
   "outputs": [
    {
     "data": {
      "text/plain": [
       "0    237338\n",
       "1    215983\n",
       "Name: test, dtype: int64"
      ]
     },
     "execution_count": 19,
     "metadata": {},
     "output_type": "execute_result"
    }
   ],
   "source": [
    "test['test'].value_counts()\n",
    "## Users were split into test and control groups fairly equally, at least from a raw numerical perspective\n",
    "## Later, we will examine how the pool of users in each group \"looks\" to ensure there was no bias in the group creation"
   ]
  },
  {
   "cell_type": "code",
   "execution_count": 20,
   "metadata": {
    "collapsed": false
   },
   "outputs": [
    {
     "data": {
      "text/plain": [
       "count    452867.000000\n",
       "mean         27.130740\n",
       "std           6.776678\n",
       "min          18.000000\n",
       "25%          22.000000\n",
       "50%          26.000000\n",
       "75%          31.000000\n",
       "max          70.000000\n",
       "Name: age, dtype: float64"
      ]
     },
     "execution_count": 20,
     "metadata": {},
     "output_type": "execute_result"
    }
   ],
   "source": [
    "user['age'].describe()\n",
    "## average age of 27, 75% of users are 31 or under - so we have a fairly young population, which makes sense for online business"
   ]
  },
  {
   "cell_type": "code",
   "execution_count": 21,
   "metadata": {
    "collapsed": false
   },
   "outputs": [
    {
     "data": {
      "text/plain": [
       "M    264485\n",
       "F    188382\n",
       "Name: sex, dtype: int64"
      ]
     },
     "execution_count": 21,
     "metadata": {},
     "output_type": "execute_result"
    }
   ],
   "source": [
    "user['sex'].value_counts()\n",
    "## Significantly more males than females. Depending on the product or other demographic/cultural considerations, this could\n",
    "## be reasonable. We will enure to control for gender in later analysis."
   ]
  },
  {
   "cell_type": "code",
   "execution_count": 22,
   "metadata": {
    "collapsed": false
   },
   "outputs": [
    {
     "data": {
      "text/plain": [
       "Mexico         128484\n",
       "Colombia        54060\n",
       "Spain           51782\n",
       "Argentina       46733\n",
       "Peru            33666\n",
       "Venezuela       32054\n",
       "Chile           19737\n",
       "Ecuador         15895\n",
       "Guatemala       15125\n",
       "Bolivia         11124\n",
       "Honduras         8568\n",
       "El Salvador      8175\n",
       "Paraguay         7347\n",
       "Nicaragua        6723\n",
       "Costa Rica       5309\n",
       "Uruguay          4134\n",
       "Panama           3951\n",
       "Name: country, dtype: int64"
      ]
     },
     "execution_count": 22,
     "metadata": {},
     "output_type": "execute_result"
    }
   ],
   "source": [
    "user['country'].value_counts()\n",
    "## We have users from all across the Spanish-speaking world. Other than Spain, all of these countries are in Central and South\n",
    "## America. This could be significant later"
   ]
  },
  {
   "cell_type": "markdown",
   "metadata": {},
   "source": [
    "#### Dependent Variable\n",
    "Let's examine our dependent variable *conversion* just a bit"
   ]
  },
  {
   "cell_type": "code",
   "execution_count": 23,
   "metadata": {
    "collapsed": false
   },
   "outputs": [
    {
     "data": {
      "text/plain": [
       "0    430846\n",
       "1     22475\n",
       "Name: conversion, dtype: int64"
      ]
     },
     "execution_count": 23,
     "metadata": {},
     "output_type": "execute_result"
    }
   ],
   "source": [
    "test['conversion'].value_counts()\n",
    "## overall we have around 453k observations and 22k conversions for a conversion rate of slightly below 5%"
   ]
  },
  {
   "cell_type": "code",
   "execution_count": 24,
   "metadata": {
    "collapsed": false
   },
   "outputs": [
    {
     "data": {
      "text/html": [
       "<div>\n",
       "<table border=\"1\" class=\"dataframe\">\n",
       "  <thead>\n",
       "    <tr style=\"text-align: right;\">\n",
       "      <th>conversion</th>\n",
       "      <th>0</th>\n",
       "      <th>1</th>\n",
       "      <th>convprc</th>\n",
       "    </tr>\n",
       "    <tr>\n",
       "      <th>browser_language</th>\n",
       "      <th></th>\n",
       "      <th></th>\n",
       "      <th></th>\n",
       "    </tr>\n",
       "  </thead>\n",
       "  <tbody>\n",
       "    <tr>\n",
       "      <th>EN</th>\n",
       "      <td>60083</td>\n",
       "      <td>3054</td>\n",
       "      <td>0.048371</td>\n",
       "    </tr>\n",
       "    <tr>\n",
       "      <th>ES</th>\n",
       "      <td>358754</td>\n",
       "      <td>18793</td>\n",
       "      <td>0.049777</td>\n",
       "    </tr>\n",
       "    <tr>\n",
       "      <th>Other</th>\n",
       "      <td>12009</td>\n",
       "      <td>628</td>\n",
       "      <td>0.049695</td>\n",
       "    </tr>\n",
       "  </tbody>\n",
       "</table>\n",
       "</div>"
      ],
      "text/plain": [
       "conversion             0      1   convprc\n",
       "browser_language                         \n",
       "EN                 60083   3054  0.048371\n",
       "ES                358754  18793  0.049777\n",
       "Other              12009    628  0.049695"
      ]
     },
     "execution_count": 24,
     "metadata": {},
     "output_type": "execute_result"
    }
   ],
   "source": [
    "# how does conversion percentage vary across language?\n",
    "conv_count_lang = pd.crosstab(test['browser_language'],test['conversion'])\n",
    "conv_count_lang['convprc'] = conv_count_lang[1]/(1.0*conv_count_lang[0]+conv_count_lang[1])\n",
    "conv_count_lang\n",
    "## conversions in each language are all slightly below 5% - nothing out of the ordinary"
   ]
  },
  {
   "cell_type": "code",
   "execution_count": 25,
   "metadata": {
    "collapsed": false
   },
   "outputs": [
    {
     "data": {
      "text/html": [
       "<div>\n",
       "<table border=\"1\" class=\"dataframe\">\n",
       "  <thead>\n",
       "    <tr style=\"text-align: right;\">\n",
       "      <th>conversion</th>\n",
       "      <th>0</th>\n",
       "      <th>1</th>\n",
       "      <th>convprc</th>\n",
       "    </tr>\n",
       "    <tr>\n",
       "      <th>date</th>\n",
       "      <th></th>\n",
       "      <th></th>\n",
       "      <th></th>\n",
       "    </tr>\n",
       "  </thead>\n",
       "  <tbody>\n",
       "    <tr>\n",
       "      <th>2015-11-30</th>\n",
       "      <td>67407</td>\n",
       "      <td>3618</td>\n",
       "      <td>0.050940</td>\n",
       "    </tr>\n",
       "    <tr>\n",
       "      <th>2015-12-01</th>\n",
       "      <td>67599</td>\n",
       "      <td>3392</td>\n",
       "      <td>0.047781</td>\n",
       "    </tr>\n",
       "    <tr>\n",
       "      <th>2015-12-02</th>\n",
       "      <td>67111</td>\n",
       "      <td>3538</td>\n",
       "      <td>0.050079</td>\n",
       "    </tr>\n",
       "    <tr>\n",
       "      <th>2015-12-03</th>\n",
       "      <td>94491</td>\n",
       "      <td>5002</td>\n",
       "      <td>0.050275</td>\n",
       "    </tr>\n",
       "    <tr>\n",
       "      <th>2015-12-04</th>\n",
       "      <td>134238</td>\n",
       "      <td>6925</td>\n",
       "      <td>0.049057</td>\n",
       "    </tr>\n",
       "  </tbody>\n",
       "</table>\n",
       "</div>"
      ],
      "text/plain": [
       "conversion       0     1   convprc\n",
       "date                              \n",
       "2015-11-30   67407  3618  0.050940\n",
       "2015-12-01   67599  3392  0.047781\n",
       "2015-12-02   67111  3538  0.050079\n",
       "2015-12-03   94491  5002  0.050275\n",
       "2015-12-04  134238  6925  0.049057"
      ]
     },
     "execution_count": 25,
     "metadata": {},
     "output_type": "execute_result"
    }
   ],
   "source": [
    "# how does conversion percentage vary across day?\n",
    "conv_count_date = pd.crosstab(test['date'],test['conversion'])\n",
    "conv_count_date['convprc'] = conv_count_date[1]/(1.0*conv_count_date[0]+conv_count_date[1])\n",
    "conv_count_date\n",
    "## conversions each day are similar - doesn't appear to be anything odd here either"
   ]
  },
  {
   "cell_type": "markdown",
   "metadata": {},
   "source": [
    "At this point, we have two relatively clean dataframes and we have a general feel for how the data looks, so we can feel comfortable addressing the challenges."
   ]
  },
  {
   "cell_type": "markdown",
   "metadata": {},
   "source": [
    "### Part 1: Confirm the test is negative\n",
    "\n",
    "In this section, we are attempting to determine if there is actually a negative relationship between local translation and conversion rate. Eventually, we will want to isolate the relationship between this one variable - *test* - and our dependent variable (*conversion*), but for now let's begin with some simple summary tables on un-modified data. Hopefully, we can reproduce the unexpected result and go deeper from there."
   ]
  },
  {
   "cell_type": "code",
   "execution_count": 26,
   "metadata": {
    "collapsed": false,
    "scrolled": true
   },
   "outputs": [
    {
     "data": {
      "text/html": [
       "<div>\n",
       "<table border=\"1\" class=\"dataframe\">\n",
       "  <thead>\n",
       "    <tr style=\"text-align: right;\">\n",
       "      <th>conversion</th>\n",
       "      <th>0</th>\n",
       "      <th>1</th>\n",
       "      <th>convprc</th>\n",
       "    </tr>\n",
       "    <tr>\n",
       "      <th>test</th>\n",
       "      <th></th>\n",
       "      <th></th>\n",
       "      <th></th>\n",
       "    </tr>\n",
       "  </thead>\n",
       "  <tbody>\n",
       "    <tr>\n",
       "      <th>0</th>\n",
       "      <td>224242</td>\n",
       "      <td>13096</td>\n",
       "      <td>0.055179</td>\n",
       "    </tr>\n",
       "    <tr>\n",
       "      <th>1</th>\n",
       "      <td>206604</td>\n",
       "      <td>9379</td>\n",
       "      <td>0.043425</td>\n",
       "    </tr>\n",
       "  </tbody>\n",
       "</table>\n",
       "</div>"
      ],
      "text/plain": [
       "conversion       0      1   convprc\n",
       "test                               \n",
       "0           224242  13096  0.055179\n",
       "1           206604   9379  0.043425"
      ]
     },
     "execution_count": 26,
     "metadata": {},
     "output_type": "execute_result"
    }
   ],
   "source": [
    "# How does conversion percentage vary across the test and control groups? \n",
    "conv_count_test = pd.crosstab(test['test'],test['conversion'])\n",
    "conv_count_test['convprc'] = conv_count_test[1]/(1.0*conv_count_test[0]+conv_count_test[1])\n",
    "conv_count_test"
   ]
  },
  {
   "cell_type": "code",
   "execution_count": 27,
   "metadata": {
    "collapsed": false
   },
   "outputs": [
    {
     "data": {
      "text/plain": [
       "4.4320956939216634e-74"
      ]
     },
     "execution_count": 27,
     "metadata": {},
     "output_type": "execute_result"
    }
   ],
   "source": [
    "# Let's test for independence of these two variables using a chi-squared test\n",
    "\n",
    "from scipy.stats import chi2_contingency\n",
    "chi2_contingency(pd.crosstab(test['test'],test['conversion']), correction=False)[1] # the 2nd item in this object is the p-value\n",
    "## We see the p-value for independence of test and conversion is extremely small, indicating that we can reject the null\n",
    "## hypothesis of independence among these two variables. "
   ]
  },
  {
   "cell_type": "markdown",
   "metadata": {},
   "source": [
    "Looking at the table above, we can see that the conversion percentage for users who saw the local translations - where *test* = 1 - have an overall conversion percentage of around 4.3%, whereas this number for users who saw the standard translations is about 5.5%. These results likely represent the phenomenon observed by the country managers that non-localized translations are actually performing worse. Looking at the results of the chi-squared test that tests for independence between these two variables, we can conclude the difference is statistically significant based on an extremely small p-value, and reject the null hypothesis of independence. \n",
    "\n",
    "However, without controlling for the effects other variables like ads, demographics, etc., we cannot conclude that the test is actually related to the decrease in performance. Additionally, this includes users from Spain. From both a business and data perspective, we are not really concerned with these users. This is because the problem statement is around poor performance of local translations in countries other than Spain. So, to understand if these translations are having a negative effect on conversion, we need to examine data from non-Spanish countries."
   ]
  },
  {
   "cell_type": "code",
   "execution_count": 28,
   "metadata": {
    "collapsed": true
   },
   "outputs": [],
   "source": [
    "# To identify non-Spanish countries, we need to bring together both dataframes\n",
    "\n",
    "test_demo = test.merge(user, how = 'left', left_index=True, right_index=True)\n",
    "## use a left join to ensure we do not lose any test observations and only add demographic data where we have it"
   ]
  },
  {
   "cell_type": "code",
   "execution_count": 29,
   "metadata": {
    "collapsed": false
   },
   "outputs": [
    {
     "data": {
      "text/html": [
       "<div>\n",
       "<table border=\"1\" class=\"dataframe\">\n",
       "  <thead>\n",
       "    <tr style=\"text-align: right;\">\n",
       "      <th></th>\n",
       "      <th>date</th>\n",
       "      <th>source</th>\n",
       "      <th>device</th>\n",
       "      <th>browser_language</th>\n",
       "      <th>ads_channel</th>\n",
       "      <th>browser</th>\n",
       "      <th>conversion</th>\n",
       "      <th>test</th>\n",
       "      <th>sex</th>\n",
       "      <th>age</th>\n",
       "      <th>country</th>\n",
       "    </tr>\n",
       "    <tr>\n",
       "      <th>user_id</th>\n",
       "      <th></th>\n",
       "      <th></th>\n",
       "      <th></th>\n",
       "      <th></th>\n",
       "      <th></th>\n",
       "      <th></th>\n",
       "      <th></th>\n",
       "      <th></th>\n",
       "      <th></th>\n",
       "      <th></th>\n",
       "      <th></th>\n",
       "    </tr>\n",
       "  </thead>\n",
       "  <tbody>\n",
       "    <tr>\n",
       "      <th>315281</th>\n",
       "      <td>2015-12-03</td>\n",
       "      <td>Direct</td>\n",
       "      <td>Web</td>\n",
       "      <td>ES</td>\n",
       "      <td>None</td>\n",
       "      <td>IE</td>\n",
       "      <td>1</td>\n",
       "      <td>0</td>\n",
       "      <td>M</td>\n",
       "      <td>32.0</td>\n",
       "      <td>Spain</td>\n",
       "    </tr>\n",
       "    <tr>\n",
       "      <th>497851</th>\n",
       "      <td>2015-12-04</td>\n",
       "      <td>Ads</td>\n",
       "      <td>Web</td>\n",
       "      <td>ES</td>\n",
       "      <td>Google</td>\n",
       "      <td>IE</td>\n",
       "      <td>0</td>\n",
       "      <td>1</td>\n",
       "      <td>M</td>\n",
       "      <td>21.0</td>\n",
       "      <td>Mexico</td>\n",
       "    </tr>\n",
       "    <tr>\n",
       "      <th>848402</th>\n",
       "      <td>2015-12-04</td>\n",
       "      <td>Ads</td>\n",
       "      <td>Web</td>\n",
       "      <td>ES</td>\n",
       "      <td>Facebook</td>\n",
       "      <td>Chrome</td>\n",
       "      <td>0</td>\n",
       "      <td>0</td>\n",
       "      <td>M</td>\n",
       "      <td>34.0</td>\n",
       "      <td>Spain</td>\n",
       "    </tr>\n",
       "    <tr>\n",
       "      <th>290051</th>\n",
       "      <td>2015-12-03</td>\n",
       "      <td>Ads</td>\n",
       "      <td>Mobile</td>\n",
       "      <td>Other</td>\n",
       "      <td>Facebook</td>\n",
       "      <td>Android_App</td>\n",
       "      <td>0</td>\n",
       "      <td>1</td>\n",
       "      <td>F</td>\n",
       "      <td>22.0</td>\n",
       "      <td>Mexico</td>\n",
       "    </tr>\n",
       "    <tr>\n",
       "      <th>548435</th>\n",
       "      <td>2015-11-30</td>\n",
       "      <td>Ads</td>\n",
       "      <td>Web</td>\n",
       "      <td>ES</td>\n",
       "      <td>Google</td>\n",
       "      <td>FireFox</td>\n",
       "      <td>0</td>\n",
       "      <td>1</td>\n",
       "      <td>M</td>\n",
       "      <td>19.0</td>\n",
       "      <td>Mexico</td>\n",
       "    </tr>\n",
       "  </tbody>\n",
       "</table>\n",
       "</div>"
      ],
      "text/plain": [
       "              date  source  device browser_language ads_channel      browser  \\\n",
       "user_id                                                                        \n",
       "315281  2015-12-03  Direct     Web               ES        None           IE   \n",
       "497851  2015-12-04     Ads     Web               ES      Google           IE   \n",
       "848402  2015-12-04     Ads     Web               ES    Facebook       Chrome   \n",
       "290051  2015-12-03     Ads  Mobile            Other    Facebook  Android_App   \n",
       "548435  2015-11-30     Ads     Web               ES      Google      FireFox   \n",
       "\n",
       "         conversion  test sex   age country  \n",
       "user_id                                      \n",
       "315281            1     0   M  32.0   Spain  \n",
       "497851            0     1   M  21.0  Mexico  \n",
       "848402            0     0   M  34.0   Spain  \n",
       "290051            0     1   F  22.0  Mexico  \n",
       "548435            0     1   M  19.0  Mexico  "
      ]
     },
     "execution_count": 29,
     "metadata": {},
     "output_type": "execute_result"
    }
   ],
   "source": [
    "test_demo.head()\n",
    "## this looks correct!"
   ]
  },
  {
   "cell_type": "code",
   "execution_count": 30,
   "metadata": {
    "collapsed": false
   },
   "outputs": [
    {
     "data": {
      "text/plain": [
       "[('sex', 0.9989985021651324),\n",
       " ('age', 0.9989985021651324),\n",
       " ('country', 0.9989985021651324)]"
      ]
     },
     "execution_count": 30,
     "metadata": {},
     "output_type": "execute_result"
    }
   ],
   "source": [
    "# let's examine if we have users in the test dataset that are missing demographic information\n",
    "\n",
    "fillprc(test_demo)\n",
    "## we only have a few observations - less than .002 - that are missing demographic information. Since we cannot determine country\n",
    "## for these users, let's drop them"
   ]
  },
  {
   "cell_type": "code",
   "execution_count": 31,
   "metadata": {
    "collapsed": true
   },
   "outputs": [],
   "source": [
    "test_demo_c = test_demo.dropna()"
   ]
  },
  {
   "cell_type": "code",
   "execution_count": 32,
   "metadata": {
    "collapsed": false
   },
   "outputs": [
    {
     "data": {
      "text/plain": [
       "0.9989985021651324"
      ]
     },
     "execution_count": 32,
     "metadata": {},
     "output_type": "execute_result"
    }
   ],
   "source": [
    "shape(test_demo_c)[0]/(shape(test_demo)[0]*1.0)\n",
    "## we still have 99.89% of the data intact!"
   ]
  },
  {
   "cell_type": "code",
   "execution_count": 33,
   "metadata": {
    "collapsed": false
   },
   "outputs": [
    {
     "data": {
      "text/plain": [
       "Mexico         128484\n",
       "Colombia        54060\n",
       "Spain           51782\n",
       "Argentina       46733\n",
       "Peru            33666\n",
       "Venezuela       32054\n",
       "Chile           19737\n",
       "Ecuador         15895\n",
       "Guatemala       15125\n",
       "Bolivia         11124\n",
       "Honduras         8568\n",
       "El Salvador      8175\n",
       "Paraguay         7347\n",
       "Nicaragua        6723\n",
       "Costa Rica       5309\n",
       "Uruguay          4134\n",
       "Panama           3951\n",
       "Name: country, dtype: int64"
      ]
     },
     "execution_count": 33,
     "metadata": {},
     "output_type": "execute_result"
    }
   ],
   "source": [
    "test_demo_c['country'].value_counts()"
   ]
  },
  {
   "cell_type": "code",
   "execution_count": 34,
   "metadata": {
    "collapsed": true
   },
   "outputs": [],
   "source": [
    "# let's create a dataframe of non-spanish users so we can focus on users relevant to our business problem\n",
    "test_nosp = test_demo_c[test_demo_c['country'] != 'Spain']"
   ]
  },
  {
   "cell_type": "code",
   "execution_count": 35,
   "metadata": {
    "collapsed": false,
    "scrolled": true
   },
   "outputs": [
    {
     "data": {
      "text/plain": [
       "Mexico         128484\n",
       "Colombia        54060\n",
       "Argentina       46733\n",
       "Peru            33666\n",
       "Venezuela       32054\n",
       "Chile           19737\n",
       "Ecuador         15895\n",
       "Guatemala       15125\n",
       "Bolivia         11124\n",
       "Honduras         8568\n",
       "El Salvador      8175\n",
       "Paraguay         7347\n",
       "Nicaragua        6723\n",
       "Costa Rica       5309\n",
       "Uruguay          4134\n",
       "Panama           3951\n",
       "Name: country, dtype: int64"
      ]
     },
     "execution_count": 35,
     "metadata": {},
     "output_type": "execute_result"
    }
   ],
   "source": [
    "test_nosp['country'].value_counts()\n",
    "## it worked"
   ]
  },
  {
   "cell_type": "code",
   "execution_count": 36,
   "metadata": {
    "collapsed": false
   },
   "outputs": [
    {
     "data": {
      "text/plain": [
       "1    215774\n",
       "0    185311\n",
       "Name: test, dtype: int64"
      ]
     },
     "execution_count": 36,
     "metadata": {},
     "output_type": "execute_result"
    }
   ],
   "source": [
    "test_nosp['test'].value_counts()\n",
    "## we can see about 54% of users outside of spain are in the test group, meaning they were shown local translations"
   ]
  },
  {
   "cell_type": "code",
   "execution_count": 37,
   "metadata": {
    "collapsed": false,
    "scrolled": true
   },
   "outputs": [
    {
     "data": {
      "text/html": [
       "<div>\n",
       "<table border=\"1\" class=\"dataframe\">\n",
       "  <thead>\n",
       "    <tr style=\"text-align: right;\">\n",
       "      <th>conversion</th>\n",
       "      <th>0</th>\n",
       "      <th>1</th>\n",
       "      <th>convprc</th>\n",
       "    </tr>\n",
       "    <tr>\n",
       "      <th>test</th>\n",
       "      <th></th>\n",
       "      <th></th>\n",
       "      <th></th>\n",
       "    </tr>\n",
       "  </thead>\n",
       "  <tbody>\n",
       "    <tr>\n",
       "      <th>0</th>\n",
       "      <td>176362</td>\n",
       "      <td>8949</td>\n",
       "      <td>0.048292</td>\n",
       "    </tr>\n",
       "    <tr>\n",
       "      <th>1</th>\n",
       "      <td>206407</td>\n",
       "      <td>9367</td>\n",
       "      <td>0.043411</td>\n",
       "    </tr>\n",
       "  </tbody>\n",
       "</table>\n",
       "</div>"
      ],
      "text/plain": [
       "conversion       0     1   convprc\n",
       "test                              \n",
       "0           176362  8949  0.048292\n",
       "1           206407  9367  0.043411"
      ]
     },
     "execution_count": 37,
     "metadata": {},
     "output_type": "execute_result"
    }
   ],
   "source": [
    "# How does conversion percentage vary across the test and control groups for countries other than Spain?\n",
    "conv_count_test_nosp = pd.crosstab(test_nosp['test'],test_nosp['conversion'])\n",
    "conv_count_test_nosp['convprc'] = conv_count_test_nosp[1]/(1.0*conv_count_test_nosp[0]+conv_count_test_nosp[1])\n",
    "conv_count_test_nosp"
   ]
  },
  {
   "cell_type": "code",
   "execution_count": 38,
   "metadata": {
    "collapsed": false
   },
   "outputs": [
    {
     "data": {
      "text/plain": [
       "1.5619993923595226e-13"
      ]
     },
     "execution_count": 38,
     "metadata": {},
     "output_type": "execute_result"
    }
   ],
   "source": [
    "# Let's test for independence of these two variables using a chi-squared test\n",
    "chi2_contingency(pd.crosstab(test_nosp['test'],test_nosp['conversion']), correction=False)[1] # the 2nd item in this object\n",
    "# is the p-value\n",
    "\n",
    "## We see the p-value for independence of test and conversion is extremely small, indicating that we can reject the null\n",
    "## hypothesis of independence among these two variables. "
   ]
  },
  {
   "cell_type": "markdown",
   "metadata": {},
   "source": [
    "Once we isolate non-Spanish countries, we see the conversion percent is still lower for users who see the local translations. The conversion percentage for test users is the same - 4.3% - because there were no test users in Spain. Looking at the control group users, the conversion percentage is down to around 4.8%. This is lower than the group that includes Spanish users, but based on the chi-squared test, is still significantly different than the conversion rate for users in the test group.\n",
    "\n",
    "At this point, we can conclude that the test results are actually negative - users in the test group have a lower conversion rate. However, we **cannot conclude** that the test is the cause of the discrepancy. We have not accounted for any sampling errors or other factors that may affect the results. This will be the enxt step of our analysis."
   ]
  },
  {
   "cell_type": "markdown",
   "metadata": {},
   "source": [
    "### Part 2 - Explain why that might be happening. Are the localized translations really worse?\n",
    "\n",
    "In this section, we will attempt to discover why the localized translations are correlated with a lower conversion rate. Now that we have established that the group of non-Spanish users who were shown local translations convert at a lower rate, we must examine both pools of users to identify any potential differences other than the test itself "
   ]
  },
  {
   "cell_type": "code",
   "execution_count": 39,
   "metadata": {
    "collapsed": false
   },
   "outputs": [
    {
     "data": {
      "text/html": [
       "<div>\n",
       "<table border=\"1\" class=\"dataframe\">\n",
       "  <thead>\n",
       "    <tr style=\"text-align: right;\">\n",
       "      <th>test</th>\n",
       "      <th>0</th>\n",
       "      <th>1</th>\n",
       "    </tr>\n",
       "    <tr>\n",
       "      <th>country</th>\n",
       "      <th></th>\n",
       "      <th></th>\n",
       "    </tr>\n",
       "  </thead>\n",
       "  <tbody>\n",
       "    <tr>\n",
       "      <th>Argentina</th>\n",
       "      <td>9356</td>\n",
       "      <td>37377</td>\n",
       "    </tr>\n",
       "    <tr>\n",
       "      <th>Bolivia</th>\n",
       "      <td>5550</td>\n",
       "      <td>5574</td>\n",
       "    </tr>\n",
       "    <tr>\n",
       "      <th>Chile</th>\n",
       "      <td>9853</td>\n",
       "      <td>9884</td>\n",
       "    </tr>\n",
       "    <tr>\n",
       "      <th>Colombia</th>\n",
       "      <td>27088</td>\n",
       "      <td>26972</td>\n",
       "    </tr>\n",
       "    <tr>\n",
       "      <th>Costa Rica</th>\n",
       "      <td>2660</td>\n",
       "      <td>2649</td>\n",
       "    </tr>\n",
       "    <tr>\n",
       "      <th>Ecuador</th>\n",
       "      <td>8036</td>\n",
       "      <td>7859</td>\n",
       "    </tr>\n",
       "    <tr>\n",
       "      <th>El Salvador</th>\n",
       "      <td>4108</td>\n",
       "      <td>4067</td>\n",
       "    </tr>\n",
       "    <tr>\n",
       "      <th>Guatemala</th>\n",
       "      <td>7622</td>\n",
       "      <td>7503</td>\n",
       "    </tr>\n",
       "    <tr>\n",
       "      <th>Honduras</th>\n",
       "      <td>4361</td>\n",
       "      <td>4207</td>\n",
       "    </tr>\n",
       "    <tr>\n",
       "      <th>Mexico</th>\n",
       "      <td>64209</td>\n",
       "      <td>64275</td>\n",
       "    </tr>\n",
       "    <tr>\n",
       "      <th>Nicaragua</th>\n",
       "      <td>3419</td>\n",
       "      <td>3304</td>\n",
       "    </tr>\n",
       "    <tr>\n",
       "      <th>Panama</th>\n",
       "      <td>1966</td>\n",
       "      <td>1985</td>\n",
       "    </tr>\n",
       "    <tr>\n",
       "      <th>Paraguay</th>\n",
       "      <td>3650</td>\n",
       "      <td>3697</td>\n",
       "    </tr>\n",
       "    <tr>\n",
       "      <th>Peru</th>\n",
       "      <td>16869</td>\n",
       "      <td>16797</td>\n",
       "    </tr>\n",
       "    <tr>\n",
       "      <th>Uruguay</th>\n",
       "      <td>415</td>\n",
       "      <td>3719</td>\n",
       "    </tr>\n",
       "    <tr>\n",
       "      <th>Venezuela</th>\n",
       "      <td>16149</td>\n",
       "      <td>15905</td>\n",
       "    </tr>\n",
       "  </tbody>\n",
       "</table>\n",
       "</div>"
      ],
      "text/plain": [
       "test             0      1\n",
       "country                  \n",
       "Argentina     9356  37377\n",
       "Bolivia       5550   5574\n",
       "Chile         9853   9884\n",
       "Colombia     27088  26972\n",
       "Costa Rica    2660   2649\n",
       "Ecuador       8036   7859\n",
       "El Salvador   4108   4067\n",
       "Guatemala     7622   7503\n",
       "Honduras      4361   4207\n",
       "Mexico       64209  64275\n",
       "Nicaragua     3419   3304\n",
       "Panama        1966   1985\n",
       "Paraguay      3650   3697\n",
       "Peru         16869  16797\n",
       "Uruguay        415   3719\n",
       "Venezuela    16149  15905"
      ]
     },
     "execution_count": 39,
     "metadata": {},
     "output_type": "execute_result"
    }
   ],
   "source": [
    "# Let's first look at distribution of country in the test and control groups\n",
    "pd.crosstab(test_nosp['country'],test_nosp['test'])"
   ]
  },
  {
   "cell_type": "code",
   "execution_count": 40,
   "metadata": {
    "collapsed": false
   },
   "outputs": [],
   "source": [
    "# create dataframes of fractions of each country in both test and control groups\n",
    "s1 = DataFrame(test_nosp['country'][test_nosp['test'] == 1].value_counts()/test_nosp['country'][test_nosp['test'] == 1].value_counts().sum())\n",
    "s2 = DataFrame(test_nosp['country'][test_nosp['test'] == 0].value_counts()/test_nosp['country'][test_nosp['test'] == 0].value_counts().sum())\n"
   ]
  },
  {
   "cell_type": "code",
   "execution_count": 41,
   "metadata": {
    "collapsed": false
   },
   "outputs": [
    {
     "data": {
      "text/plain": [
       "<matplotlib.axes._subplots.AxesSubplot at 0xa52aa20>"
      ]
     },
     "execution_count": 41,
     "metadata": {},
     "output_type": "execute_result"
    },
    {
     "data": {
      "image/png": "[encoded data removed]",
      "text/plain": [
       "<matplotlib.figure.Figure at 0xa52a4e0>"
      ]
     },
     "metadata": {},
     "output_type": "display_data"
    }
   ],
   "source": [
    "# merge two dataframes of contry proportions into one DF and plot\n",
    "s3 = s1.merge(s2, how='inner',left_index=True,right_index=True,suffixes=(' - Test = 1',' - Test = 0'))\n",
    "s3.plot(kind='bar',figsize=(20,10),title='Distribution by Country')"
   ]
  },
  {
   "cell_type": "markdown",
   "metadata": {
    "collapsed": true
   },
   "source": [
    "As we can see above, the test and control groups have a fairly similar distribution of countries other than Spain, except that the test group has a disproportionately large number of users from Argentina. This has the potential to affect our results - let's dig deeper into response rate in Argentina. If it's significantly lower than other countries, then having a lot more Argentinian users in the test group could be the cause of the difference. "
   ]
  },
  {
   "cell_type": "code",
   "execution_count": 42,
   "metadata": {
    "collapsed": false
   },
   "outputs": [],
   "source": [
    "# Let's get response rate for each country, for both test and control groups\n",
    "\n",
    "resp_ct_t0 = test_nosp[['country','conversion']][test_nosp['test'] == 0]\n",
    "t0_group = resp_ct_t0.groupby('country').mean()\n",
    "\n",
    "resp_ct_t1 = test_nosp[['country','conversion']][test_nosp['test'] == 1]\n",
    "t1_group = resp_ct_t1.groupby('country').mean()"
   ]
  },
  {
   "cell_type": "code",
   "execution_count": 43,
   "metadata": {
    "collapsed": false
   },
   "outputs": [
    {
     "data": {
      "text/plain": [
       "<matplotlib.axes._subplots.AxesSubplot at 0xa69e780>"
      ]
     },
     "execution_count": 43,
     "metadata": {},
     "output_type": "execute_result"
    },
    {
     "data": {
      "image/png": "[encoded data removed]",
      "text/plain": [
       "<matplotlib.figure.Figure at 0xa480320>"
      ]
     },
     "metadata": {},
     "output_type": "display_data"
    }
   ],
   "source": [
    "# merge two dataframes of contry proportions into one DF and plot\n",
    "resp_groups = t1_group.merge(t0_group, how='inner',left_index=True,right_index=True,suffixes=(' - Test = 1',' - Test = 0'))\n",
    "resp_groups.plot(kind='bar',figsize=(20,10),title='Response Rate by Country')"
   ]
  },
  {
   "cell_type": "markdown",
   "metadata": {},
   "source": [
    "Looking at the plot above, we can conclude a couple of things. First, response rate by country does not really vary across the test and control groups, which implies that within a given country, the test treatment does not appear to affect our response variable. This is in direct contradiction with the initial conclusion that the response rates are lower for the test group.\n",
    "\n",
    "However, we also notice some outlier countries in response rate. Uruguay and Argentina both respond at around 1%, whereas all other countries are close to 5%. So, combined with the information from the previous graph - that Argentina is over-represented in the test group - we see there may be a possible cause for our curious initial results. \n",
    "\n",
    "Before we attempt to confirm this hypothesis statistically, we will perform similar analysis for other independent variables, just to make sure we don't miss anything else. We will do so by comparing the differences in proportions for the test and control groups, and append any value that exceeds a given threshold to a list for later examination."
   ]
  },
  {
   "cell_type": "code",
   "execution_count": 102,
   "metadata": {
    "collapsed": false,
    "scrolled": true
   },
   "outputs": [
    {
     "name": "stderr",
     "output_type": "stream",
     "text": [
      "C:\\Users\\jzell\\Anaconda2\\lib\\site-packages\\ipykernel\\__main__.py:1: FutureWarning: using '-' to provide set differences with Indexes is deprecated, use .difference()\n",
      "  if __name__ == '__main__':\n"
     ]
    },
    {
     "data": {
      "text/plain": [
       "([('country', 'Mexico'),\n",
       "  ('country', 'Colombia'),\n",
       "  ('country', 'Peru'),\n",
       "  ('country', 'Venezuela'),\n",
       "  ('country', 'Argentina'),\n",
       "  ('country', 'Uruguay')],\n",
       " [('age', 0),\n",
       "  ('age', 1),\n",
       "  ('age', 2),\n",
       "  ('age', 3),\n",
       "  ('age', 4),\n",
       "  ('age', 5),\n",
       "  ('age', 6),\n",
       "  ('age', 7),\n",
       "  ('age', 8),\n",
       "  ('age', 9),\n",
       "  ('age', 10),\n",
       "  ('age', 11),\n",
       "  ('age', 12),\n",
       "  ('age', 13),\n",
       "  ('age', 14),\n",
       "  ('age', 15),\n",
       "  ('age', 16),\n",
       "  ('age', 17)])"
      ]
     },
     "execution_count": 102,
     "metadata": {},
     "output_type": "execute_result"
    }
   ],
   "source": [
    "# create list of all independent variables\n",
    "varlist = list(test_nosp.columns - ['conversion','test'])\n",
    "\n",
    "# initialize lists to store results\n",
    "difflist = []\n",
    "errorlist = []\n",
    "\n",
    "# loop through all independent variables\n",
    "for i in varlist:\n",
    "    # calculate fraction of each category for each independent variable\n",
    "    s1_i = DataFrame(test_nosp[i][test_nosp['test'] == 1].value_counts()/test_nosp[i][test_nosp['test'] == 1].value_counts().sum())\n",
    "    s2_i = DataFrame(test_nosp[i][test_nosp['test'] == 0].value_counts()/test_nosp[i][test_nosp['test'] == 0].value_counts().sum())\n",
    "    s3_i = s1_i.merge(s2_i, how='inner',left_index=True,right_index=True,suffixes=(' - Test = 1',' - Test = 0'))\n",
    "    \n",
    "    # check difference in each category for each variable\n",
    "    for j in range(len(s3_i)):\n",
    "        # try to find the abs value in the difference, if it exceeds 1%, add to the list of results\n",
    "        try:\n",
    "            if np.abs(s3_i.ix[j][0] - s3_i.ix[j][1]) > .01:\n",
    "                difflist.append((i,s3_i.ix[j].name))\n",
    "        # due to some key error issues, store excepted values for later checking by hand\n",
    "        except KeyError:\n",
    "            errorlist.append((i,j))\n",
    "            \n",
    "difflist, errorlist"
   ]
  },
  {
   "cell_type": "markdown",
   "metadata": {},
   "source": [
    "Looking at the lists above, we see that only the distribution of countries varies significantly across the test and control groups, so other errors due to biased sampling of other variables will likely be minimized.\n",
    "\n",
    "The error list shows that we got key errors in the *age* variable due to numerical values as keys, but luckily nowhere else. Let's check this by hand below to make sure the distribution of ages looks acceptable."
   ]
  },
  {
   "cell_type": "code",
   "execution_count": 103,
   "metadata": {
    "collapsed": false
   },
   "outputs": [
    {
     "data": {
      "text/plain": [
       "<matplotlib.axes._subplots.AxesSubplot at 0xdf19080>"
      ]
     },
     "execution_count": 103,
     "metadata": {},
     "output_type": "execute_result"
    },
    {
     "data": {
      "image/png": "[encoded data removed]",
      "text/plain": [
       "<matplotlib.figure.Figure at 0xdb92358>"
      ]
     },
     "metadata": {},
     "output_type": "display_data"
    }
   ],
   "source": [
    "# create dataframes of fractions of each age in both test and control groups\n",
    "s1 = DataFrame(test_nosp['age'][test_nosp['test'] == 1].value_counts()/test_nosp['age'][test_nosp['test'] == 1].value_counts().sum())\n",
    "s2 = DataFrame(test_nosp['age'][test_nosp['test'] == 0].value_counts()/test_nosp['age'][test_nosp['test'] == 0].value_counts().sum())\n",
    "\n",
    "\n",
    "# merge two dataframes of contry proportions into one DF and plot\n",
    "s3 = s1.merge(s2, how='inner',left_index=True,right_index=True,suffixes=(' - Test = 1',' - Test = 0'))\n",
    "s3.plot(kind='bar',figsize=(20,10),title='Distribution by Age')"
   ]
  },
  {
   "cell_type": "markdown",
   "metadata": {},
   "source": [
    "The distribution of ages is roughly the same in both the test and control groups, so again we can conclude that there is no sampling bias in this variable. "
   ]
  },
  {
   "cell_type": "markdown",
   "metadata": {},
   "source": [
    "#### Statistical Analysis\n",
    "\n",
    "The \"quick and dirty\" analysis above indicates that excepting for country, all other variables are distributed roughly equally across the test and control group. We have also noticed that the test group has a disprportionately high number of users from Argentina, a country with much lower response rates than average, which is likely causing the high-level result that users in the test group convert at a lower rate. \n",
    "\n",
    "To get closer to uncovering the *true* relationship between the localized translations and conversion rate, we can run a logistic regression predicting the probability of conversion and include *test* as well as our demographic and other user-based data as predictor variables."
   ]
  },
  {
   "cell_type": "code",
   "execution_count": 81,
   "metadata": {
    "collapsed": false
   },
   "outputs": [
    {
     "data": {
      "text/html": [
       "<div>\n",
       "<table border=\"1\" class=\"dataframe\">\n",
       "  <thead>\n",
       "    <tr style=\"text-align: right;\">\n",
       "      <th></th>\n",
       "      <th>date</th>\n",
       "      <th>source</th>\n",
       "      <th>device</th>\n",
       "      <th>browser_language</th>\n",
       "      <th>ads_channel</th>\n",
       "      <th>browser</th>\n",
       "      <th>conversion</th>\n",
       "      <th>test</th>\n",
       "      <th>sex</th>\n",
       "      <th>age</th>\n",
       "      <th>country</th>\n",
       "    </tr>\n",
       "    <tr>\n",
       "      <th>user_id</th>\n",
       "      <th></th>\n",
       "      <th></th>\n",
       "      <th></th>\n",
       "      <th></th>\n",
       "      <th></th>\n",
       "      <th></th>\n",
       "      <th></th>\n",
       "      <th></th>\n",
       "      <th></th>\n",
       "      <th></th>\n",
       "      <th></th>\n",
       "    </tr>\n",
       "  </thead>\n",
       "  <tbody>\n",
       "    <tr>\n",
       "      <th>497851</th>\n",
       "      <td>2015-12-04</td>\n",
       "      <td>Ads</td>\n",
       "      <td>Web</td>\n",
       "      <td>ES</td>\n",
       "      <td>Google</td>\n",
       "      <td>IE</td>\n",
       "      <td>0</td>\n",
       "      <td>1</td>\n",
       "      <td>M</td>\n",
       "      <td>21.0</td>\n",
       "      <td>Mexico</td>\n",
       "    </tr>\n",
       "    <tr>\n",
       "      <th>290051</th>\n",
       "      <td>2015-12-03</td>\n",
       "      <td>Ads</td>\n",
       "      <td>Mobile</td>\n",
       "      <td>Other</td>\n",
       "      <td>Facebook</td>\n",
       "      <td>Android_App</td>\n",
       "      <td>0</td>\n",
       "      <td>1</td>\n",
       "      <td>F</td>\n",
       "      <td>22.0</td>\n",
       "      <td>Mexico</td>\n",
       "    </tr>\n",
       "    <tr>\n",
       "      <th>548435</th>\n",
       "      <td>2015-11-30</td>\n",
       "      <td>Ads</td>\n",
       "      <td>Web</td>\n",
       "      <td>ES</td>\n",
       "      <td>Google</td>\n",
       "      <td>FireFox</td>\n",
       "      <td>0</td>\n",
       "      <td>1</td>\n",
       "      <td>M</td>\n",
       "      <td>19.0</td>\n",
       "      <td>Mexico</td>\n",
       "    </tr>\n",
       "    <tr>\n",
       "      <th>540675</th>\n",
       "      <td>2015-12-03</td>\n",
       "      <td>Direct</td>\n",
       "      <td>Mobile</td>\n",
       "      <td>ES</td>\n",
       "      <td>None</td>\n",
       "      <td>Android_App</td>\n",
       "      <td>0</td>\n",
       "      <td>1</td>\n",
       "      <td>F</td>\n",
       "      <td>22.0</td>\n",
       "      <td>Venezuela</td>\n",
       "    </tr>\n",
       "    <tr>\n",
       "      <th>863394</th>\n",
       "      <td>2015-12-04</td>\n",
       "      <td>SEO</td>\n",
       "      <td>Mobile</td>\n",
       "      <td>Other</td>\n",
       "      <td>None</td>\n",
       "      <td>Android_App</td>\n",
       "      <td>0</td>\n",
       "      <td>0</td>\n",
       "      <td>M</td>\n",
       "      <td>35.0</td>\n",
       "      <td>Mexico</td>\n",
       "    </tr>\n",
       "  </tbody>\n",
       "</table>\n",
       "</div>"
      ],
      "text/plain": [
       "              date  source  device browser_language ads_channel      browser  \\\n",
       "user_id                                                                        \n",
       "497851  2015-12-04     Ads     Web               ES      Google           IE   \n",
       "290051  2015-12-03     Ads  Mobile            Other    Facebook  Android_App   \n",
       "548435  2015-11-30     Ads     Web               ES      Google      FireFox   \n",
       "540675  2015-12-03  Direct  Mobile               ES        None  Android_App   \n",
       "863394  2015-12-04     SEO  Mobile            Other        None  Android_App   \n",
       "\n",
       "         conversion  test sex   age    country  \n",
       "user_id                                         \n",
       "497851            0     1   M  21.0     Mexico  \n",
       "290051            0     1   F  22.0     Mexico  \n",
       "548435            0     1   M  19.0     Mexico  \n",
       "540675            0     1   F  22.0  Venezuela  \n",
       "863394            0     0   M  35.0     Mexico  "
      ]
     },
     "execution_count": 81,
     "metadata": {},
     "output_type": "execute_result"
    }
   ],
   "source": [
    "test_nosp.head()"
   ]
  },
  {
   "cell_type": "code",
   "execution_count": 110,
   "metadata": {
    "collapsed": true
   },
   "outputs": [],
   "source": [
    "# import modeling packages\n",
    "from sklearn.linear_model import LogisticRegression\n",
    "from sklearn.feature_selection import f_regression"
   ]
  },
  {
   "cell_type": "code",
   "execution_count": 107,
   "metadata": {
    "collapsed": false
   },
   "outputs": [
    {
     "name": "stderr",
     "output_type": "stream",
     "text": [
      "C:\\Users\\jzell\\Anaconda2\\lib\\site-packages\\ipykernel\\__main__.py:3: FutureWarning: using '-' to provide set differences with Indexes is deprecated, use .difference()\n",
      "  app.launch_new_instance()\n"
     ]
    },
    {
     "data": {
      "text/plain": [
       "LogisticRegression(C=1.0, class_weight=None, dual=False, fit_intercept=True,\n",
       "          intercept_scaling=1, max_iter=100, multi_class='ovr', n_jobs=1,\n",
       "          penalty='l2', random_state=None, solver='liblinear', tol=0.0001,\n",
       "          verbose=0, warm_start=False)"
      ]
     },
     "execution_count": 107,
     "metadata": {},
     "output_type": "execute_result"
    }
   ],
   "source": [
    "### Let's run model with everything\n",
    "# create list of columns and specify patsy formula\n",
    "model2_c = \" + \".join(test_nosp.columns - ['conversion','date'])\n",
    "model2 = 'conversion ~' + model2_c\n",
    "\n",
    "# create x and y matrices\n",
    "y,x = patsy.dmatrices(model2, test_nosp, return_type='dataframe')\n",
    "\n",
    "# specify and fit model \n",
    "fit2 = LogisticRegression()\n",
    "fit2.fit(x,y)"
   ]
  },
  {
   "cell_type": "code",
   "execution_count": 120,
   "metadata": {
    "collapsed": false,
    "scrolled": true
   },
   "outputs": [
    {
     "data": {
      "text/html": [
       "<div>\n",
       "<table border=\"1\" class=\"dataframe\">\n",
       "  <thead>\n",
       "    <tr style=\"text-align: right;\">\n",
       "      <th></th>\n",
       "      <th>coefficient</th>\n",
       "      <th>pval</th>\n",
       "      <th>sig</th>\n",
       "    </tr>\n",
       "  </thead>\n",
       "  <tbody>\n",
       "    <tr>\n",
       "      <th>Intercept</th>\n",
       "      <td>-2.141095</td>\n",
       "      <td>NaN</td>\n",
       "      <td>False</td>\n",
       "    </tr>\n",
       "    <tr>\n",
       "      <th>ads_channel[T.Facebook]</th>\n",
       "      <td>0.067987</td>\n",
       "      <td>8.940296e-02</td>\n",
       "      <td>False</td>\n",
       "    </tr>\n",
       "    <tr>\n",
       "      <th>ads_channel[T.Google]</th>\n",
       "      <td>0.035748</td>\n",
       "      <td>8.870236e-01</td>\n",
       "      <td>False</td>\n",
       "    </tr>\n",
       "    <tr>\n",
       "      <th>ads_channel[T.None]</th>\n",
       "      <td>0.023380</td>\n",
       "      <td>5.381704e-01</td>\n",
       "      <td>False</td>\n",
       "    </tr>\n",
       "    <tr>\n",
       "      <th>ads_channel[T.Other]</th>\n",
       "      <td>-0.110494</td>\n",
       "      <td>7.297012e-02</td>\n",
       "      <td>False</td>\n",
       "    </tr>\n",
       "    <tr>\n",
       "      <th>ads_channel[T.Yahoo]</th>\n",
       "      <td>0.049509</td>\n",
       "      <td>7.018742e-01</td>\n",
       "      <td>False</td>\n",
       "    </tr>\n",
       "    <tr>\n",
       "      <th>browser[T.Chrome]</th>\n",
       "      <td>-0.007175</td>\n",
       "      <td>9.871562e-01</td>\n",
       "      <td>False</td>\n",
       "    </tr>\n",
       "    <tr>\n",
       "      <th>browser[T.FireFox]</th>\n",
       "      <td>-0.007489</td>\n",
       "      <td>9.094803e-01</td>\n",
       "      <td>False</td>\n",
       "    </tr>\n",
       "    <tr>\n",
       "      <th>browser[T.IE]</th>\n",
       "      <td>-0.025114</td>\n",
       "      <td>3.979362e-01</td>\n",
       "      <td>False</td>\n",
       "    </tr>\n",
       "    <tr>\n",
       "      <th>browser[T.Iphone_App]</th>\n",
       "      <td>0.013884</td>\n",
       "      <td>2.707904e-01</td>\n",
       "      <td>False</td>\n",
       "    </tr>\n",
       "    <tr>\n",
       "      <th>browser[T.Opera]</th>\n",
       "      <td>0.096854</td>\n",
       "      <td>9.413052e-02</td>\n",
       "      <td>False</td>\n",
       "    </tr>\n",
       "    <tr>\n",
       "      <th>browser[T.Safari]</th>\n",
       "      <td>-0.060496</td>\n",
       "      <td>3.357204e-02</td>\n",
       "      <td>False</td>\n",
       "    </tr>\n",
       "    <tr>\n",
       "      <th>browser_language[T.ES]</th>\n",
       "      <td>0.031057</td>\n",
       "      <td>1.508640e-01</td>\n",
       "      <td>False</td>\n",
       "    </tr>\n",
       "    <tr>\n",
       "      <th>browser_language[T.Other]</th>\n",
       "      <td>0.007480</td>\n",
       "      <td>6.822611e-01</td>\n",
       "      <td>False</td>\n",
       "    </tr>\n",
       "    <tr>\n",
       "      <th>country[T.Bolivia]</th>\n",
       "      <td>1.248559</td>\n",
       "      <td>1.283961e-01</td>\n",
       "      <td>False</td>\n",
       "    </tr>\n",
       "    <tr>\n",
       "      <th>country[T.Chile]</th>\n",
       "      <td>1.272445</td>\n",
       "      <td>5.327854e-03</td>\n",
       "      <td>True</td>\n",
       "    </tr>\n",
       "    <tr>\n",
       "      <th>country[T.Colombia]</th>\n",
       "      <td>1.307445</td>\n",
       "      <td>1.167774e-11</td>\n",
       "      <td>True</td>\n",
       "    </tr>\n",
       "    <tr>\n",
       "      <th>country[T.Costa Rica]</th>\n",
       "      <td>1.347201</td>\n",
       "      <td>5.951718e-03</td>\n",
       "      <td>True</td>\n",
       "    </tr>\n",
       "    <tr>\n",
       "      <th>country[T.Ecuador]</th>\n",
       "      <td>1.260251</td>\n",
       "      <td>3.582390e-02</td>\n",
       "      <td>False</td>\n",
       "    </tr>\n",
       "    <tr>\n",
       "      <th>country[T.El Salvador]</th>\n",
       "      <td>1.293396</td>\n",
       "      <td>2.568038e-02</td>\n",
       "      <td>False</td>\n",
       "    </tr>\n",
       "    <tr>\n",
       "      <th>country[T.Guatemala]</th>\n",
       "      <td>1.270912</td>\n",
       "      <td>1.665477e-02</td>\n",
       "      <td>False</td>\n",
       "    </tr>\n",
       "    <tr>\n",
       "      <th>country[T.Honduras]</th>\n",
       "      <td>1.261383</td>\n",
       "      <td>1.079045e-01</td>\n",
       "      <td>False</td>\n",
       "    </tr>\n",
       "    <tr>\n",
       "      <th>country[T.Mexico]</th>\n",
       "      <td>1.287182</td>\n",
       "      <td>2.100723e-22</td>\n",
       "      <td>True</td>\n",
       "    </tr>\n",
       "    <tr>\n",
       "      <th>country[T.Nicaragua]</th>\n",
       "      <td>1.347854</td>\n",
       "      <td>2.191947e-03</td>\n",
       "      <td>True</td>\n",
       "    </tr>\n",
       "    <tr>\n",
       "      <th>country[T.Panama]</th>\n",
       "      <td>1.230869</td>\n",
       "      <td>4.634585e-01</td>\n",
       "      <td>False</td>\n",
       "    </tr>\n",
       "    <tr>\n",
       "      <th>country[T.Paraguay]</th>\n",
       "      <td>1.254111</td>\n",
       "      <td>1.851753e-01</td>\n",
       "      <td>False</td>\n",
       "    </tr>\n",
       "    <tr>\n",
       "      <th>country[T.Peru]</th>\n",
       "      <td>1.285208</td>\n",
       "      <td>2.474133e-05</td>\n",
       "      <td>True</td>\n",
       "    </tr>\n",
       "    <tr>\n",
       "      <th>country[T.Uruguay]</th>\n",
       "      <td>-0.128098</td>\n",
       "      <td>2.718072e-24</td>\n",
       "      <td>True</td>\n",
       "    </tr>\n",
       "    <tr>\n",
       "      <th>country[T.Venezuela]</th>\n",
       "      <td>1.273161</td>\n",
       "      <td>3.483266e-04</td>\n",
       "      <td>True</td>\n",
       "    </tr>\n",
       "    <tr>\n",
       "      <th>device[T.Web]</th>\n",
       "      <td>-0.003419</td>\n",
       "      <td>1.328586e-01</td>\n",
       "      <td>False</td>\n",
       "    </tr>\n",
       "    <tr>\n",
       "      <th>sex[T.M]</th>\n",
       "      <td>-0.000466</td>\n",
       "      <td>9.697425e-01</td>\n",
       "      <td>False</td>\n",
       "    </tr>\n",
       "    <tr>\n",
       "      <th>source[T.Direct]</th>\n",
       "      <td>0.014217</td>\n",
       "      <td>9.501801e-01</td>\n",
       "      <td>False</td>\n",
       "    </tr>\n",
       "    <tr>\n",
       "      <th>source[T.SEO]</th>\n",
       "      <td>0.009163</td>\n",
       "      <td>5.720468e-01</td>\n",
       "      <td>False</td>\n",
       "    </tr>\n",
       "    <tr>\n",
       "      <th>age</th>\n",
       "      <td>0.000093</td>\n",
       "      <td>8.698080e-01</td>\n",
       "      <td>False</td>\n",
       "    </tr>\n",
       "    <tr>\n",
       "      <th>test</th>\n",
       "      <td>0.001502</td>\n",
       "      <td>1.559329e-13</td>\n",
       "      <td>True</td>\n",
       "    </tr>\n",
       "  </tbody>\n",
       "</table>\n",
       "</div>"
      ],
      "text/plain": [
       "                           coefficient          pval    sig\n",
       "Intercept                    -2.141095           NaN  False\n",
       "ads_channel[T.Facebook]       0.067987  8.940296e-02  False\n",
       "ads_channel[T.Google]         0.035748  8.870236e-01  False\n",
       "ads_channel[T.None]           0.023380  5.381704e-01  False\n",
       "ads_channel[T.Other]         -0.110494  7.297012e-02  False\n",
       "ads_channel[T.Yahoo]          0.049509  7.018742e-01  False\n",
       "browser[T.Chrome]            -0.007175  9.871562e-01  False\n",
       "browser[T.FireFox]           -0.007489  9.094803e-01  False\n",
       "browser[T.IE]                -0.025114  3.979362e-01  False\n",
       "browser[T.Iphone_App]         0.013884  2.707904e-01  False\n",
       "browser[T.Opera]              0.096854  9.413052e-02  False\n",
       "browser[T.Safari]            -0.060496  3.357204e-02  False\n",
       "browser_language[T.ES]        0.031057  1.508640e-01  False\n",
       "browser_language[T.Other]     0.007480  6.822611e-01  False\n",
       "country[T.Bolivia]            1.248559  1.283961e-01  False\n",
       "country[T.Chile]              1.272445  5.327854e-03   True\n",
       "country[T.Colombia]           1.307445  1.167774e-11   True\n",
       "country[T.Costa Rica]         1.347201  5.951718e-03   True\n",
       "country[T.Ecuador]            1.260251  3.582390e-02  False\n",
       "country[T.El Salvador]        1.293396  2.568038e-02  False\n",
       "country[T.Guatemala]          1.270912  1.665477e-02  False\n",
       "country[T.Honduras]           1.261383  1.079045e-01  False\n",
       "country[T.Mexico]             1.287182  2.100723e-22   True\n",
       "country[T.Nicaragua]          1.347854  2.191947e-03   True\n",
       "country[T.Panama]             1.230869  4.634585e-01  False\n",
       "country[T.Paraguay]           1.254111  1.851753e-01  False\n",
       "country[T.Peru]               1.285208  2.474133e-05   True\n",
       "country[T.Uruguay]           -0.128098  2.718072e-24   True\n",
       "country[T.Venezuela]          1.273161  3.483266e-04   True\n",
       "device[T.Web]                -0.003419  1.328586e-01  False\n",
       "sex[T.M]                     -0.000466  9.697425e-01  False\n",
       "source[T.Direct]              0.014217  9.501801e-01  False\n",
       "source[T.SEO]                 0.009163  5.720468e-01  False\n",
       "age                           0.000093  8.698080e-01  False\n",
       "test                          0.001502  1.559329e-13   True"
      ]
     },
     "execution_count": 120,
     "metadata": {},
     "output_type": "execute_result"
    }
   ],
   "source": [
    "# get p-values\n",
    "feat2 = f_regression(x, y)\n",
    "\n",
    "# create DF to store coefficients and p-values\n",
    "r2 = DataFrame(data=fit2.coef_[0],index=x.columns.values,columns=['coefficient'])\n",
    "r2['pval'] = feat2[1]\n",
    "r2['sig'] = r2['pval'] <= .01\n",
    "\n",
    "# show results\n",
    "r2"
   ]
  },
  {
   "cell_type": "markdown",
   "metadata": {},
   "source": [
    "Looking at all of the results from the logistic regression, we see that most variables are not significant at a 1% level, with most significant variables being country indicators. In the next cell, we will look just at significant variables and attempt to draw some conclusions."
   ]
  },
  {
   "cell_type": "code",
   "execution_count": 118,
   "metadata": {
    "collapsed": false
   },
   "outputs": [
    {
     "data": {
      "text/html": [
       "<div>\n",
       "<table border=\"1\" class=\"dataframe\">\n",
       "  <thead>\n",
       "    <tr style=\"text-align: right;\">\n",
       "      <th></th>\n",
       "      <th>coefficient</th>\n",
       "      <th>pval</th>\n",
       "      <th>sig</th>\n",
       "    </tr>\n",
       "  </thead>\n",
       "  <tbody>\n",
       "    <tr>\n",
       "      <th>country[T.Chile]</th>\n",
       "      <td>1.272445</td>\n",
       "      <td>5.327854e-03</td>\n",
       "      <td>True</td>\n",
       "    </tr>\n",
       "    <tr>\n",
       "      <th>country[T.Colombia]</th>\n",
       "      <td>1.307445</td>\n",
       "      <td>1.167774e-11</td>\n",
       "      <td>True</td>\n",
       "    </tr>\n",
       "    <tr>\n",
       "      <th>country[T.Costa Rica]</th>\n",
       "      <td>1.347201</td>\n",
       "      <td>5.951718e-03</td>\n",
       "      <td>True</td>\n",
       "    </tr>\n",
       "    <tr>\n",
       "      <th>country[T.Mexico]</th>\n",
       "      <td>1.287182</td>\n",
       "      <td>2.100723e-22</td>\n",
       "      <td>True</td>\n",
       "    </tr>\n",
       "    <tr>\n",
       "      <th>country[T.Nicaragua]</th>\n",
       "      <td>1.347854</td>\n",
       "      <td>2.191947e-03</td>\n",
       "      <td>True</td>\n",
       "    </tr>\n",
       "    <tr>\n",
       "      <th>country[T.Peru]</th>\n",
       "      <td>1.285208</td>\n",
       "      <td>2.474133e-05</td>\n",
       "      <td>True</td>\n",
       "    </tr>\n",
       "    <tr>\n",
       "      <th>country[T.Uruguay]</th>\n",
       "      <td>-0.128098</td>\n",
       "      <td>2.718072e-24</td>\n",
       "      <td>True</td>\n",
       "    </tr>\n",
       "    <tr>\n",
       "      <th>country[T.Venezuela]</th>\n",
       "      <td>1.273161</td>\n",
       "      <td>3.483266e-04</td>\n",
       "      <td>True</td>\n",
       "    </tr>\n",
       "    <tr>\n",
       "      <th>test</th>\n",
       "      <td>0.001502</td>\n",
       "      <td>1.559329e-13</td>\n",
       "      <td>True</td>\n",
       "    </tr>\n",
       "  </tbody>\n",
       "</table>\n",
       "</div>"
      ],
      "text/plain": [
       "                       coefficient          pval   sig\n",
       "country[T.Chile]          1.272445  5.327854e-03  True\n",
       "country[T.Colombia]       1.307445  1.167774e-11  True\n",
       "country[T.Costa Rica]     1.347201  5.951718e-03  True\n",
       "country[T.Mexico]         1.287182  2.100723e-22  True\n",
       "country[T.Nicaragua]      1.347854  2.191947e-03  True\n",
       "country[T.Peru]           1.285208  2.474133e-05  True\n",
       "country[T.Uruguay]       -0.128098  2.718072e-24  True\n",
       "country[T.Venezuela]      1.273161  3.483266e-04  True\n",
       "test                      0.001502  1.559329e-13  True"
      ]
     },
     "execution_count": 118,
     "metadata": {},
     "output_type": "execute_result"
    }
   ],
   "source": [
    "# Let's just examine variables significant at a 1% level\n",
    "r2[r2['sig'] == True]"
   ]
  },
  {
   "cell_type": "markdown",
   "metadata": {},
   "source": [
    "The above variables are all significant at a 1% level, so we can reject the null hypothesis that they have no effect on the probability of conversion. Excepting *test* and the indicator variable for a user in Uruguay, the rest of the significant variables are country indicators with a value of approximately 1.3. This means that any of these values being equal to true - if the user is in any of these countries - means the log-odds of the probability of conversion increases by 1.3. Raising *e* to this value gives us approximately 3.66, so that a user is 3.66 times more likely to convert if they are in one of these countries compared to the base case of Argentina. We saw earlier that Argentina has a conversion rate far below most other countries, so the significance of these variables is essentially applying a correction back to the non-Argentina level. *e* raised to Uruguay's coefficient of -.12 yields approximately .9, so that Uruguayan users are 90% as likely to convert as an Argentinian user, all else being equal.\n",
    "\n",
    "In a regression that accounts for all of the other information we have, the coefficient associated with the test treatment - local translations - is actually statistically significant with an exceedingly small p-value. However, its coefficient is so close to zero that the true effect is immaterial. *e* raised to this power is almost exactly one, so that the odds of conversion are unaffected by the test treatment. \n",
    "\n",
    "Based on our exploratory analysis, we can conclude that the local translations effectively have no effect on conversion rate, and the difference in overall conversion rate for the test and control groups is due to sampling bias. Users from Argentina are overrepresented in the test group, and these users have much lower conversion rates, which drags down the overall conversion rate. When we account for this imbalance, we do not see a significant effect of the test treatment, based on the results from a logistic regression."
   ]
  },
  {
   "cell_type": "markdown",
   "metadata": {},
   "source": [
    "### Part 3 - If you identified what was wrong, design an algorithm that would return FALSE if thesame problem is happening in the future and TRUE if everything is good and the results can be trusted.\n",
    "\n",
    "We have established that the problem is sampling bias, so we must develop a test to ensure that users are distributed in the same way across both the test and control groups. We will modify the test used above to create a function that takes a dataframe of observed user data and compares how it looks across all of our independent variables in the test and control groups. "
   ]
  },
  {
   "cell_type": "code",
   "execution_count": 144,
   "metadata": {
    "collapsed": false
   },
   "outputs": [],
   "source": [
    "def disttest(df, test, thresh, exclcols):\n",
    "    ### inputs:\n",
    "    # df: dataframe of observed variables\n",
    "    # test: column in df that indicates test (1) and control (0) treatment groups\n",
    "    # exclcols: list of columns to exclude from analysis - dependent variable, timestamp, etc. for now, exclude numerical columns\n",
    "    # thresh: percentage difference threshold to include in results\n",
    "    \n",
    "    # create list of variables we care about    \n",
    "    varlist = list(df.columns - exclcols - [test])\n",
    "    \n",
    "    # initialize results to return\n",
    "    difflist = []\n",
    "    \n",
    "    # loop through each variable we care about\n",
    "    for i in varlist:\n",
    "        # calculate fraction of each category for each independent variable for both test and control\n",
    "        test1_i = DataFrame(df[i][df[test] == 1].value_counts()/df[i][df[test] == 1].value_counts().sum())\n",
    "        test0_i = DataFrame(df[i][df[test] == 0].value_counts()/df[i][df[test] == 0].value_counts().sum())\n",
    "        t_i = test1_i.merge(test0_i, how='inner',left_index=True,right_index=True,suffixes=(' - Test = 1',' - Test = 0'))\n",
    "        \n",
    "        # loop through each category for each variable\n",
    "        colcats = list(t_i.index.values)\n",
    "        for j in colcats:\n",
    "            # if difference in proportion exceeds threshold, add it to the results list\n",
    "            if np.abs(t_i.ix[j][0] - t_i.ix[j][1]) > thresh:\n",
    "                difflist.append((i,j))\n",
    "    \n",
    "    # if list is empty - i.e. no variables have different proportions - then return true, otherwise print warning and return list\n",
    "    if difflist == []:\n",
    "        return True\n",
    "    else: \n",
    "        print \"FALSE: One or more variables may have sampling bias, see printout of misaligned distributions below\"\n",
    "        return difflist\n",
    "        \n",
    "        "
   ]
  },
  {
   "cell_type": "code",
   "execution_count": 145,
   "metadata": {
    "collapsed": false
   },
   "outputs": [
    {
     "name": "stderr",
     "output_type": "stream",
     "text": [
      "C:\\Users\\jzell\\Anaconda2\\lib\\site-packages\\ipykernel\\__main__.py:9: FutureWarning: using '-' to provide set differences with Indexes is deprecated, use .difference()\n"
     ]
    },
    {
     "name": "stdout",
     "output_type": "stream",
     "text": [
      "FALSE: One or more variables may have sampling bias, see printout of misaligned distributions below\n"
     ]
    },
    {
     "data": {
      "text/plain": [
       "[('country', 'Mexico'),\n",
       " ('country', 'Colombia'),\n",
       " ('country', 'Peru'),\n",
       " ('country', 'Venezuela'),\n",
       " ('country', 'Argentina'),\n",
       " ('country', 'Uruguay')]"
      ]
     },
     "execution_count": 145,
     "metadata": {},
     "output_type": "execute_result"
    }
   ],
   "source": [
    "# let's test this with the above data - we should see the six countries we identified earlier\n",
    "disttest(df=test_nosp, exclcols=['conversion','date'],test='test',thresh=.01)\n",
    "## we do!"
   ]
  },
  {
   "cell_type": "code",
   "execution_count": 143,
   "metadata": {
    "collapsed": false
   },
   "outputs": [
    {
     "name": "stderr",
     "output_type": "stream",
     "text": [
      "C:\\Users\\jzell\\Anaconda2\\lib\\site-packages\\ipykernel\\__main__.py:9: FutureWarning: using '-' to provide set differences with Indexes is deprecated, use .difference()\n"
     ]
    },
    {
     "data": {
      "text/plain": [
       "True"
      ]
     },
     "execution_count": 143,
     "metadata": {},
     "output_type": "execute_result"
    }
   ],
   "source": [
    "# let's test the function excluding country from analysis - the function should return True\n",
    "disttest(df=test_nosp, exclcols=['conversion','date','country'],test='test',thresh=.01)\n",
    "## it does!!"
   ]
  },
  {
   "cell_type": "markdown",
   "metadata": {
    "collapsed": false
   },
   "source": [
    "## Conclusion\n",
    "\n",
    "We were able to successfully answer the three posed questions:\n",
    "\n",
    "1. We confirmed that the overall conversion rate is indeed lower for users who saw the localized translations, so at a high level, the test is actually negative and the difference is statistically significant. We excluded Spain from analysis, since the problem concerns countries who will see local translations rather than those from Spain. \n",
    "\n",
    "2. We identified that the discrepancy in results is not actually due to the test itself, but rather due to an imbalance in the distribution of users in the test and control groups. Users in the test group, who saw localized translations, had a much higher proportion of Argentine users, who convert at a much lower rate than most other countries. This imbalance is what led to the perceived lower response rate for test group users. A logistic regression that included all demographic information as well as the test/control split showed that the test variable itself had very little effect on the probability of conversion, while Argentinian and Uruguayan users were much less likely to convert. \n",
    "\n",
    "3. To prevent future sampling bias, we developed a function that takes a dataframe of observed results and compares the proportion of each category for each variable for both the test and control groups. If the difference in these proportions across test and control exceeds a specified threshold, the variable and categroy is returned for further analysis. At the moment, this does not include code to handle numerical variables, so a necessary next step is to expand the function to check the variable type, and if it's numerical, compare the mean and standard deviation rather than the proportion in each category.\n",
    "\n",
    "Although we can conclude for now that the local translations do not actually negatively affect results, there are some risks and more analysis is necessary. For example, it is possible that the test did not run long enough (data is only from three days) and conversion data was not accurately gathered. Or, users may be buying products or services not covered in the conversion metric. Additionally, the translations may have different effects on different users. For example, if a certain demographic is interested in the product because of its associations with Spain, then that group may be less likely to purchas upon seeing local translations. \n",
    "\n",
    "Next steps include re-running the test for a longer time period, re-examining what defines a \"conversion,\" and exploring the effect of translations on different product or user groups. As well, metrics other than conversion could be studied - such as time spent on the site, types of products or pages viewed, etc.\n",
    "\n",
    "In terms of more robust statistical analysis, additional logistic regressions or other binary classification tools could be applied to uncover additional relationships between variables. Since we are more concerned with the relationships bewteen variables rather than out-of-sample prediction, additional significance tests such as chi-squared could be used. The sampling bias test function could be amended to automatically perform tests for statistical significance instead of comparing to a pre-defined threshold, as well as improved by adding the ability to handle numerical variables as discussed above."
   ]
  }
 ],
 "metadata": {
  "anaconda-cloud": {},
  "kernelspec": {
   "display_name": "Python [Root]",
   "language": "python",
   "name": "Python [Root]"
  },
  "language_info": {
   "codemirror_mode": {
    "name": "ipython",
    "version": 2
   },
   "file_extension": ".py",
   "mimetype": "text/x-python",
   "name": "python",
   "nbconvert_exporter": "python",
   "pygments_lexer": "ipython2",
   "version": "2.7.11"
  }
 },
 "nbformat": 4,
 "nbformat_minor": 0
}
