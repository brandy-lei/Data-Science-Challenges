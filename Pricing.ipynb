{
 "cells": [
  {
   "cell_type": "markdown",
   "metadata": {},
   "source": [
    "# Pricing\n",
    "### 1/26/2017\n",
    "\n",
    "## Problem Statement\n",
    "Company XYZ sells a software for $39. Since revenue has been flat for some time, the VP of Product has decided to run a test increasing the price. She hopes that this would increase revenue. In the experiment, 66 percent of the users have seen the old price (39), while a random sample of 33% users a higher price (59). The test has been running for some time and the VP of Product is interested in understanding how it went and whether it would make sense to increase the price for all the users.  \n",
    "\n",
    "\n",
    "Especially he asked you the following questions:  \n",
    "--Should the company sell its software for 39 or 59?  \n",
    "--The VP of Product is interested in having a holistic view into user behavior, especially focusing on actionable insights that might increase conversion rate. What are your main findings looking at the data?  \n",
    "--[Bonus] The VP of Product feels that the test has been running for too long and he should have been able to get statistically significant results in a shorter time. Do you agree with her intuition? After how many days you would have stopped the test? Please, explain why.\n",
    "\n",
    "## Part 0 - Setup, Import, Exploration\n",
    "\n",
    "Before any complex analysis, let's perform some exploratory analysis and sanity checks to ensure our data makes sense."
   ]
  },
  {
   "cell_type": "code",
   "execution_count": 1,
   "metadata": {
    "collapsed": false
   },
   "outputs": [
    {
     "name": "stdout",
     "output_type": "stream",
     "text": [
      "Populating the interactive namespace from numpy and matplotlib\n"
     ]
    }
   ],
   "source": [
    "# setup and import\n",
    "## basics\n",
    "import pandas as pd\n",
    "import numpy as np\n",
    "from pandas import DataFrame, Series\n",
    "\n",
    "## date manipulation\n",
    "from dateutil.parser import parse\n",
    "\n",
    "## plotting\n",
    "import matplotlib.pyplot as plt\n",
    "%pylab inline\n",
    "\n",
    "## formulas\n",
    "import patsy"
   ]
  },
  {
   "cell_type": "code",
   "execution_count": 2,
   "metadata": {
    "collapsed": true
   },
   "outputs": [],
   "source": [
    "# import data\n",
    "results = pd.read_csv('test_results.csv')\n",
    "users = pd.read_csv('user_table.csv')"
   ]
  },
  {
   "cell_type": "code",
   "execution_count": 3,
   "metadata": {
    "collapsed": false
   },
   "outputs": [
    {
     "data": {
      "text/html": [
       "<div>\n",
       "<table border=\"1\" class=\"dataframe\">\n",
       "  <thead>\n",
       "    <tr style=\"text-align: right;\">\n",
       "      <th></th>\n",
       "      <th>user_id</th>\n",
       "      <th>timestamp</th>\n",
       "      <th>source</th>\n",
       "      <th>device</th>\n",
       "      <th>operative_system</th>\n",
       "      <th>test</th>\n",
       "      <th>price</th>\n",
       "      <th>converted</th>\n",
       "    </tr>\n",
       "  </thead>\n",
       "  <tbody>\n",
       "    <tr>\n",
       "      <th>0</th>\n",
       "      <td>604839</td>\n",
       "      <td>2015-05-08 03:38:34</td>\n",
       "      <td>ads_facebook</td>\n",
       "      <td>mobile</td>\n",
       "      <td>iOS</td>\n",
       "      <td>0</td>\n",
       "      <td>39</td>\n",
       "      <td>0</td>\n",
       "    </tr>\n",
       "    <tr>\n",
       "      <th>1</th>\n",
       "      <td>624057</td>\n",
       "      <td>2015-05-10 21:08:46</td>\n",
       "      <td>seo-google</td>\n",
       "      <td>mobile</td>\n",
       "      <td>android</td>\n",
       "      <td>0</td>\n",
       "      <td>39</td>\n",
       "      <td>0</td>\n",
       "    </tr>\n",
       "    <tr>\n",
       "      <th>2</th>\n",
       "      <td>317970</td>\n",
       "      <td>2015-04-04 15:01:23</td>\n",
       "      <td>ads-bing</td>\n",
       "      <td>mobile</td>\n",
       "      <td>android</td>\n",
       "      <td>0</td>\n",
       "      <td>39</td>\n",
       "      <td>0</td>\n",
       "    </tr>\n",
       "    <tr>\n",
       "      <th>3</th>\n",
       "      <td>685636</td>\n",
       "      <td>2015-05-07 07:26:01</td>\n",
       "      <td>direct_traffic</td>\n",
       "      <td>mobile</td>\n",
       "      <td>iOS</td>\n",
       "      <td>1</td>\n",
       "      <td>59</td>\n",
       "      <td>0</td>\n",
       "    </tr>\n",
       "    <tr>\n",
       "      <th>4</th>\n",
       "      <td>820854</td>\n",
       "      <td>2015-05-24 11:04:40</td>\n",
       "      <td>ads_facebook</td>\n",
       "      <td>web</td>\n",
       "      <td>mac</td>\n",
       "      <td>0</td>\n",
       "      <td>39</td>\n",
       "      <td>0</td>\n",
       "    </tr>\n",
       "  </tbody>\n",
       "</table>\n",
       "</div>"
      ],
      "text/plain": [
       "   user_id            timestamp          source  device operative_system  \\\n",
       "0   604839  2015-05-08 03:38:34    ads_facebook  mobile              iOS   \n",
       "1   624057  2015-05-10 21:08:46      seo-google  mobile          android   \n",
       "2   317970  2015-04-04 15:01:23        ads-bing  mobile          android   \n",
       "3   685636  2015-05-07 07:26:01  direct_traffic  mobile              iOS   \n",
       "4   820854  2015-05-24 11:04:40    ads_facebook     web              mac   \n",
       "\n",
       "   test  price  converted  \n",
       "0     0     39          0  \n",
       "1     0     39          0  \n",
       "2     0     39          0  \n",
       "3     1     59          0  \n",
       "4     0     39          0  "
      ]
     },
     "execution_count": 3,
     "metadata": {},
     "output_type": "execute_result"
    }
   ],
   "source": [
    "# let's look at the first few rows\n",
    "results.head()"
   ]
  },
  {
   "cell_type": "code",
   "execution_count": 4,
   "metadata": {
    "collapsed": false
   },
   "outputs": [
    {
     "data": {
      "text/html": [
       "<div>\n",
       "<table border=\"1\" class=\"dataframe\">\n",
       "  <thead>\n",
       "    <tr style=\"text-align: right;\">\n",
       "      <th></th>\n",
       "      <th>user_id</th>\n",
       "      <th>city</th>\n",
       "      <th>country</th>\n",
       "      <th>lat</th>\n",
       "      <th>long</th>\n",
       "    </tr>\n",
       "  </thead>\n",
       "  <tbody>\n",
       "    <tr>\n",
       "      <th>0</th>\n",
       "      <td>510335</td>\n",
       "      <td>Peabody</td>\n",
       "      <td>USA</td>\n",
       "      <td>42.53</td>\n",
       "      <td>-70.97</td>\n",
       "    </tr>\n",
       "    <tr>\n",
       "      <th>1</th>\n",
       "      <td>89568</td>\n",
       "      <td>Reno</td>\n",
       "      <td>USA</td>\n",
       "      <td>39.54</td>\n",
       "      <td>-119.82</td>\n",
       "    </tr>\n",
       "    <tr>\n",
       "      <th>2</th>\n",
       "      <td>434134</td>\n",
       "      <td>Rialto</td>\n",
       "      <td>USA</td>\n",
       "      <td>34.11</td>\n",
       "      <td>-117.39</td>\n",
       "    </tr>\n",
       "    <tr>\n",
       "      <th>3</th>\n",
       "      <td>289769</td>\n",
       "      <td>Carson City</td>\n",
       "      <td>USA</td>\n",
       "      <td>39.15</td>\n",
       "      <td>-119.74</td>\n",
       "    </tr>\n",
       "    <tr>\n",
       "      <th>4</th>\n",
       "      <td>939586</td>\n",
       "      <td>Chicago</td>\n",
       "      <td>USA</td>\n",
       "      <td>41.84</td>\n",
       "      <td>-87.68</td>\n",
       "    </tr>\n",
       "  </tbody>\n",
       "</table>\n",
       "</div>"
      ],
      "text/plain": [
       "   user_id         city country    lat    long\n",
       "0   510335      Peabody     USA  42.53  -70.97\n",
       "1    89568         Reno     USA  39.54 -119.82\n",
       "2   434134       Rialto     USA  34.11 -117.39\n",
       "3   289769  Carson City     USA  39.15 -119.74\n",
       "4   939586      Chicago     USA  41.84  -87.68"
      ]
     },
     "execution_count": 4,
     "metadata": {},
     "output_type": "execute_result"
    }
   ],
   "source": [
    "# let's look at the first few rows\n",
    "users.head()"
   ]
  },
  {
   "cell_type": "markdown",
   "metadata": {},
   "source": [
    "Before diving into analysis, we should take a look at the data and perform a few checks for quality. This includes checking for missing values, examinig data types, and looking at the distribution of different variables to ensure nothing strange is happening."
   ]
  },
  {
   "cell_type": "code",
   "execution_count": 5,
   "metadata": {
    "collapsed": true
   },
   "outputs": [],
   "source": [
    "# First, let's check for missing values\n",
    "### define a function to check for missing values in a dataframe\n",
    "def fillprc(dff):\n",
    "    fillprc = [] # initialize empty list to be returned later\n",
    "    dfcols = list(dff.columns.values) # get list of all column names\n",
    "    for i in dfcols: # loop through each column and get percentage filled, defined as ratio of lengths\n",
    "        colname = i\n",
    "        collfillprc = float(dff[i].value_counts().sum())/dff[i].value_counts(dropna=False).sum()\n",
    "    \n",
    "        fillprc.append((colname,collfillprc)) # add tuple of colname and percentage filled to list\n",
    "     \n",
    "    missinglist = [f for f in fillprc if f[1] != 1] # Filter fillprc list for less than 100%\n",
    "\n",
    "    return missinglist"
   ]
  },
  {
   "cell_type": "code",
   "execution_count": 6,
   "metadata": {
    "collapsed": false
   },
   "outputs": [
    {
     "data": {
      "text/plain": [
       "[]"
      ]
     },
     "execution_count": 6,
     "metadata": {},
     "output_type": "execute_result"
    }
   ],
   "source": [
    "# check for missing data in results\n",
    "fillprc(results)\n",
    "# great!"
   ]
  },
  {
   "cell_type": "code",
   "execution_count": 7,
   "metadata": {
    "collapsed": false
   },
   "outputs": [
    {
     "data": {
      "text/plain": [
       "[]"
      ]
     },
     "execution_count": 7,
     "metadata": {},
     "output_type": "execute_result"
    }
   ],
   "source": [
    "# check for missing data in users\n",
    "fillprc(users)\n",
    "# great! we have some very complete data"
   ]
  },
  {
   "cell_type": "code",
   "execution_count": 8,
   "metadata": {
    "collapsed": false
   },
   "outputs": [
    {
     "data": {
      "text/plain": [
       "user_id              int64\n",
       "timestamp           object\n",
       "source              object\n",
       "device              object\n",
       "operative_system    object\n",
       "test                 int64\n",
       "price                int64\n",
       "converted            int64\n",
       "dtype: object"
      ]
     },
     "execution_count": 8,
     "metadata": {},
     "output_type": "execute_result"
    }
   ],
   "source": [
    "# now, let's look at the data types to see if anything needs to be converted\n",
    "results.dtypes\n",
    "# looks ok!"
   ]
  },
  {
   "cell_type": "code",
   "execution_count": 9,
   "metadata": {
    "collapsed": false,
    "scrolled": true
   },
   "outputs": [
    {
     "data": {
      "text/plain": [
       "user_id      int64\n",
       "city        object\n",
       "country     object\n",
       "lat        float64\n",
       "long       float64\n",
       "dtype: object"
      ]
     },
     "execution_count": 9,
     "metadata": {},
     "output_type": "execute_result"
    }
   ],
   "source": [
    "users.dtypes\n",
    "# again, looks fine"
   ]
  },
  {
   "cell_type": "code",
   "execution_count": 10,
   "metadata": {
    "collapsed": false
   },
   "outputs": [
    {
     "data": {
      "text/plain": [
       "(275616, 275616)"
      ]
     },
     "execution_count": 10,
     "metadata": {},
     "output_type": "execute_result"
    }
   ],
   "source": [
    "# let's see if we have one row per user in both tables\n",
    "len(set(users['user_id'])), len(users) # this compares how many unique users we have to how many rows in the table\n",
    "# they should be equal and they are!"
   ]
  },
  {
   "cell_type": "code",
   "execution_count": 11,
   "metadata": {
    "collapsed": false
   },
   "outputs": [
    {
     "data": {
      "text/plain": [
       "(316800, 316800)"
      ]
     },
     "execution_count": 11,
     "metadata": {},
     "output_type": "execute_result"
    }
   ],
   "source": [
    "len(set(results['user_id'])), len(results) # this compares how many unique users we have to how many rows in the table\n",
    "# they should be equal and they are!"
   ]
  },
  {
   "cell_type": "markdown",
   "metadata": {},
   "source": [
    "Immediately we recognize that the list of results has about 40k more observations (and unique users) than the user information table. This means there are some users for which we do not have information about their location. This is a pretty significant percentage of our data, so we shouldn't necessarily drop these observations straight away. However, we will need to think about how to deal with this missing data, as well as try to understand if there is any systematic difference in the makeup of users who do and do not have additional location information. \n",
    "\n",
    "For now, let's combine all the data we have into one table by performing a left join of the results with the user information, merging on user id (which we have already established to be a unique identifier in both tables). A left join will suffice since this will exclude users that are only in the user table, which is fine since we don't have any information about their purchasing behavior."
   ]
  },
  {
   "cell_type": "code",
   "execution_count": 12,
   "metadata": {
    "collapsed": false
   },
   "outputs": [
    {
     "data": {
      "text/html": [
       "<div>\n",
       "<table border=\"1\" class=\"dataframe\">\n",
       "  <thead>\n",
       "    <tr style=\"text-align: right;\">\n",
       "      <th></th>\n",
       "      <th>user_id</th>\n",
       "      <th>timestamp</th>\n",
       "      <th>source</th>\n",
       "      <th>device</th>\n",
       "      <th>operative_system</th>\n",
       "      <th>test</th>\n",
       "      <th>price</th>\n",
       "      <th>converted</th>\n",
       "      <th>city</th>\n",
       "      <th>country</th>\n",
       "      <th>lat</th>\n",
       "      <th>long</th>\n",
       "    </tr>\n",
       "  </thead>\n",
       "  <tbody>\n",
       "    <tr>\n",
       "      <th>0</th>\n",
       "      <td>604839</td>\n",
       "      <td>2015-05-08 03:38:34</td>\n",
       "      <td>ads_facebook</td>\n",
       "      <td>mobile</td>\n",
       "      <td>iOS</td>\n",
       "      <td>0</td>\n",
       "      <td>39</td>\n",
       "      <td>0</td>\n",
       "      <td>Buffalo</td>\n",
       "      <td>USA</td>\n",
       "      <td>42.89</td>\n",
       "      <td>-78.86</td>\n",
       "    </tr>\n",
       "    <tr>\n",
       "      <th>1</th>\n",
       "      <td>624057</td>\n",
       "      <td>2015-05-10 21:08:46</td>\n",
       "      <td>seo-google</td>\n",
       "      <td>mobile</td>\n",
       "      <td>android</td>\n",
       "      <td>0</td>\n",
       "      <td>39</td>\n",
       "      <td>0</td>\n",
       "      <td>Lakeville</td>\n",
       "      <td>USA</td>\n",
       "      <td>44.68</td>\n",
       "      <td>-93.24</td>\n",
       "    </tr>\n",
       "    <tr>\n",
       "      <th>2</th>\n",
       "      <td>317970</td>\n",
       "      <td>2015-04-04 15:01:23</td>\n",
       "      <td>ads-bing</td>\n",
       "      <td>mobile</td>\n",
       "      <td>android</td>\n",
       "      <td>0</td>\n",
       "      <td>39</td>\n",
       "      <td>0</td>\n",
       "      <td>Parma</td>\n",
       "      <td>USA</td>\n",
       "      <td>41.38</td>\n",
       "      <td>-81.73</td>\n",
       "    </tr>\n",
       "    <tr>\n",
       "      <th>3</th>\n",
       "      <td>685636</td>\n",
       "      <td>2015-05-07 07:26:01</td>\n",
       "      <td>direct_traffic</td>\n",
       "      <td>mobile</td>\n",
       "      <td>iOS</td>\n",
       "      <td>1</td>\n",
       "      <td>59</td>\n",
       "      <td>0</td>\n",
       "      <td>Fayetteville</td>\n",
       "      <td>USA</td>\n",
       "      <td>35.07</td>\n",
       "      <td>-78.90</td>\n",
       "    </tr>\n",
       "    <tr>\n",
       "      <th>4</th>\n",
       "      <td>820854</td>\n",
       "      <td>2015-05-24 11:04:40</td>\n",
       "      <td>ads_facebook</td>\n",
       "      <td>web</td>\n",
       "      <td>mac</td>\n",
       "      <td>0</td>\n",
       "      <td>39</td>\n",
       "      <td>0</td>\n",
       "      <td>Fishers</td>\n",
       "      <td>USA</td>\n",
       "      <td>39.95</td>\n",
       "      <td>-86.02</td>\n",
       "    </tr>\n",
       "  </tbody>\n",
       "</table>\n",
       "</div>"
      ],
      "text/plain": [
       "   user_id            timestamp          source  device operative_system  \\\n",
       "0   604839  2015-05-08 03:38:34    ads_facebook  mobile              iOS   \n",
       "1   624057  2015-05-10 21:08:46      seo-google  mobile          android   \n",
       "2   317970  2015-04-04 15:01:23        ads-bing  mobile          android   \n",
       "3   685636  2015-05-07 07:26:01  direct_traffic  mobile              iOS   \n",
       "4   820854  2015-05-24 11:04:40    ads_facebook     web              mac   \n",
       "\n",
       "   test  price  converted          city country    lat   long  \n",
       "0     0     39          0       Buffalo     USA  42.89 -78.86  \n",
       "1     0     39          0     Lakeville     USA  44.68 -93.24  \n",
       "2     0     39          0         Parma     USA  41.38 -81.73  \n",
       "3     1     59          0  Fayetteville     USA  35.07 -78.90  \n",
       "4     0     39          0       Fishers     USA  39.95 -86.02  "
      ]
     },
     "execution_count": 12,
     "metadata": {},
     "output_type": "execute_result"
    }
   ],
   "source": [
    "# let's join the two tables together, and call this our 'main' data table\n",
    "main = results.merge(users, how = 'left', left_on ='user_id', right_on='user_id')\n",
    "\n",
    "# take a gander\n",
    "main.head()\n",
    "# looks as we would expect!"
   ]
  },
  {
   "cell_type": "code",
   "execution_count": 13,
   "metadata": {
    "collapsed": false
   },
   "outputs": [
    {
     "data": {
      "text/plain": [
       "[('city', 0.87), ('country', 0.87), ('lat', 0.87), ('long', 0.87)]"
      ]
     },
     "execution_count": 13,
     "metadata": {},
     "output_type": "execute_result"
    }
   ],
   "source": [
    "# let's confirm our hypothesis about missing data\n",
    "fillprc(main)"
   ]
  },
  {
   "cell_type": "markdown",
   "metadata": {},
   "source": [
    "We see that only 87% of our results data has associated geographic information. Since we have a few hundred thousand rows, it's probably alright to exclude these users, but first we should see if we can find any differences in their traits that may bias our results by dropping them.\n",
    "\n",
    "We will create a flag for missing this information, and then perform some simple crosstabs comparing the distribution of data for users with and without this additional data."
   ]
  },
  {
   "cell_type": "code",
   "execution_count": 14,
   "metadata": {
    "collapsed": false
   },
   "outputs": [],
   "source": [
    "# create flag for extra data\n",
    "main['hasgeo'] = main['country'].isnull() == False"
   ]
  },
  {
   "cell_type": "code",
   "execution_count": 15,
   "metadata": {
    "collapsed": false
   },
   "outputs": [
    {
     "data": {
      "text/html": [
       "<div>\n",
       "<table border=\"1\" class=\"dataframe\">\n",
       "  <thead>\n",
       "    <tr style=\"text-align: right;\">\n",
       "      <th>converted</th>\n",
       "      <th>0</th>\n",
       "      <th>1</th>\n",
       "      <th>convprc</th>\n",
       "    </tr>\n",
       "    <tr>\n",
       "      <th>hasgeo</th>\n",
       "      <th></th>\n",
       "      <th></th>\n",
       "      <th></th>\n",
       "    </tr>\n",
       "  </thead>\n",
       "  <tbody>\n",
       "    <tr>\n",
       "      <th>False</th>\n",
       "      <td>40395</td>\n",
       "      <td>789</td>\n",
       "      <td>0.019158</td>\n",
       "    </tr>\n",
       "    <tr>\n",
       "      <th>True</th>\n",
       "      <td>270597</td>\n",
       "      <td>5019</td>\n",
       "      <td>0.018210</td>\n",
       "    </tr>\n",
       "  </tbody>\n",
       "</table>\n",
       "</div>"
      ],
      "text/plain": [
       "converted       0     1   convprc\n",
       "hasgeo                           \n",
       "False       40395   789  0.019158\n",
       "True       270597  5019  0.018210"
      ]
     },
     "execution_count": 15,
     "metadata": {},
     "output_type": "execute_result"
    }
   ],
   "source": [
    "# how does conversion vary by these users?\n",
    "geo_conv = pd.crosstab(main['hasgeo'],main['converted'])\n",
    "geo_conv['convprc'] = geo_conv[1]/(1.0*geo_conv[0]+geo_conv[1])\n",
    "geo_conv\n",
    "# conversion is a little below 2% for both groups"
   ]
  },
  {
   "cell_type": "code",
   "execution_count": 16,
   "metadata": {
    "collapsed": false
   },
   "outputs": [
    {
     "data": {
      "text/plain": [
       "0.1811124650765159"
      ]
     },
     "execution_count": 16,
     "metadata": {},
     "output_type": "execute_result"
    }
   ],
   "source": [
    "# Let's test for independence of these two variables using a chi-squared test\n",
    "from scipy.stats import chi2_contingency\n",
    "chi2_contingency((pd.crosstab(main['hasgeo'],main['converted'])), correction=False)[1]  \n",
    "# the 2nd item in this object is the p-value)"
   ]
  },
  {
   "cell_type": "code",
   "execution_count": 17,
   "metadata": {
    "collapsed": false
   },
   "outputs": [
    {
     "data": {
      "text/html": [
       "<div>\n",
       "<table border=\"1\" class=\"dataframe\">\n",
       "  <thead>\n",
       "    <tr style=\"text-align: right;\">\n",
       "      <th>test</th>\n",
       "      <th>0</th>\n",
       "      <th>1</th>\n",
       "      <th>testprc</th>\n",
       "    </tr>\n",
       "    <tr>\n",
       "      <th>hasgeo</th>\n",
       "      <th></th>\n",
       "      <th></th>\n",
       "      <th></th>\n",
       "    </tr>\n",
       "  </thead>\n",
       "  <tbody>\n",
       "    <tr>\n",
       "      <th>False</th>\n",
       "      <td>26299</td>\n",
       "      <td>14885</td>\n",
       "      <td>0.361427</td>\n",
       "    </tr>\n",
       "    <tr>\n",
       "      <th>True</th>\n",
       "      <td>176428</td>\n",
       "      <td>99188</td>\n",
       "      <td>0.359878</td>\n",
       "    </tr>\n",
       "  </tbody>\n",
       "</table>\n",
       "</div>"
      ],
      "text/plain": [
       "test         0      1   testprc\n",
       "hasgeo                         \n",
       "False    26299  14885  0.361427\n",
       "True    176428  99188  0.359878"
      ]
     },
     "execution_count": 17,
     "metadata": {},
     "output_type": "execute_result"
    }
   ],
   "source": [
    "# how does test prc vary by these users?\n",
    "geo_test = pd.crosstab(main['hasgeo'],main['test'])\n",
    "geo_test['testprc'] = geo_test[1]/(1.0*geo_test[0]+geo_test[1])\n",
    "geo_test\n",
    "# test percentage is around 36% for both groups"
   ]
  },
  {
   "cell_type": "code",
   "execution_count": 18,
   "metadata": {
    "collapsed": false
   },
   "outputs": [
    {
     "data": {
      "text/plain": [
       "0.54125166833789651"
      ]
     },
     "execution_count": 18,
     "metadata": {},
     "output_type": "execute_result"
    }
   ],
   "source": [
    "# Let's test for independence of these two variables using a chi-squared test\n",
    "chi2_contingency((pd.crosstab(main['hasgeo'],main['test'])), correction=False)[1]  \n",
    "# the 2nd item in this object is the p-value)"
   ]
  },
  {
   "cell_type": "markdown",
   "metadata": {},
   "source": [
    "At this point, we've established that users with and without geographic data were placed in the test group, and convert, at essentially the same rate based on a chi-squared test for independence that does not result in statistically significant p-values. So, we can conclude that users are not missing geographic information in a way that is systematically biased with regards to the price they saw or their conversion rate. As such, we can move ahead with just the subset of users that have geographic data.\n",
    "\n",
    "Next, we will examine the distribution of our qualitative variables, as well as the timestamp, just to make sure nothing looks out of the ordinary. Then, we can move on to answering the questions posed with confidence that our dataset is relatively clean and without any major errors."
   ]
  },
  {
   "cell_type": "code",
   "execution_count": 19,
   "metadata": {
    "collapsed": false
   },
   "outputs": [],
   "source": [
    "# drop null values from dataset\n",
    "main = main.dropna()"
   ]
  },
  {
   "cell_type": "code",
   "execution_count": 44,
   "metadata": {
    "collapsed": false
   },
   "outputs": [
    {
     "data": {
      "text/plain": [
       "0          270597.00000\n",
       "1            5019.00000\n",
       "convprc         0.01821\n",
       "Name: converted, dtype: float64"
      ]
     },
     "execution_count": 44,
     "metadata": {},
     "output_type": "execute_result"
    }
   ],
   "source": [
    "# quick check - what is overall conversion rate?\n",
    "\n",
    "ccheck = main['converted'].value_counts()\n",
    "ccheck['convprc'] = ccheck[1]/(1.0*ccheck[0]+ccheck[1])\n",
    "ccheck\n",
    "# conversion is about 1.82% overall"
   ]
  },
  {
   "cell_type": "code",
   "execution_count": 20,
   "metadata": {
    "collapsed": false
   },
   "outputs": [
    {
     "data": {
      "text/html": [
       "<div>\n",
       "<table border=\"1\" class=\"dataframe\">\n",
       "  <thead>\n",
       "    <tr style=\"text-align: right;\">\n",
       "      <th>converted</th>\n",
       "      <th>0</th>\n",
       "      <th>1</th>\n",
       "      <th>convprc</th>\n",
       "    </tr>\n",
       "    <tr>\n",
       "      <th>test</th>\n",
       "      <th></th>\n",
       "      <th></th>\n",
       "      <th></th>\n",
       "    </tr>\n",
       "  </thead>\n",
       "  <tbody>\n",
       "    <tr>\n",
       "      <th>0</th>\n",
       "      <td>172939</td>\n",
       "      <td>3489</td>\n",
       "      <td>0.019776</td>\n",
       "    </tr>\n",
       "    <tr>\n",
       "      <th>1</th>\n",
       "      <td>97658</td>\n",
       "      <td>1530</td>\n",
       "      <td>0.015425</td>\n",
       "    </tr>\n",
       "  </tbody>\n",
       "</table>\n",
       "</div>"
      ],
      "text/plain": [
       "converted       0     1   convprc\n",
       "test                             \n",
       "0          172939  3489  0.019776\n",
       "1           97658  1530  0.015425"
      ]
     },
     "execution_count": 20,
     "metadata": {},
     "output_type": "execute_result"
    }
   ],
   "source": [
    "# quick check - does the higher price actually affect conversion?\n",
    "\n",
    "# how does conversion vary by these users?\n",
    "test_conv = pd.crosstab(main['test'],main['converted'])\n",
    "test_conv['convprc'] = test_conv[1]/(1.0*test_conv[0]+test_conv[1])\n",
    "test_conv\n",
    "# conversion is about half a percent lower for users who saw the higher price - ok, the laws of economics have not failed us!"
   ]
  },
  {
   "cell_type": "code",
   "execution_count": 21,
   "metadata": {
    "collapsed": false
   },
   "outputs": [
    {
     "data": {
      "text/plain": [
       "direct_traffic     52594\n",
       "ads-google         51576\n",
       "ads_facebook       46365\n",
       "ads_other          26084\n",
       "seo-google         20157\n",
       "ads-bing           19887\n",
       "seo_facebook       18473\n",
       "friend_referral    18011\n",
       "seo-other           8058\n",
       "ads-yahoo           6576\n",
       "seo-yahoo           5961\n",
       "seo-bing            1874\n",
       "Name: source, dtype: int64"
      ]
     },
     "execution_count": 21,
     "metadata": {},
     "output_type": "execute_result"
    }
   ],
   "source": [
    "# let's look at the source of the customer referral\n",
    "main['source'].value_counts()\n",
    "# we see that users come from four main families: direct, friend referral, ads, and SEO. let's create a slightly higher-level\n",
    "# variable that captures these four categories"
   ]
  },
  {
   "cell_type": "code",
   "execution_count": 22,
   "metadata": {
    "collapsed": false
   },
   "outputs": [
    {
     "data": {
      "text/plain": [
       "ads       150488\n",
       "seo        54523\n",
       "direct     52594\n",
       "friend     18011\n",
       "Name: source_2, dtype: int64"
      ]
     },
     "execution_count": 22,
     "metadata": {},
     "output_type": "execute_result"
    }
   ],
   "source": [
    "# import regex package to do a fancy split\n",
    "import re\n",
    "\n",
    "# define secondary source column as the first element when the source column is split on either - or _\n",
    "main['source_2'] = main['source'].map(lambda x: re.split(pattern='[_-]',string=x)[0])\n",
    "\n",
    "# check value counts\n",
    "main['source_2'].value_counts()\n",
    "#correct!"
   ]
  },
  {
   "cell_type": "code",
   "execution_count": 23,
   "metadata": {
    "collapsed": false
   },
   "outputs": [
    {
     "data": {
      "text/plain": [
       "mobile    162321\n",
       "web       113295\n",
       "Name: device, dtype: int64"
      ]
     },
     "execution_count": 23,
     "metadata": {},
     "output_type": "execute_result"
    }
   ],
   "source": [
    "# let's check device\n",
    "main['device'].value_counts()\n",
    "# pretty straightforward"
   ]
  },
  {
   "cell_type": "code",
   "execution_count": 24,
   "metadata": {
    "collapsed": false
   },
   "outputs": [
    {
     "data": {
      "text/plain": [
       "windows    87721\n",
       "iOS        82982\n",
       "android    65305\n",
       "mac        21831\n",
       "other      14143\n",
       "linux       3634\n",
       "Name: operative_system, dtype: int64"
      ]
     },
     "execution_count": 24,
     "metadata": {},
     "output_type": "execute_result"
    }
   ],
   "source": [
    "main['operative_system'].value_counts()\n",
    "# again, nothing out of the ordinary"
   ]
  },
  {
   "cell_type": "code",
   "execution_count": 25,
   "metadata": {
    "collapsed": false,
    "scrolled": true
   },
   "outputs": [
    {
     "ename": "ValueError",
     "evalue": "minute must be in 0..59",
     "output_type": "error",
     "traceback": [
      "\u001b[1;31m---------------------------------------------------------------------------\u001b[0m",
      "\u001b[1;31mValueError\u001b[0m                                Traceback (most recent call last)",
      "\u001b[1;32m<ipython-input-25-e54078fb5538>\u001b[0m in \u001b[0;36m<module>\u001b[1;34m()\u001b[0m\n\u001b[0;32m      3\u001b[0m \u001b[1;33m\u001b[0m\u001b[0m\n\u001b[0;32m      4\u001b[0m \u001b[1;31m# re-cast timestamp column as a date object\u001b[0m\u001b[1;33m\u001b[0m\u001b[1;33m\u001b[0m\u001b[0m\n\u001b[1;32m----> 5\u001b[1;33m \u001b[0mmain\u001b[0m\u001b[1;33m[\u001b[0m\u001b[1;34m'timestamp'\u001b[0m\u001b[1;33m]\u001b[0m \u001b[1;33m=\u001b[0m \u001b[0mmain\u001b[0m\u001b[1;33m[\u001b[0m\u001b[1;34m'timestamp'\u001b[0m\u001b[1;33m]\u001b[0m\u001b[1;33m.\u001b[0m\u001b[0mmap\u001b[0m\u001b[1;33m(\u001b[0m\u001b[1;32mlambda\u001b[0m \u001b[0mx\u001b[0m\u001b[1;33m:\u001b[0m \u001b[0mparse\u001b[0m\u001b[1;33m(\u001b[0m\u001b[0mstr\u001b[0m\u001b[1;33m(\u001b[0m\u001b[0mx\u001b[0m\u001b[1;33m)\u001b[0m\u001b[1;33m)\u001b[0m\u001b[1;33m)\u001b[0m\u001b[1;33m\u001b[0m\u001b[0m\n\u001b[0m",
      "\u001b[1;32mC:\\Users\\jzell\\Anaconda2\\lib\\site-packages\\pandas\\core\\series.pyc\u001b[0m in \u001b[0;36mmap\u001b[1;34m(self, arg, na_action)\u001b[0m\n\u001b[0;32m   2102\u001b[0m             \u001b[0mnew_values\u001b[0m \u001b[1;33m=\u001b[0m \u001b[0malgos\u001b[0m\u001b[1;33m.\u001b[0m\u001b[0mtake_1d\u001b[0m\u001b[1;33m(\u001b[0m\u001b[0marg\u001b[0m\u001b[1;33m.\u001b[0m\u001b[0m_values\u001b[0m\u001b[1;33m,\u001b[0m \u001b[0mindexer\u001b[0m\u001b[1;33m)\u001b[0m\u001b[1;33m\u001b[0m\u001b[0m\n\u001b[0;32m   2103\u001b[0m         \u001b[1;32melse\u001b[0m\u001b[1;33m:\u001b[0m\u001b[1;33m\u001b[0m\u001b[0m\n\u001b[1;32m-> 2104\u001b[1;33m             \u001b[0mnew_values\u001b[0m \u001b[1;33m=\u001b[0m \u001b[0mmap_f\u001b[0m\u001b[1;33m(\u001b[0m\u001b[0mvalues\u001b[0m\u001b[1;33m,\u001b[0m \u001b[0marg\u001b[0m\u001b[1;33m)\u001b[0m\u001b[1;33m\u001b[0m\u001b[0m\n\u001b[0m\u001b[0;32m   2105\u001b[0m \u001b[1;33m\u001b[0m\u001b[0m\n\u001b[0;32m   2106\u001b[0m         return self._constructor(new_values,\n",
      "\u001b[1;32mpandas\\src\\inference.pyx\u001b[0m in \u001b[0;36mpandas.lib.map_infer (pandas\\lib.c:62658)\u001b[1;34m()\u001b[0m\n",
      "\u001b[1;32m<ipython-input-25-e54078fb5538>\u001b[0m in \u001b[0;36m<lambda>\u001b[1;34m(x)\u001b[0m\n\u001b[0;32m      3\u001b[0m \u001b[1;33m\u001b[0m\u001b[0m\n\u001b[0;32m      4\u001b[0m \u001b[1;31m# re-cast timestamp column as a date object\u001b[0m\u001b[1;33m\u001b[0m\u001b[1;33m\u001b[0m\u001b[0m\n\u001b[1;32m----> 5\u001b[1;33m \u001b[0mmain\u001b[0m\u001b[1;33m[\u001b[0m\u001b[1;34m'timestamp'\u001b[0m\u001b[1;33m]\u001b[0m \u001b[1;33m=\u001b[0m \u001b[0mmain\u001b[0m\u001b[1;33m[\u001b[0m\u001b[1;34m'timestamp'\u001b[0m\u001b[1;33m]\u001b[0m\u001b[1;33m.\u001b[0m\u001b[0mmap\u001b[0m\u001b[1;33m(\u001b[0m\u001b[1;32mlambda\u001b[0m \u001b[0mx\u001b[0m\u001b[1;33m:\u001b[0m \u001b[0mparse\u001b[0m\u001b[1;33m(\u001b[0m\u001b[0mstr\u001b[0m\u001b[1;33m(\u001b[0m\u001b[0mx\u001b[0m\u001b[1;33m)\u001b[0m\u001b[1;33m)\u001b[0m\u001b[1;33m)\u001b[0m\u001b[1;33m\u001b[0m\u001b[0m\n\u001b[0m",
      "\u001b[1;32mC:\\Users\\jzell\\Anaconda2\\lib\\site-packages\\dateutil\\parser.pyc\u001b[0m in \u001b[0;36mparse\u001b[1;34m(timestr, parserinfo, **kwargs)\u001b[0m\n\u001b[0;32m   1162\u001b[0m         \u001b[1;32mreturn\u001b[0m \u001b[0mparser\u001b[0m\u001b[1;33m(\u001b[0m\u001b[0mparserinfo\u001b[0m\u001b[1;33m)\u001b[0m\u001b[1;33m.\u001b[0m\u001b[0mparse\u001b[0m\u001b[1;33m(\u001b[0m\u001b[0mtimestr\u001b[0m\u001b[1;33m,\u001b[0m \u001b[1;33m**\u001b[0m\u001b[0mkwargs\u001b[0m\u001b[1;33m)\u001b[0m\u001b[1;33m\u001b[0m\u001b[0m\n\u001b[0;32m   1163\u001b[0m     \u001b[1;32melse\u001b[0m\u001b[1;33m:\u001b[0m\u001b[1;33m\u001b[0m\u001b[0m\n\u001b[1;32m-> 1164\u001b[1;33m         \u001b[1;32mreturn\u001b[0m \u001b[0mDEFAULTPARSER\u001b[0m\u001b[1;33m.\u001b[0m\u001b[0mparse\u001b[0m\u001b[1;33m(\u001b[0m\u001b[0mtimestr\u001b[0m\u001b[1;33m,\u001b[0m \u001b[1;33m**\u001b[0m\u001b[0mkwargs\u001b[0m\u001b[1;33m)\u001b[0m\u001b[1;33m\u001b[0m\u001b[0m\n\u001b[0m\u001b[0;32m   1165\u001b[0m \u001b[1;33m\u001b[0m\u001b[0m\n\u001b[0;32m   1166\u001b[0m \u001b[1;33m\u001b[0m\u001b[0m\n",
      "\u001b[1;32mC:\\Users\\jzell\\Anaconda2\\lib\\site-packages\\dateutil\\parser.pyc\u001b[0m in \u001b[0;36mparse\u001b[1;34m(self, timestr, default, ignoretz, tzinfos, **kwargs)\u001b[0m\n\u001b[0;32m    575\u001b[0m                 \u001b[0mrepl\u001b[0m\u001b[1;33m[\u001b[0m\u001b[1;34m'day'\u001b[0m\u001b[1;33m]\u001b[0m \u001b[1;33m=\u001b[0m \u001b[0mmonthrange\u001b[0m\u001b[1;33m(\u001b[0m\u001b[0mcyear\u001b[0m\u001b[1;33m,\u001b[0m \u001b[0mcmonth\u001b[0m\u001b[1;33m)\u001b[0m\u001b[1;33m[\u001b[0m\u001b[1;36m1\u001b[0m\u001b[1;33m]\u001b[0m\u001b[1;33m\u001b[0m\u001b[0m\n\u001b[0;32m    576\u001b[0m \u001b[1;33m\u001b[0m\u001b[0m\n\u001b[1;32m--> 577\u001b[1;33m         \u001b[0mret\u001b[0m \u001b[1;33m=\u001b[0m \u001b[0mdefault\u001b[0m\u001b[1;33m.\u001b[0m\u001b[0mreplace\u001b[0m\u001b[1;33m(\u001b[0m\u001b[1;33m**\u001b[0m\u001b[0mrepl\u001b[0m\u001b[1;33m)\u001b[0m\u001b[1;33m\u001b[0m\u001b[0m\n\u001b[0m\u001b[0;32m    578\u001b[0m \u001b[1;33m\u001b[0m\u001b[0m\n\u001b[0;32m    579\u001b[0m         \u001b[1;32mif\u001b[0m \u001b[0mres\u001b[0m\u001b[1;33m.\u001b[0m\u001b[0mweekday\u001b[0m \u001b[1;32mis\u001b[0m \u001b[1;32mnot\u001b[0m \u001b[0mNone\u001b[0m \u001b[1;32mand\u001b[0m \u001b[1;32mnot\u001b[0m \u001b[0mres\u001b[0m\u001b[1;33m.\u001b[0m\u001b[0mday\u001b[0m\u001b[1;33m:\u001b[0m\u001b[1;33m\u001b[0m\u001b[0m\n",
      "\u001b[1;31mValueError\u001b[0m: minute must be in 0..59"
     ]
    }
   ],
   "source": [
    "# next, let's look at the date distribution just to be safe. first, import the package\n",
    "from dateutil.parser import parse\n",
    "\n",
    "# re-cast timestamp column as a date object\n",
    "main['timestamp'] = main['timestamp'].map(lambda x: parse(str(x)))"
   ]
  },
  {
   "cell_type": "code",
   "execution_count": 26,
   "metadata": {
    "collapsed": false
   },
   "outputs": [],
   "source": [
    "# We see above we have some datetimes that do not conform to the expected values. specifically, we have timestamps that have a \n",
    "# minute indicator of 60, when it should range from 0 - 59. to remedy this, we will roll back anywhere with a minute or second\n",
    "# value equal to 60 to 59. this may marginally alter the distribution of dates, but not significantly. \n",
    "# at any rate, we will keep track of how many changes we make.\n",
    "\n",
    "# define a function to fix the date\n",
    "def fixdate(date):\n",
    "    \n",
    "    # check the last two characters - the number of seconds - and replace 60 with 59\n",
    "    if str(date)[-2:] == '60':\n",
    "        date = date[:-2]+'59'\n",
    "    \n",
    "    # check the characters that correspond to minutes and replace 60 with 59\n",
    "    if str(date)[-5:-3] == '60':\n",
    "        date = date[:-5]+'59'+date[-3:]\n",
    "        \n",
    "    return date"
   ]
  },
  {
   "cell_type": "code",
   "execution_count": 27,
   "metadata": {
    "collapsed": false
   },
   "outputs": [
    {
     "data": {
      "text/plain": [
       "True     266656\n",
       "False      8960\n",
       "Name: date_changed, dtype: int64"
      ]
     },
     "execution_count": 27,
     "metadata": {},
     "output_type": "execute_result"
    }
   ],
   "source": [
    "# apply the function to change the date field\n",
    "main['date_fix'] = main['timestamp'].map(fixdate)\n",
    "\n",
    "# create a quick boolean to check if date changed or not and check values\n",
    "main['date_changed'] = main['timestamp'] == main['date_fix']\n",
    "main['date_changed'].value_counts()\n",
    "# only 9000 changes, this is fine"
   ]
  },
  {
   "cell_type": "code",
   "execution_count": 28,
   "metadata": {
    "collapsed": true
   },
   "outputs": [],
   "source": [
    "# delete unncessary columns to save space\n",
    "del main['date_changed']\n",
    "del main['timestamp']\n",
    "\n",
    "# re-cast timestamp column as a date object\n",
    "main['date_fix'] = main['date_fix'].map(lambda x: parse(str(x)))\n",
    "\n",
    "# grab just the day so we can look at users by day without worrying about time\n",
    "main['just_date'] = main['date_fix'].map(lambda x: x.date())"
   ]
  },
  {
   "cell_type": "code",
   "execution_count": 29,
   "metadata": {
    "collapsed": false
   },
   "outputs": [
    {
     "data": {
      "text/plain": [
       "2015-03-02    1386\n",
       "2015-03-03    1309\n",
       "2015-03-04    1217\n",
       "2015-03-05    2439\n",
       "2015-03-06    6252\n",
       "2015-03-07    4919\n",
       "2015-03-08    3967\n",
       "2015-03-09    1276\n",
       "2015-03-10    1333\n",
       "2015-03-11    1238\n",
       "2015-03-12    2505\n",
       "2015-03-13    6181\n",
       "2015-03-14    5040\n",
       "2015-03-15    3508\n",
       "2015-03-16    1202\n",
       "2015-03-17    1346\n",
       "2015-03-18    1263\n",
       "2015-03-19    2475\n",
       "2015-03-20    6315\n",
       "2015-03-21    5083\n",
       "2015-03-22    3648\n",
       "2015-03-23    1293\n",
       "2015-03-24    1258\n",
       "2015-03-25    1400\n",
       "2015-03-26    2532\n",
       "2015-03-27    6066\n",
       "2015-03-28    4935\n",
       "2015-03-29    3763\n",
       "2015-03-30    1313\n",
       "2015-03-31    1163\n",
       "              ... \n",
       "2015-05-02    4786\n",
       "2015-05-03    3761\n",
       "2015-05-04    1308\n",
       "2015-05-05    1402\n",
       "2015-05-06    1246\n",
       "2015-05-07    2502\n",
       "2015-05-08    6130\n",
       "2015-05-09    5105\n",
       "2015-05-10    3770\n",
       "2015-05-11    1245\n",
       "2015-05-12    1292\n",
       "2015-05-13    1268\n",
       "2015-05-14    2403\n",
       "2015-05-15    6276\n",
       "2015-05-16    4832\n",
       "2015-05-17    3705\n",
       "2015-05-18    1299\n",
       "2015-05-19    1337\n",
       "2015-05-20    1188\n",
       "2015-05-21    2351\n",
       "2015-05-22    5999\n",
       "2015-05-23    5062\n",
       "2015-05-24    3653\n",
       "2015-05-25    1216\n",
       "2015-05-26    1338\n",
       "2015-05-27    1138\n",
       "2015-05-28    2578\n",
       "2015-05-29    6104\n",
       "2015-05-30    5064\n",
       "2015-05-31    3696\n",
       "Name: just_date, dtype: int64"
      ]
     },
     "execution_count": 29,
     "metadata": {},
     "output_type": "execute_result"
    }
   ],
   "source": [
    "# check value counts, and show them in date order\n",
    "main['just_date'].value_counts().sort_index(ascending=True)\n",
    "# this is a lot of dates - might be something to view graphically"
   ]
  },
  {
   "cell_type": "code",
   "execution_count": 30,
   "metadata": {
    "collapsed": false
   },
   "outputs": [
    {
     "data": {
      "image/png": "[encoded data removed]",
      "text/plain": [
       "<matplotlib.figure.Figure at 0xde91748>"
      ]
     },
     "metadata": {},
     "output_type": "display_data"
    }
   ],
   "source": [
    "# let's create a line plot showing users per day\n",
    "main['just_date'].value_counts().sort_index(ascending=True).plot(figsize=(15,10),title='Users per Day')\n",
    "plt.show()"
   ]
  },
  {
   "cell_type": "markdown",
   "metadata": {},
   "source": [
    "Clearly we some sort of weekly trend with repeating peaks and troughs. So, we will extract the weekday since it may be useful for later analysis."
   ]
  },
  {
   "cell_type": "code",
   "execution_count": 31,
   "metadata": {
    "collapsed": false
   },
   "outputs": [
    {
     "data": {
      "text/plain": [
       "4    80047\n",
       "5    64632\n",
       "6    48512\n",
       "3    32187\n",
       "1    17104\n",
       "0    16722\n",
       "2    16412\n",
       "Name: weekday, dtype: int64"
      ]
     },
     "execution_count": 31,
     "metadata": {},
     "output_type": "execute_result"
    }
   ],
   "source": [
    "# extract weekday and show value counts\n",
    "main['weekday'] = main['date_fix'].map(lambda x: x.weekday())\n",
    "main['weekday'].value_counts()"
   ]
  },
  {
   "cell_type": "code",
   "execution_count": 32,
   "metadata": {
    "collapsed": false
   },
   "outputs": [
    {
     "data": {
      "text/plain": [
       "Friday       80047\n",
       "Saturday     64632\n",
       "Sunday       48512\n",
       "Thursday     32187\n",
       "Tuesday      17104\n",
       "Monday       16722\n",
       "Wednesday    16412\n",
       "Name: weekday, dtype: int64"
      ]
     },
     "execution_count": 32,
     "metadata": {},
     "output_type": "execute_result"
    }
   ],
   "source": [
    "# humans don't see weekdays as numbers - let's fix that!\n",
    "import calendar\n",
    "\n",
    "# create dictionary to replace day numbers with names\n",
    "days=dict(enumerate(calendar.day_name))\n",
    "\n",
    "# replace and show value counts\n",
    "main['weekday'] = main['weekday'].replace(days)\n",
    "main['weekday'].value_counts()"
   ]
  },
  {
   "cell_type": "markdown",
   "metadata": {},
   "source": [
    "This is fascinating. We see a huge spike in traffic on weekends. This may come in handy later! "
   ]
  },
  {
   "cell_type": "code",
   "execution_count": 33,
   "metadata": {
    "collapsed": false
   },
   "outputs": [
    {
     "data": {
      "text/html": [
       "<div>\n",
       "<table border=\"1\" class=\"dataframe\">\n",
       "  <thead>\n",
       "    <tr style=\"text-align: right;\">\n",
       "      <th>converted</th>\n",
       "      <th>0</th>\n",
       "      <th>1</th>\n",
       "      <th>convprc</th>\n",
       "    </tr>\n",
       "    <tr>\n",
       "      <th>weekday</th>\n",
       "      <th></th>\n",
       "      <th></th>\n",
       "      <th></th>\n",
       "    </tr>\n",
       "  </thead>\n",
       "  <tbody>\n",
       "    <tr>\n",
       "      <th>Friday</th>\n",
       "      <td>78557</td>\n",
       "      <td>1490</td>\n",
       "      <td>0.018614</td>\n",
       "    </tr>\n",
       "    <tr>\n",
       "      <th>Monday</th>\n",
       "      <td>16426</td>\n",
       "      <td>296</td>\n",
       "      <td>0.017701</td>\n",
       "    </tr>\n",
       "    <tr>\n",
       "      <th>Saturday</th>\n",
       "      <td>63463</td>\n",
       "      <td>1169</td>\n",
       "      <td>0.018087</td>\n",
       "    </tr>\n",
       "    <tr>\n",
       "      <th>Sunday</th>\n",
       "      <td>47605</td>\n",
       "      <td>907</td>\n",
       "      <td>0.018696</td>\n",
       "    </tr>\n",
       "    <tr>\n",
       "      <th>Thursday</th>\n",
       "      <td>31596</td>\n",
       "      <td>591</td>\n",
       "      <td>0.018361</td>\n",
       "    </tr>\n",
       "    <tr>\n",
       "      <th>Tuesday</th>\n",
       "      <td>16828</td>\n",
       "      <td>276</td>\n",
       "      <td>0.016137</td>\n",
       "    </tr>\n",
       "    <tr>\n",
       "      <th>Wednesday</th>\n",
       "      <td>16122</td>\n",
       "      <td>290</td>\n",
       "      <td>0.017670</td>\n",
       "    </tr>\n",
       "  </tbody>\n",
       "</table>\n",
       "</div>"
      ],
      "text/plain": [
       "converted      0     1   convprc\n",
       "weekday                         \n",
       "Friday     78557  1490  0.018614\n",
       "Monday     16426   296  0.017701\n",
       "Saturday   63463  1169  0.018087\n",
       "Sunday     47605   907  0.018696\n",
       "Thursday   31596   591  0.018361\n",
       "Tuesday    16828   276  0.016137\n",
       "Wednesday  16122   290  0.017670"
      ]
     },
     "execution_count": 33,
     "metadata": {},
     "output_type": "execute_result"
    }
   ],
   "source": [
    "# Let's take a quick look at conversion by day of week, just out of curiosity\n",
    "\n",
    "# how does conversion vary by day?\n",
    "day_conv = pd.crosstab(main['weekday'],main['converted'])\n",
    "day_conv['convprc'] = day_conv[1]/(1.0*day_conv[0]+day_conv[1])\n",
    "day_conv\n",
    "# conversion isn't too different across days of the week - may still be useful"
   ]
  },
  {
   "cell_type": "markdown",
   "metadata": {},
   "source": [
    "## Part 1 - Pricing Decision\n",
    "--Should the company sell its software for 39 or 59?\n",
    "\n",
    "This is a question that can be answered in a lot of ways and depends on the company's strategic goals as well as a lot of other factors (competition, etc.) that cannot be inferred from this dataset. However, we will do our best to answer this question in a few different ways to give a variety of options to our corporate overlords. \n",
    "\n",
    "First, we will look at the goal of maximizing revenue, since that was the stated objective of the VP of Product was to increase revenue. Since we have different numbers of customers for users in the two pricing schemes, we will use the metric of revenue per customer to determine which is the better option. We can calculate that metric in both groups and come up with a conclusion. To take a more economic approach, we could run a regression to determine the elasticity of price and use those implications to make a recommendation about pricing strategy as well, however with only two price levels any conclusions would be only directionally informative. "
   ]
  },
  {
   "cell_type": "code",
   "execution_count": 34,
   "metadata": {
    "collapsed": false
   },
   "outputs": [
    {
     "name": "stderr",
     "output_type": "stream",
     "text": [
      "C:\\Users\\jzell\\Anaconda2\\lib\\site-packages\\ipykernel\\__main__.py:6: SettingWithCopyWarning: \n",
      "A value is trying to be set on a copy of a slice from a DataFrame\n",
      "\n",
      "See the caveats in the documentation: http://pandas.pydata.org/pandas-docs/stable/indexing.html#indexing-view-versus-copy\n"
     ]
    },
    {
     "data": {
      "text/html": [
       "<div>\n",
       "<table border=\"1\" class=\"dataframe\">\n",
       "  <thead>\n",
       "    <tr style=\"text-align: right;\">\n",
       "      <th>converted</th>\n",
       "      <th>0</th>\n",
       "      <th>1</th>\n",
       "      <th>rev</th>\n",
       "      <th>rev_per_cust</th>\n",
       "    </tr>\n",
       "    <tr>\n",
       "      <th>test</th>\n",
       "      <th></th>\n",
       "      <th></th>\n",
       "      <th></th>\n",
       "      <th></th>\n",
       "    </tr>\n",
       "  </thead>\n",
       "  <tbody>\n",
       "    <tr>\n",
       "      <th>0</th>\n",
       "      <td>172939</td>\n",
       "      <td>3489</td>\n",
       "      <td>136071.0</td>\n",
       "      <td>0.771255</td>\n",
       "    </tr>\n",
       "    <tr>\n",
       "      <th>1</th>\n",
       "      <td>97658</td>\n",
       "      <td>1530</td>\n",
       "      <td>90270.0</td>\n",
       "      <td>0.910090</td>\n",
       "    </tr>\n",
       "  </tbody>\n",
       "</table>\n",
       "</div>"
      ],
      "text/plain": [
       "converted       0     1       rev  rev_per_cust\n",
       "test                                           \n",
       "0          172939  3489  136071.0      0.771255\n",
       "1           97658  1530   90270.0      0.910090"
      ]
     },
     "execution_count": 34,
     "metadata": {},
     "output_type": "execute_result"
    }
   ],
   "source": [
    "# create crosstab of user conversion by test grouping\n",
    "revenue_simple = pd.crosstab(main['test'],main['converted'])\n",
    "\n",
    "# calculate revenue as sales*price, scaling the test group's price up by (59/39)\n",
    "revenue_simple['rev'] = revenue_simple[1]*39.0\n",
    "revenue_simple['rev'][1] = revenue_simple['rev'][1]*(59.0/39.0)\n",
    "\n",
    "# calculate revenue per customer\n",
    "revenue_simple['rev_per_cust'] = revenue_simple['rev']/(1.0*revenue_simple[0]+revenue_simple[1])\n",
    "\n",
    "# show it\n",
    "revenue_simple"
   ]
  },
  {
   "cell_type": "markdown",
   "metadata": {},
   "source": [
    "Taking the simplest view possible, we see that revenue per customer is around `$`.77 in the control group and `$`.91 per customer in the test group. This indicates that for the same number of customers, revenue in the test group would be higher. Put another way, the decrease in conversion is more than offset by the higher price paid by customers. This tells us that **demand is inelastic in this price range, so an increase in price will lead to an increase in revenue.** \n",
    "\n",
    "At this point, we could run a log-log regression predicting sales as a function of price, and we could interpret the coefficient on price as the elasticity of demand. However, we would really only have two data points - total sales for each of two prices (which would need to be corrected for sample size) - there isn't a lot more information to be gained here. Later, when we investigate factors related to conversion rate, we can draw more conclusions about pricing and elasticity. \n",
    "\n",
    "Next, let's suppose that the company's goal is maximizing profit. We know that profit is equal to revenue minus cost, but we do not know the cost. We can identify the breakeven cost at which point different pricing schemes make sense to maximize profit. The idea is that lower prices will result in more sales and potentially generate higher revenue, but the lower per-unit margin may result in lower profit. Conversely, higher prices mean fewer sales margin is higher, so profit may be higher. This doesn't really require any additional fancy code or modeling, just a few equations. The one missing piece is demand - we just need to create the number of sales per 1000 customers to keep it simple."
   ]
  },
  {
   "cell_type": "code",
   "execution_count": 35,
   "metadata": {
    "collapsed": false
   },
   "outputs": [
    {
     "data": {
      "text/html": [
       "<div>\n",
       "<table border=\"1\" class=\"dataframe\">\n",
       "  <thead>\n",
       "    <tr style=\"text-align: right;\">\n",
       "      <th>converted</th>\n",
       "      <th>0</th>\n",
       "      <th>1</th>\n",
       "      <th>rev</th>\n",
       "      <th>rev_per_cust</th>\n",
       "      <th>sales_per_kcust</th>\n",
       "    </tr>\n",
       "    <tr>\n",
       "      <th>test</th>\n",
       "      <th></th>\n",
       "      <th></th>\n",
       "      <th></th>\n",
       "      <th></th>\n",
       "      <th></th>\n",
       "    </tr>\n",
       "  </thead>\n",
       "  <tbody>\n",
       "    <tr>\n",
       "      <th>0</th>\n",
       "      <td>172939</td>\n",
       "      <td>3489</td>\n",
       "      <td>136071.0</td>\n",
       "      <td>0.771255</td>\n",
       "      <td>19.775773</td>\n",
       "    </tr>\n",
       "    <tr>\n",
       "      <th>1</th>\n",
       "      <td>97658</td>\n",
       "      <td>1530</td>\n",
       "      <td>90270.0</td>\n",
       "      <td>0.910090</td>\n",
       "      <td>15.425253</td>\n",
       "    </tr>\n",
       "  </tbody>\n",
       "</table>\n",
       "</div>"
      ],
      "text/plain": [
       "converted       0     1       rev  rev_per_cust  sales_per_kcust\n",
       "test                                                            \n",
       "0          172939  3489  136071.0      0.771255        19.775773\n",
       "1           97658  1530   90270.0      0.910090        15.425253"
      ]
     },
     "execution_count": 35,
     "metadata": {},
     "output_type": "execute_result"
    }
   ],
   "source": [
    "# create number of sales per 1000 customers for both pricing schemes\n",
    "revenue_simple['sales_per_kcust'] = revenue_simple[1]*1.0/((revenue_simple[0]+revenue_simple[1])*1.0/1000)\n",
    "revenue_simple"
   ]
  },
  {
   "cell_type": "markdown",
   "metadata": {},
   "source": [
    "In a simplified economic model, profit is equal to quantity times margin. We will take our sales per 1000 customers, as well as profit margins, for both pricing schemes, and determine the breakeven price. Profit is defined below:\n",
    "\n",
    "$$ \\Pi = Q*(P-C) $$\n",
    "\n",
    "For 1000 customers, and prices of `$`39 and `$`59, respectively, we get the following:\n",
    "$$ \\Pi = 19.78*(39-C) = 771.42 - 19.78*C $$\n",
    "$$ \\Pi = 15.43*(59-C) = 910.37 - 15.43*C $$\n",
    "\n",
    "We can see here that the higher price option results in higher overall revenue, plus a lower cost regardless of the actual value of C, so the higher price option will always yield higher profits. Taking it one step further, we can estimate a simple linear demand curve and determine the profit-maximizing price level as a function of our cost C. We can estimate demand as a function of the form:\n",
    "\n",
    "$$ Q_{d}(P) = A - b*Price $$\n",
    "\n",
    "We have two points that represent combinations of (P,Q) - (39,19.78) and (59,15.43). This allows us to solve a system of linear equations and get the following demand function:\n",
    "\n",
    "$$ Q_{d}(P) = 28.26 - .2175*P $$\n",
    "\n",
    "This lets us express profit as the following:\n",
    "\n",
    "$$ \\Pi = Q*(P-C) = (28.26 - .2175*P)(P - C) $$\n",
    "\n",
    "We can derive this equation with respect to price, set it equal to zero, solve for the optimal price, and get the following:\n",
    "\n",
    "$$ P_{max \\Pi} = 64.96 + 2.29*C $$\n",
    "\n",
    "This tells us that to maximize profit, we want to price at approximately `$`65 plus 2.29 times cost. Granted, this is far beyond either of the pricing schemes attempted and elasticity of demand is likely to change when we move too far beyond our given prices. **However, the implication is that we may have room to increase the price to even more than `$`59 and still see an increase in profits.**\n",
    "\n",
    "A third view of how to price the software could involve customer acquisition. Suppose that the company wants to steal as many customers as possible from its competitor, even at a loss, knowing that it can recoup any losses with later sales of additional profits. In this case, then price should be set at a point that maximizes conversion rate (especially of individuals who are not currently customers). This dovetails nicely into the next stated goal of the VP of product. "
   ]
  },
  {
   "cell_type": "markdown",
   "metadata": {},
   "source": [
    "#### Part 2 - Conversion\n",
    "--The VP of Product is interested in having a holistic view into user behavior, especially focusing on actionable insights that might increase conversion rate. What are your main findings looking at the data?\n",
    "\n",
    "We have already shown that the higher priced customers have a lower conversion rate - approximately 1.5% vs. 2%. But other than price, a number of other factors may play a role in conversion rate. What we are dealing with here is a binary classification problem, and there are a number of different models we can use to understand what's going on here as well as attempt to predict customer behavior. However, given that our VP of Product wants to look at actionable insights that affect conversion rate, we want to focus on modeling techniques that allow for interpretability. Thus, complicated ensemble methods such as random forest may not be the most appropriate. Additionally, since we are aiming to develop actionable insights, the ability to predict which customers are likely or not likely to convert may be of value, so out-of-sample prediction is useful. Based on the above characteristics, the best approach is probably to start with a simple logistic regression predicting conversion and examine the coefficients and their significance, as well as out-of-sample predictive power. "
   ]
  },
  {
   "cell_type": "code",
   "execution_count": 36,
   "metadata": {
    "collapsed": false
   },
   "outputs": [
    {
     "data": {
      "text/html": [
       "<div>\n",
       "<table border=\"1\" class=\"dataframe\">\n",
       "  <thead>\n",
       "    <tr style=\"text-align: right;\">\n",
       "      <th></th>\n",
       "      <th>user_id</th>\n",
       "      <th>source</th>\n",
       "      <th>device</th>\n",
       "      <th>operative_system</th>\n",
       "      <th>test</th>\n",
       "      <th>price</th>\n",
       "      <th>converted</th>\n",
       "      <th>city</th>\n",
       "      <th>country</th>\n",
       "      <th>lat</th>\n",
       "      <th>long</th>\n",
       "      <th>hasgeo</th>\n",
       "      <th>source_2</th>\n",
       "      <th>date_fix</th>\n",
       "      <th>just_date</th>\n",
       "      <th>weekday</th>\n",
       "    </tr>\n",
       "  </thead>\n",
       "  <tbody>\n",
       "    <tr>\n",
       "      <th>0</th>\n",
       "      <td>604839</td>\n",
       "      <td>ads_facebook</td>\n",
       "      <td>mobile</td>\n",
       "      <td>iOS</td>\n",
       "      <td>0</td>\n",
       "      <td>39</td>\n",
       "      <td>0</td>\n",
       "      <td>Buffalo</td>\n",
       "      <td>USA</td>\n",
       "      <td>42.89</td>\n",
       "      <td>-78.86</td>\n",
       "      <td>True</td>\n",
       "      <td>ads</td>\n",
       "      <td>2015-05-08 03:38:34</td>\n",
       "      <td>2015-05-08</td>\n",
       "      <td>Friday</td>\n",
       "    </tr>\n",
       "    <tr>\n",
       "      <th>1</th>\n",
       "      <td>624057</td>\n",
       "      <td>seo-google</td>\n",
       "      <td>mobile</td>\n",
       "      <td>android</td>\n",
       "      <td>0</td>\n",
       "      <td>39</td>\n",
       "      <td>0</td>\n",
       "      <td>Lakeville</td>\n",
       "      <td>USA</td>\n",
       "      <td>44.68</td>\n",
       "      <td>-93.24</td>\n",
       "      <td>True</td>\n",
       "      <td>seo</td>\n",
       "      <td>2015-05-10 21:08:46</td>\n",
       "      <td>2015-05-10</td>\n",
       "      <td>Sunday</td>\n",
       "    </tr>\n",
       "    <tr>\n",
       "      <th>2</th>\n",
       "      <td>317970</td>\n",
       "      <td>ads-bing</td>\n",
       "      <td>mobile</td>\n",
       "      <td>android</td>\n",
       "      <td>0</td>\n",
       "      <td>39</td>\n",
       "      <td>0</td>\n",
       "      <td>Parma</td>\n",
       "      <td>USA</td>\n",
       "      <td>41.38</td>\n",
       "      <td>-81.73</td>\n",
       "      <td>True</td>\n",
       "      <td>ads</td>\n",
       "      <td>2015-04-04 15:01:23</td>\n",
       "      <td>2015-04-04</td>\n",
       "      <td>Saturday</td>\n",
       "    </tr>\n",
       "    <tr>\n",
       "      <th>3</th>\n",
       "      <td>685636</td>\n",
       "      <td>direct_traffic</td>\n",
       "      <td>mobile</td>\n",
       "      <td>iOS</td>\n",
       "      <td>1</td>\n",
       "      <td>59</td>\n",
       "      <td>0</td>\n",
       "      <td>Fayetteville</td>\n",
       "      <td>USA</td>\n",
       "      <td>35.07</td>\n",
       "      <td>-78.90</td>\n",
       "      <td>True</td>\n",
       "      <td>direct</td>\n",
       "      <td>2015-05-07 07:26:01</td>\n",
       "      <td>2015-05-07</td>\n",
       "      <td>Thursday</td>\n",
       "    </tr>\n",
       "    <tr>\n",
       "      <th>4</th>\n",
       "      <td>820854</td>\n",
       "      <td>ads_facebook</td>\n",
       "      <td>web</td>\n",
       "      <td>mac</td>\n",
       "      <td>0</td>\n",
       "      <td>39</td>\n",
       "      <td>0</td>\n",
       "      <td>Fishers</td>\n",
       "      <td>USA</td>\n",
       "      <td>39.95</td>\n",
       "      <td>-86.02</td>\n",
       "      <td>True</td>\n",
       "      <td>ads</td>\n",
       "      <td>2015-05-24 11:04:40</td>\n",
       "      <td>2015-05-24</td>\n",
       "      <td>Sunday</td>\n",
       "    </tr>\n",
       "  </tbody>\n",
       "</table>\n",
       "</div>"
      ],
      "text/plain": [
       "   user_id          source  device operative_system  test  price  converted  \\\n",
       "0   604839    ads_facebook  mobile              iOS     0     39          0   \n",
       "1   624057      seo-google  mobile          android     0     39          0   \n",
       "2   317970        ads-bing  mobile          android     0     39          0   \n",
       "3   685636  direct_traffic  mobile              iOS     1     59          0   \n",
       "4   820854    ads_facebook     web              mac     0     39          0   \n",
       "\n",
       "           city country    lat   long hasgeo source_2            date_fix  \\\n",
       "0       Buffalo     USA  42.89 -78.86   True      ads 2015-05-08 03:38:34   \n",
       "1     Lakeville     USA  44.68 -93.24   True      seo 2015-05-10 21:08:46   \n",
       "2         Parma     USA  41.38 -81.73   True      ads 2015-04-04 15:01:23   \n",
       "3  Fayetteville     USA  35.07 -78.90   True   direct 2015-05-07 07:26:01   \n",
       "4       Fishers     USA  39.95 -86.02   True      ads 2015-05-24 11:04:40   \n",
       "\n",
       "    just_date   weekday  \n",
       "0  2015-05-08    Friday  \n",
       "1  2015-05-10    Sunday  \n",
       "2  2015-04-04  Saturday  \n",
       "3  2015-05-07  Thursday  \n",
       "4  2015-05-24    Sunday  "
      ]
     },
     "execution_count": 36,
     "metadata": {},
     "output_type": "execute_result"
    }
   ],
   "source": [
    "# let's look at our data again\n",
    "main.head()"
   ]
  },
  {
   "cell_type": "code",
   "execution_count": 37,
   "metadata": {
    "collapsed": true
   },
   "outputs": [],
   "source": [
    "# import modeling packages\n",
    "from sklearn.linear_model import LogisticRegression\n",
    "from sklearn.feature_selection import f_classif\n",
    "import patsy"
   ]
  },
  {
   "cell_type": "code",
   "execution_count": 38,
   "metadata": {
    "collapsed": false
   },
   "outputs": [
    {
     "name": "stderr",
     "output_type": "stream",
     "text": [
      "C:\\Users\\jzell\\Anaconda2\\lib\\site-packages\\sklearn\\utils\\validation.py:526: DataConversionWarning: A column-vector y was passed when a 1d array was expected. Please change the shape of y to (n_samples, ), for example using ravel().\n",
      "  y = column_or_1d(y, warn=True)\n",
      "C:\\Users\\jzell\\Anaconda2\\lib\\site-packages\\sklearn\\feature_selection\\univariate_selection.py:113: UserWarning: Features [0] are constant.\n",
      "  UserWarning)\n"
     ]
    },
    {
     "data": {
      "text/html": [
       "<div>\n",
       "<table border=\"1\" class=\"dataframe\">\n",
       "  <thead>\n",
       "    <tr style=\"text-align: right;\">\n",
       "      <th></th>\n",
       "      <th>coefficient</th>\n",
       "      <th>pval</th>\n",
       "      <th>sig</th>\n",
       "    </tr>\n",
       "  </thead>\n",
       "  <tbody>\n",
       "    <tr>\n",
       "      <th>Intercept</th>\n",
       "      <td>-1.951414</td>\n",
       "      <td>NaN</td>\n",
       "      <td>False</td>\n",
       "    </tr>\n",
       "    <tr>\n",
       "      <th>test</th>\n",
       "      <td>-0.253208</td>\n",
       "      <td>2.423876e-16</td>\n",
       "      <td>True</td>\n",
       "    </tr>\n",
       "  </tbody>\n",
       "</table>\n",
       "</div>"
      ],
      "text/plain": [
       "           coefficient          pval    sig\n",
       "Intercept    -1.951414           NaN  False\n",
       "test         -0.253208  2.423876e-16   True"
      ]
     },
     "execution_count": 38,
     "metadata": {},
     "output_type": "execute_result"
    }
   ],
   "source": [
    "# as a first attempt, as well as a sanity check, let's run a quick regression predicting conversion based solely on test pricing\n",
    "\n",
    "# define formula\n",
    "model1 = 'converted ~ test'\n",
    "\n",
    "# create x and y using patsy's dmatrices\n",
    "y,x = patsy.dmatrices(model1,main,return_type='dataframe')\n",
    "\n",
    "# specify model objects and fit\n",
    "feat1 = f_classif(x, y)\n",
    "fit1 = LogisticRegression()\n",
    "\n",
    "fit1.fit(x,y)\n",
    "\n",
    "# store coefficients, p-value, and significance at 1% level\n",
    "r2 = DataFrame(data=fit1.coef_[0],index=x.columns.values,columns=['coefficient'])\n",
    "r2['pval'] = feat1[1]\n",
    "r2['sig'] = r2['pval'] <= .01\n",
    "\n",
    "# show results\n",
    "r2"
   ]
  },
  {
   "cell_type": "markdown",
   "metadata": {},
   "source": [
    "We see above the coefficient associated with *test* is -.25, but this coefficient is the effect on the log-odds, which isn't very interpretable. If raise e to this power (e^-.25 = ~.77), we can see the effect on the odds ratio. The odds ratio of converting to not falls by .77 when test = 1, meaning that conversion is about 3/4 as likely when test = 1. This is perfectly in line with our conversion rates of around 2% and 1.5% for control and test groups, respectively. We pass the sanity check! \n",
    "\n",
    "Now, we can move on to some other logistic regressions to hopefully uncover more insight. We will also split the data into a training and testing set and check our models to see how well they can predict out-of-sample."
   ]
  },
  {
   "cell_type": "code",
   "execution_count": 56,
   "metadata": {
    "collapsed": true
   },
   "outputs": [],
   "source": [
    "# import packages\n",
    "from sklearn.model_selection import train_test_split\n",
    "from sklearn.metrics import confusion_matrix"
   ]
  },
  {
   "cell_type": "code",
   "execution_count": 57,
   "metadata": {
    "collapsed": false
   },
   "outputs": [
    {
     "data": {
      "text/html": [
       "<div>\n",
       "<table border=\"1\" class=\"dataframe\">\n",
       "  <thead>\n",
       "    <tr style=\"text-align: right;\">\n",
       "      <th></th>\n",
       "      <th>coefficient</th>\n",
       "      <th>exp_coef</th>\n",
       "      <th>pval</th>\n",
       "      <th>sig</th>\n",
       "    </tr>\n",
       "  </thead>\n",
       "  <tbody>\n",
       "    <tr>\n",
       "      <th>Intercept</th>\n",
       "      <td>-2.245611</td>\n",
       "      <td>0.105863</td>\n",
       "      <td>NaN</td>\n",
       "      <td>False</td>\n",
       "    </tr>\n",
       "    <tr>\n",
       "      <th>source[T.ads-google]</th>\n",
       "      <td>0.502659</td>\n",
       "      <td>1.653112</td>\n",
       "      <td>4.802047e-04</td>\n",
       "      <td>True</td>\n",
       "    </tr>\n",
       "    <tr>\n",
       "      <th>source[T.ads-yahoo]</th>\n",
       "      <td>0.023748</td>\n",
       "      <td>1.024032</td>\n",
       "      <td>5.996622e-03</td>\n",
       "      <td>True</td>\n",
       "    </tr>\n",
       "    <tr>\n",
       "      <th>source[T.ads_facebook]</th>\n",
       "      <td>0.568416</td>\n",
       "      <td>1.765468</td>\n",
       "      <td>1.312018e-07</td>\n",
       "      <td>True</td>\n",
       "    </tr>\n",
       "    <tr>\n",
       "      <th>source[T.ads_other]</th>\n",
       "      <td>0.165451</td>\n",
       "      <td>1.179925</td>\n",
       "      <td>2.750825e-04</td>\n",
       "      <td>True</td>\n",
       "    </tr>\n",
       "    <tr>\n",
       "      <th>source[T.direct_traffic]</th>\n",
       "      <td>-0.054843</td>\n",
       "      <td>0.946634</td>\n",
       "      <td>2.292500e-23</td>\n",
       "      <td>True</td>\n",
       "    </tr>\n",
       "    <tr>\n",
       "      <th>source[T.friend_referral]</th>\n",
       "      <td>1.160763</td>\n",
       "      <td>3.192369</td>\n",
       "      <td>6.813354e-69</td>\n",
       "      <td>True</td>\n",
       "    </tr>\n",
       "    <tr>\n",
       "      <th>source[T.seo-bing]</th>\n",
       "      <td>0.421610</td>\n",
       "      <td>1.524414</td>\n",
       "      <td>7.481536e-01</td>\n",
       "      <td>False</td>\n",
       "    </tr>\n",
       "    <tr>\n",
       "      <th>source[T.seo-google]</th>\n",
       "      <td>0.360138</td>\n",
       "      <td>1.433527</td>\n",
       "      <td>7.450757e-01</td>\n",
       "      <td>False</td>\n",
       "    </tr>\n",
       "    <tr>\n",
       "      <th>source[T.seo-other]</th>\n",
       "      <td>0.277488</td>\n",
       "      <td>1.319810</td>\n",
       "      <td>3.195713e-01</td>\n",
       "      <td>False</td>\n",
       "    </tr>\n",
       "    <tr>\n",
       "      <th>source[T.seo-yahoo]</th>\n",
       "      <td>0.358595</td>\n",
       "      <td>1.431317</td>\n",
       "      <td>8.415580e-01</td>\n",
       "      <td>False</td>\n",
       "    </tr>\n",
       "    <tr>\n",
       "      <th>source[T.seo_facebook]</th>\n",
       "      <td>0.229099</td>\n",
       "      <td>1.257467</td>\n",
       "      <td>2.462234e-02</td>\n",
       "      <td>False</td>\n",
       "    </tr>\n",
       "    <tr>\n",
       "      <th>device[T.web]</th>\n",
       "      <td>-0.128644</td>\n",
       "      <td>0.879287</td>\n",
       "      <td>7.542814e-01</td>\n",
       "      <td>False</td>\n",
       "    </tr>\n",
       "    <tr>\n",
       "      <th>operative_system[T.iOS]</th>\n",
       "      <td>0.376881</td>\n",
       "      <td>1.457730</td>\n",
       "      <td>4.099270e-15</td>\n",
       "      <td>True</td>\n",
       "    </tr>\n",
       "    <tr>\n",
       "      <th>operative_system[T.linux]</th>\n",
       "      <td>-0.252207</td>\n",
       "      <td>0.777083</td>\n",
       "      <td>3.986879e-03</td>\n",
       "      <td>True</td>\n",
       "    </tr>\n",
       "    <tr>\n",
       "      <th>operative_system[T.mac]</th>\n",
       "      <td>0.647980</td>\n",
       "      <td>1.911676</td>\n",
       "      <td>2.198872e-11</td>\n",
       "      <td>True</td>\n",
       "    </tr>\n",
       "    <tr>\n",
       "      <th>operative_system[T.other]</th>\n",
       "      <td>-0.214370</td>\n",
       "      <td>0.807050</td>\n",
       "      <td>3.809043e-06</td>\n",
       "      <td>True</td>\n",
       "    </tr>\n",
       "    <tr>\n",
       "      <th>operative_system[T.windows]</th>\n",
       "      <td>0.234591</td>\n",
       "      <td>1.264391</td>\n",
       "      <td>5.479421e-04</td>\n",
       "      <td>True</td>\n",
       "    </tr>\n",
       "    <tr>\n",
       "      <th>test</th>\n",
       "      <td>-0.246025</td>\n",
       "      <td>0.781902</td>\n",
       "      <td>3.354905e-11</td>\n",
       "      <td>True</td>\n",
       "    </tr>\n",
       "  </tbody>\n",
       "</table>\n",
       "</div>"
      ],
      "text/plain": [
       "                             coefficient  exp_coef          pval    sig\n",
       "Intercept                      -2.245611  0.105863           NaN  False\n",
       "source[T.ads-google]            0.502659  1.653112  4.802047e-04   True\n",
       "source[T.ads-yahoo]             0.023748  1.024032  5.996622e-03   True\n",
       "source[T.ads_facebook]          0.568416  1.765468  1.312018e-07   True\n",
       "source[T.ads_other]             0.165451  1.179925  2.750825e-04   True\n",
       "source[T.direct_traffic]       -0.054843  0.946634  2.292500e-23   True\n",
       "source[T.friend_referral]       1.160763  3.192369  6.813354e-69   True\n",
       "source[T.seo-bing]              0.421610  1.524414  7.481536e-01  False\n",
       "source[T.seo-google]            0.360138  1.433527  7.450757e-01  False\n",
       "source[T.seo-other]             0.277488  1.319810  3.195713e-01  False\n",
       "source[T.seo-yahoo]             0.358595  1.431317  8.415580e-01  False\n",
       "source[T.seo_facebook]          0.229099  1.257467  2.462234e-02  False\n",
       "device[T.web]                  -0.128644  0.879287  7.542814e-01  False\n",
       "operative_system[T.iOS]         0.376881  1.457730  4.099270e-15   True\n",
       "operative_system[T.linux]      -0.252207  0.777083  3.986879e-03   True\n",
       "operative_system[T.mac]         0.647980  1.911676  2.198872e-11   True\n",
       "operative_system[T.other]      -0.214370  0.807050  3.809043e-06   True\n",
       "operative_system[T.windows]     0.234591  1.264391  5.479421e-04   True\n",
       "test                           -0.246025  0.781902  3.354905e-11   True"
      ]
     },
     "execution_count": 57,
     "metadata": {},
     "output_type": "execute_result"
    }
   ],
   "source": [
    "# Let's run another regression including source, device, and OS\n",
    "\n",
    "# define formula\n",
    "model2 = 'converted ~ test + source + device + operative_system'\n",
    "\n",
    "# create x and y using patsy's dmatrices\n",
    "y,x = patsy.dmatrices(model2,main,return_type='dataframe')\n",
    "\n",
    "# create test and train sets\n",
    "X_train, X_test, Y_train, Y_test = train_test_split(x, y, test_size=0.33, random_state=47)\n",
    "\n",
    "\n",
    "# specify model objects and fit\n",
    "feat2 = f_classif(X_train, Y_train)\n",
    "fit2 = LogisticRegression()\n",
    "\n",
    "fit2.fit(X_train,Y_train)\n",
    "\n",
    "# store coefficients, p-value, and signifiance at 1% level\n",
    "r2 = DataFrame(data=fit2.coef_[0],index=X_train.columns.values,columns=['coefficient'])\n",
    "r2['exp_coef'] = np.exp(r2['coefficient']) # store exponentiated coefficient for easier interpretation\n",
    "r2['pval'] = feat2[1]\n",
    "r2['sig'] = r2['pval'] <= .01\n",
    "\n",
    "# show results\n",
    "r2"
   ]
  },
  {
   "cell_type": "code",
   "execution_count": 58,
   "metadata": {
    "collapsed": false
   },
   "outputs": [
    {
     "data": {
      "text/plain": [
       "array([[89269,     0],\n",
       "       [ 1685,     0]])"
      ]
     },
     "execution_count": 58,
     "metadata": {},
     "output_type": "execute_result"
    }
   ],
   "source": [
    "# store predictions and display confusion matrix\n",
    "preds = fit2.predict(X_test)\n",
    "confusion_matrix(Y_test,preds)"
   ]
  },
  {
   "cell_type": "markdown",
   "metadata": {},
   "source": [
    "These results are less than encouraging. We know that we are facing a challenging classification problem when there is such significant class imbalance - overall conversion rate is only 1.82%, so a baseline accuracy of 98.18% can be achieved by simply predicting that nobody converts. Unfortunately, that is exactly what our model does, so in terms of predictive power, it is not good.\n",
    "\n",
    "However, we can still learn some interesting things from the significance of the coefficients. We can see that ads, direct traffic, and friend referrals have significant coefficients, with generally positive effects on conversion rate (as shown by the exponentiated coefficient > 1, implying these variables increase the odds ratio) for ads, and a very positive effect for friend referral. Note that for the source variable, the base case is *ads-bing* and all numbers are relative to that. The base cases for device and OS are mobile and Android, respectively. We also see that Windows, iOS, and Mac users have stronger conversion rates, while Linux and other users do not (compared to Android). These are useful insights, and after running a few more models, we will discuss their implications in terms of actionable insights. \n",
    "\n",
    "Getting back to the poor predictive power of our model, this is likely a function of our model seeking to maximize accuracy. Let's take a look at the ROC curve that displays the tradeoff between sensitivity (true positive rate) and 1 - specificity (false positive rate) at different decision thresholds. These statistics are more useful than simple accuracy when class imbalance is an issue. Right now, our model is predicting every user to be the negative class (not convert), so it is capturing 100% of the true negatives with zero false positives - so our specificity is one and our false positive rate is zero, and our sensitivity is also zero because we have not idenified any true positives. If we adjust the decision threshold to allow for more positive predictions, we will begin to capture some of the true positives, but will also gain a few false positives. This is the relationship displayed in the ROC curve."
   ]
  },
  {
   "cell_type": "code",
   "execution_count": 59,
   "metadata": {
    "collapsed": false,
    "scrolled": true
   },
   "outputs": [
    {
     "data": {
      "image/png": "[encoded data removed]",
      "text/plain": [
       "<matplotlib.figure.Figure at 0x1524e6a0>"
      ]
     },
     "metadata": {},
     "output_type": "display_data"
    }
   ],
   "source": [
    "#### ROC Curve for Classifiers\n",
    "from sklearn.metrics import (roc_curve, roc_auc_score)\n",
    "\n",
    "fit2_probs = fit2.predict_proba(X_test)\n",
    "fit2_probs = [item[1] for item in fit2_probs]\n",
    "\n",
    "fpr, tpr, thresholds = roc_curve(Y_test, fit2_probs, pos_label=1)\n",
    "lda_score = roc_auc_score(Y_test, fit2_probs)\n",
    "\n",
    "plt.figure()\n",
    "plt.plot(fpr, tpr, color='maroon',\n",
    "         lw=2, label='ROC curve (area = %0.3f)' % lda_score)\n",
    "plt.plot([0, 1], [0, 1], color='navy', lw=2, linestyle='--', label='Random')\n",
    "plt.xlim([0.0, 1.0])\n",
    "plt.ylim([0.0, 1.05])\n",
    "plt.xlabel('False Positive Rate')\n",
    "plt.ylabel('True Positive Rate')\n",
    "plt.title('ROC Graph - Fit 2')\n",
    "plt.legend(loc=\"lower right\")\n",
    "plt.tight_layout()\n",
    "plt.savefig('chart.png')\n",
    "plt.show()"
   ]
  },
  {
   "cell_type": "markdown",
   "metadata": {},
   "source": [
    "This ROC curve is not pretty. The diagonal line represents the baseline, and the ideal point is in the upper left with 100% true positive rate and 0% false positives. This curve is showing that regardless of threshold, we aren't doing so well. \n",
    "\n",
    "However, at this point, we are concerned with actionable insights and uncovering factors that affect conversion. Let's try another interpretable classification model - the decision tree - that should show us another view of conversion rate. "
   ]
  },
  {
   "cell_type": "code",
   "execution_count": 60,
   "metadata": {
    "collapsed": true
   },
   "outputs": [],
   "source": [
    "# import packages\n",
    "from sklearn.tree import DecisionTreeClassifier"
   ]
  },
  {
   "cell_type": "code",
   "execution_count": 61,
   "metadata": {
    "collapsed": false
   },
   "outputs": [
    {
     "data": {
      "text/plain": [
       "DecisionTreeClassifier(class_weight=None, criterion='gini', max_depth=None,\n",
       "            max_features=None, max_leaf_nodes=None,\n",
       "            min_impurity_split=1e-07, min_samples_leaf=1,\n",
       "            min_samples_split=2, min_weight_fraction_leaf=0.0,\n",
       "            presort=False, random_state=None, splitter='best')"
      ]
     },
     "execution_count": 61,
     "metadata": {},
     "output_type": "execute_result"
    }
   ],
   "source": [
    "# let's fit a decision tree with the same formula as before\n",
    "## Note - if we were really concerned with prediction, we could spend time on cross-validation and hyperparameter selection, \n",
    "## but we care more about determining which variables are important, so we don't need to worry about that for now. Furthermore,\n",
    "## ensemble methods like random forests are better predictors, so they would be more appropriate for prediction, but not for\n",
    "## interpretability.\n",
    "tree1 = DecisionTreeClassifier()\n",
    "tree1.fit(X_train,Y_train)"
   ]
  },
  {
   "cell_type": "code",
   "execution_count": 62,
   "metadata": {
    "collapsed": false
   },
   "outputs": [
    {
     "data": {
      "text/plain": [
       "<matplotlib.axes._subplots.AxesSubplot at 0xe1beb00>"
      ]
     },
     "execution_count": 62,
     "metadata": {},
     "output_type": "execute_result"
    },
    {
     "data": {
      "image/png": "[encoded data removed]",
      "text/plain": [
       "<matplotlib.figure.Figure at 0xe1a7320>"
      ]
     },
     "metadata": {},
     "output_type": "display_data"
    }
   ],
   "source": [
    "# let's view which variables are most important\n",
    "treeimps = pd.DataFrame(index=X_train.columns,data=tree1.feature_importances_)\n",
    "treeimps.plot(kind='bar',legend=False,title='Decision Tree Variable Importance',figsize=(10,5))"
   ]
  },
  {
   "cell_type": "markdown",
   "metadata": {},
   "source": [
    "Our results above indicate that one variable contributes more than any other to reducing impurity in the decision tree - friend referral. This means that knowing if the source was a friend referral gives us more information about potential conversion than any other, a result that is backed up by the significant coefficient with a large value in the logistic regression. Direct traffic, iOS, and Mac users also convert differently than the general population, however it is important to note that this plot *does not* indicate the direction of the relationship. From above, we know that the exponentiated coefficient on *direct_traffic* is around .94, so direct traffic users are actually slightly less likely to convert than the base case of ads-bing. \n",
    "\n",
    "Next, let's run our model again with the bucketed sources to simplify things a bit."
   ]
  },
  {
   "cell_type": "code",
   "execution_count": 63,
   "metadata": {
    "collapsed": false
   },
   "outputs": [
    {
     "data": {
      "text/html": [
       "<div>\n",
       "<table border=\"1\" class=\"dataframe\">\n",
       "  <thead>\n",
       "    <tr style=\"text-align: right;\">\n",
       "      <th></th>\n",
       "      <th>coefficient</th>\n",
       "      <th>exp_coef</th>\n",
       "      <th>pval</th>\n",
       "      <th>sig</th>\n",
       "    </tr>\n",
       "  </thead>\n",
       "  <tbody>\n",
       "    <tr>\n",
       "      <th>Intercept</th>\n",
       "      <td>-2.046711</td>\n",
       "      <td>0.129159</td>\n",
       "      <td>NaN</td>\n",
       "      <td>False</td>\n",
       "    </tr>\n",
       "    <tr>\n",
       "      <th>source_2[T.direct]</th>\n",
       "      <td>-0.451547</td>\n",
       "      <td>0.636642</td>\n",
       "      <td>2.292500e-23</td>\n",
       "      <td>True</td>\n",
       "    </tr>\n",
       "    <tr>\n",
       "      <th>source_2[T.friend]</th>\n",
       "      <td>0.763924</td>\n",
       "      <td>2.146683</td>\n",
       "      <td>6.813354e-69</td>\n",
       "      <td>True</td>\n",
       "    </tr>\n",
       "    <tr>\n",
       "      <th>source_2[T.seo]</th>\n",
       "      <td>-0.087152</td>\n",
       "      <td>0.916538</td>\n",
       "      <td>4.044840e-02</td>\n",
       "      <td>False</td>\n",
       "    </tr>\n",
       "    <tr>\n",
       "      <th>device[T.web]</th>\n",
       "      <td>-0.140778</td>\n",
       "      <td>0.868682</td>\n",
       "      <td>7.542814e-01</td>\n",
       "      <td>False</td>\n",
       "    </tr>\n",
       "    <tr>\n",
       "      <th>operative_system[T.iOS]</th>\n",
       "      <td>0.377996</td>\n",
       "      <td>1.459357</td>\n",
       "      <td>4.099270e-15</td>\n",
       "      <td>True</td>\n",
       "    </tr>\n",
       "    <tr>\n",
       "      <th>operative_system[T.linux]</th>\n",
       "      <td>-0.235425</td>\n",
       "      <td>0.790235</td>\n",
       "      <td>3.986879e-03</td>\n",
       "      <td>True</td>\n",
       "    </tr>\n",
       "    <tr>\n",
       "      <th>operative_system[T.mac]</th>\n",
       "      <td>0.659990</td>\n",
       "      <td>1.934773</td>\n",
       "      <td>2.198872e-11</td>\n",
       "      <td>True</td>\n",
       "    </tr>\n",
       "    <tr>\n",
       "      <th>operative_system[T.other]</th>\n",
       "      <td>-0.217056</td>\n",
       "      <td>0.804885</td>\n",
       "      <td>3.809043e-06</td>\n",
       "      <td>True</td>\n",
       "    </tr>\n",
       "    <tr>\n",
       "      <th>operative_system[T.windows]</th>\n",
       "      <td>0.244677</td>\n",
       "      <td>1.277209</td>\n",
       "      <td>5.479421e-04</td>\n",
       "      <td>True</td>\n",
       "    </tr>\n",
       "    <tr>\n",
       "      <th>test</th>\n",
       "      <td>-0.245504</td>\n",
       "      <td>0.782310</td>\n",
       "      <td>3.354905e-11</td>\n",
       "      <td>True</td>\n",
       "    </tr>\n",
       "  </tbody>\n",
       "</table>\n",
       "</div>"
      ],
      "text/plain": [
       "                             coefficient  exp_coef          pval    sig\n",
       "Intercept                      -2.046711  0.129159           NaN  False\n",
       "source_2[T.direct]             -0.451547  0.636642  2.292500e-23   True\n",
       "source_2[T.friend]              0.763924  2.146683  6.813354e-69   True\n",
       "source_2[T.seo]                -0.087152  0.916538  4.044840e-02  False\n",
       "device[T.web]                  -0.140778  0.868682  7.542814e-01  False\n",
       "operative_system[T.iOS]         0.377996  1.459357  4.099270e-15   True\n",
       "operative_system[T.linux]      -0.235425  0.790235  3.986879e-03   True\n",
       "operative_system[T.mac]         0.659990  1.934773  2.198872e-11   True\n",
       "operative_system[T.other]      -0.217056  0.804885  3.809043e-06   True\n",
       "operative_system[T.windows]     0.244677  1.277209  5.479421e-04   True\n",
       "test                           -0.245504  0.782310  3.354905e-11   True"
      ]
     },
     "execution_count": 63,
     "metadata": {},
     "output_type": "execute_result"
    }
   ],
   "source": [
    "# Let's run another regression including source_2, device, and OS\n",
    "\n",
    "# define formula\n",
    "model3 = 'converted ~ test + source_2 + device + operative_system'\n",
    "\n",
    "# create x and y using patsy's dmatrices\n",
    "y,x = patsy.dmatrices(model3,main,return_type='dataframe')\n",
    "\n",
    "# create test and train sets\n",
    "X_train, X_test, Y_train, Y_test = train_test_split(x, y, test_size=0.33, random_state=47)\n",
    "\n",
    "\n",
    "# specify model objects and fit\n",
    "feat3 = f_classif(X_train, Y_train)\n",
    "fit3 = LogisticRegression()\n",
    "\n",
    "fit3.fit(X_train,Y_train)\n",
    "\n",
    "# store coefficients, p-value, and signifiance at 1% level\n",
    "r2 = DataFrame(data=fit3.coef_[0],index=X_train.columns.values,columns=['coefficient'])\n",
    "r2['exp_coef'] = np.exp(r2['coefficient']) # store exponentiated coefficient for easier interpretation\n",
    "r2['pval'] = feat3[1]\n",
    "r2['sig'] = r2['pval'] <= .01\n",
    "\n",
    "# show results\n",
    "r2"
   ]
  },
  {
   "cell_type": "markdown",
   "metadata": {},
   "source": [
    "These results are more or less the same as before, although our coefficients have changed slightly. The base case for source is now all ads, and friend referrals still represent a major improvement over this, while direct traffic is even worse. SEO and ads appear to be comparable, as do web vs. mobile, as indicated by insignificant coefficients. Operating system results are generally the same - iOS, Mac, and Windows yield higher odds than Android. As before, the test variable is negative.\n",
    "\n",
    "Let's take another look at the variable importances from a decision tree."
   ]
  },
  {
   "cell_type": "code",
   "execution_count": 64,
   "metadata": {
    "collapsed": false
   },
   "outputs": [
    {
     "data": {
      "text/plain": [
       "<matplotlib.axes._subplots.AxesSubplot at 0xdce64e0>"
      ]
     },
     "execution_count": 64,
     "metadata": {},
     "output_type": "execute_result"
    },
    {
     "data": {
      "image/png": "[encoded data removed]",
      "text/plain": [
       "<matplotlib.figure.Figure at 0xdd00400>"
      ]
     },
     "metadata": {},
     "output_type": "display_data"
    }
   ],
   "source": [
    "tree1 = DecisionTreeClassifier()\n",
    "tree1.fit(X_train,Y_train)\n",
    "\n",
    "# let's view which variables are most important\n",
    "treeimps = pd.DataFrame(index=X_train.columns,data=tree1.feature_importances_)\n",
    "treeimps.plot(kind='bar',legend=False,title='Decision Tree Variable Importance',figsize=(10,5))"
   ]
  },
  {
   "cell_type": "markdown",
   "metadata": {},
   "source": [
    "We see more of the same.\n",
    "\n",
    "As a final attempt, let's add a few more variables to the model. We will add weekday just for kicks, as well as try to think of some meaningful interaction terms. We know that friend referrals are important - but how important are they? Let's interact source_2 with test (which represents a higher price). The idea here is that users who received friend referrals may not only convert at a higher rate, but also be less sensitive to price changes. The same logic applies to operating system."
   ]
  },
  {
   "cell_type": "code",
   "execution_count": 65,
   "metadata": {
    "collapsed": false,
    "scrolled": true
   },
   "outputs": [
    {
     "data": {
      "text/html": [
       "<div>\n",
       "<table border=\"1\" class=\"dataframe\">\n",
       "  <thead>\n",
       "    <tr style=\"text-align: right;\">\n",
       "      <th></th>\n",
       "      <th>coefficient</th>\n",
       "      <th>exp_coef</th>\n",
       "      <th>pval</th>\n",
       "      <th>sig</th>\n",
       "    </tr>\n",
       "  </thead>\n",
       "  <tbody>\n",
       "    <tr>\n",
       "      <th>Intercept</th>\n",
       "      <td>-2.048390</td>\n",
       "      <td>0.128942</td>\n",
       "      <td>NaN</td>\n",
       "      <td>False</td>\n",
       "    </tr>\n",
       "    <tr>\n",
       "      <th>source_2[T.direct]</th>\n",
       "      <td>-0.447828</td>\n",
       "      <td>0.639015</td>\n",
       "      <td>2.292500e-23</td>\n",
       "      <td>True</td>\n",
       "    </tr>\n",
       "    <tr>\n",
       "      <th>source_2[T.friend]</th>\n",
       "      <td>0.764728</td>\n",
       "      <td>2.148410</td>\n",
       "      <td>6.813354e-69</td>\n",
       "      <td>True</td>\n",
       "    </tr>\n",
       "    <tr>\n",
       "      <th>source_2[T.seo]</th>\n",
       "      <td>-0.075821</td>\n",
       "      <td>0.926982</td>\n",
       "      <td>4.044840e-02</td>\n",
       "      <td>False</td>\n",
       "    </tr>\n",
       "    <tr>\n",
       "      <th>device[T.web]</th>\n",
       "      <td>-0.040707</td>\n",
       "      <td>0.960110</td>\n",
       "      <td>7.542814e-01</td>\n",
       "      <td>False</td>\n",
       "    </tr>\n",
       "    <tr>\n",
       "      <th>operative_system[T.iOS]</th>\n",
       "      <td>0.345499</td>\n",
       "      <td>1.412694</td>\n",
       "      <td>4.099270e-15</td>\n",
       "      <td>True</td>\n",
       "    </tr>\n",
       "    <tr>\n",
       "      <th>operative_system[T.linux]</th>\n",
       "      <td>0.111488</td>\n",
       "      <td>1.117941</td>\n",
       "      <td>3.986879e-03</td>\n",
       "      <td>True</td>\n",
       "    </tr>\n",
       "    <tr>\n",
       "      <th>operative_system[T.mac]</th>\n",
       "      <td>0.591087</td>\n",
       "      <td>1.805950</td>\n",
       "      <td>2.198872e-11</td>\n",
       "      <td>True</td>\n",
       "    </tr>\n",
       "    <tr>\n",
       "      <th>operative_system[T.other]</th>\n",
       "      <td>-0.251426</td>\n",
       "      <td>0.777691</td>\n",
       "      <td>3.809043e-06</td>\n",
       "      <td>True</td>\n",
       "    </tr>\n",
       "    <tr>\n",
       "      <th>operative_system[T.windows]</th>\n",
       "      <td>0.163718</td>\n",
       "      <td>1.177882</td>\n",
       "      <td>5.479421e-04</td>\n",
       "      <td>True</td>\n",
       "    </tr>\n",
       "    <tr>\n",
       "      <th>weekday[T.Monday]</th>\n",
       "      <td>-0.041138</td>\n",
       "      <td>0.959697</td>\n",
       "      <td>4.995122e-01</td>\n",
       "      <td>False</td>\n",
       "    </tr>\n",
       "    <tr>\n",
       "      <th>weekday[T.Saturday]</th>\n",
       "      <td>-0.022598</td>\n",
       "      <td>0.977656</td>\n",
       "      <td>5.177770e-01</td>\n",
       "      <td>False</td>\n",
       "    </tr>\n",
       "    <tr>\n",
       "      <th>weekday[T.Sunday]</th>\n",
       "      <td>0.055836</td>\n",
       "      <td>1.057424</td>\n",
       "      <td>1.703456e-01</td>\n",
       "      <td>False</td>\n",
       "    </tr>\n",
       "    <tr>\n",
       "      <th>weekday[T.Thursday]</th>\n",
       "      <td>0.009050</td>\n",
       "      <td>1.009092</td>\n",
       "      <td>7.764513e-01</td>\n",
       "      <td>False</td>\n",
       "    </tr>\n",
       "    <tr>\n",
       "      <th>weekday[T.Tuesday]</th>\n",
       "      <td>-0.051778</td>\n",
       "      <td>0.949540</td>\n",
       "      <td>4.696032e-01</td>\n",
       "      <td>False</td>\n",
       "    </tr>\n",
       "    <tr>\n",
       "      <th>weekday[T.Wednesday]</th>\n",
       "      <td>0.011800</td>\n",
       "      <td>1.011870</td>\n",
       "      <td>9.413413e-01</td>\n",
       "      <td>False</td>\n",
       "    </tr>\n",
       "    <tr>\n",
       "      <th>test</th>\n",
       "      <td>-0.237131</td>\n",
       "      <td>0.788888</td>\n",
       "      <td>3.354905e-11</td>\n",
       "      <td>True</td>\n",
       "    </tr>\n",
       "    <tr>\n",
       "      <th>test:source_2[T.direct]</th>\n",
       "      <td>-0.011614</td>\n",
       "      <td>0.988453</td>\n",
       "      <td>8.019914e-13</td>\n",
       "      <td>True</td>\n",
       "    </tr>\n",
       "    <tr>\n",
       "      <th>test:source_2[T.friend]</th>\n",
       "      <td>0.005587</td>\n",
       "      <td>1.005603</td>\n",
       "      <td>1.819601e-13</td>\n",
       "      <td>True</td>\n",
       "    </tr>\n",
       "    <tr>\n",
       "      <th>test:source_2[T.seo]</th>\n",
       "      <td>-0.038277</td>\n",
       "      <td>0.962446</td>\n",
       "      <td>2.200534e-04</td>\n",
       "      <td>True</td>\n",
       "    </tr>\n",
       "    <tr>\n",
       "      <th>test:operative_system[T.iOS]</th>\n",
       "      <td>0.103391</td>\n",
       "      <td>1.108925</td>\n",
       "      <td>4.305204e-02</td>\n",
       "      <td>False</td>\n",
       "    </tr>\n",
       "    <tr>\n",
       "      <th>test:operative_system[T.linux]</th>\n",
       "      <td>-2.080709</td>\n",
       "      <td>0.124842</td>\n",
       "      <td>5.114408e-06</td>\n",
       "      <td>True</td>\n",
       "    </tr>\n",
       "    <tr>\n",
       "      <th>test:operative_system[T.mac]</th>\n",
       "      <td>-0.110597</td>\n",
       "      <td>0.895299</td>\n",
       "      <td>3.589570e-01</td>\n",
       "      <td>False</td>\n",
       "    </tr>\n",
       "    <tr>\n",
       "      <th>test:operative_system[T.other]</th>\n",
       "      <td>0.107996</td>\n",
       "      <td>1.114044</td>\n",
       "      <td>2.179676e-03</td>\n",
       "      <td>True</td>\n",
       "    </tr>\n",
       "    <tr>\n",
       "      <th>test:operative_system[T.windows]</th>\n",
       "      <td>-0.063845</td>\n",
       "      <td>0.938151</td>\n",
       "      <td>6.760514e-08</td>\n",
       "      <td>True</td>\n",
       "    </tr>\n",
       "  </tbody>\n",
       "</table>\n",
       "</div>"
      ],
      "text/plain": [
       "                                  coefficient  exp_coef          pval    sig\n",
       "Intercept                           -2.048390  0.128942           NaN  False\n",
       "source_2[T.direct]                  -0.447828  0.639015  2.292500e-23   True\n",
       "source_2[T.friend]                   0.764728  2.148410  6.813354e-69   True\n",
       "source_2[T.seo]                     -0.075821  0.926982  4.044840e-02  False\n",
       "device[T.web]                       -0.040707  0.960110  7.542814e-01  False\n",
       "operative_system[T.iOS]              0.345499  1.412694  4.099270e-15   True\n",
       "operative_system[T.linux]            0.111488  1.117941  3.986879e-03   True\n",
       "operative_system[T.mac]              0.591087  1.805950  2.198872e-11   True\n",
       "operative_system[T.other]           -0.251426  0.777691  3.809043e-06   True\n",
       "operative_system[T.windows]          0.163718  1.177882  5.479421e-04   True\n",
       "weekday[T.Monday]                   -0.041138  0.959697  4.995122e-01  False\n",
       "weekday[T.Saturday]                 -0.022598  0.977656  5.177770e-01  False\n",
       "weekday[T.Sunday]                    0.055836  1.057424  1.703456e-01  False\n",
       "weekday[T.Thursday]                  0.009050  1.009092  7.764513e-01  False\n",
       "weekday[T.Tuesday]                  -0.051778  0.949540  4.696032e-01  False\n",
       "weekday[T.Wednesday]                 0.011800  1.011870  9.413413e-01  False\n",
       "test                                -0.237131  0.788888  3.354905e-11   True\n",
       "test:source_2[T.direct]             -0.011614  0.988453  8.019914e-13   True\n",
       "test:source_2[T.friend]              0.005587  1.005603  1.819601e-13   True\n",
       "test:source_2[T.seo]                -0.038277  0.962446  2.200534e-04   True\n",
       "test:operative_system[T.iOS]         0.103391  1.108925  4.305204e-02  False\n",
       "test:operative_system[T.linux]      -2.080709  0.124842  5.114408e-06   True\n",
       "test:operative_system[T.mac]        -0.110597  0.895299  3.589570e-01  False\n",
       "test:operative_system[T.other]       0.107996  1.114044  2.179676e-03   True\n",
       "test:operative_system[T.windows]    -0.063845  0.938151  6.760514e-08   True"
      ]
     },
     "execution_count": 65,
     "metadata": {},
     "output_type": "execute_result"
    }
   ],
   "source": [
    "# Let's run another regression including source_2, device, and OS\n",
    "\n",
    "# define formula\n",
    "model4 = 'converted ~ test + source_2 + device + operative_system + weekday + test:source_2 + test:operative_system'\n",
    "\n",
    "# create x and y using patsy's dmatrices\n",
    "y,x = patsy.dmatrices(model4,main,return_type='dataframe')\n",
    "\n",
    "# create test and train sets\n",
    "X_train, X_test, Y_train, Y_test = train_test_split(x, y, test_size=0.33, random_state=47)\n",
    "\n",
    "\n",
    "# specify model objects and fit\n",
    "feat4 = f_classif(X_train, Y_train)\n",
    "fit4 = LogisticRegression()\n",
    "\n",
    "fit4.fit(X_train,Y_train)\n",
    "\n",
    "# store coefficients, p-value, and signifiance at 1% level\n",
    "r2 = DataFrame(data=fit4.coef_[0],index=X_train.columns.values,columns=['coefficient'])\n",
    "r2['exp_coef'] = np.exp(r2['coefficient']) # store exponentiated coefficient for easier interpretation\n",
    "r2['pval'] = feat4[1]\n",
    "r2['sig'] = r2['pval'] <= .01\n",
    "\n",
    "# show results\n",
    "r2"
   ]
  },
  {
   "cell_type": "markdown",
   "metadata": {},
   "source": [
    "Here, we see that our original coefficients are all essentially unchanged excepting the major departure that is Linux. Now, Linux users are actually slightly more likely than Android users to convert. Scrolling past the insigificant weekday variables and the well-understood *test* variable, we arrive at our interaction terms. The first three that measure the effect of the test pricing specific to various sources are significant but all with odds ratio values close to 1, meaning their effect is not major. However, the test pricing interacted with operating system tells an interesting story with regards to the Linux OS. The odds ratio of conversion shrinks by nearly a factor of 10 for linux users who see the test pricing, and even combined with the positive effect of Linux alone, this still results in a major decrease in likelihood of conversion. This indicates that Linux users are much more price sensitive, so it is possible that these users have more readily available subistutes or value the product differently. None of the other OS variables interacted with *test* yield large swings in the odds of conversion.\n",
    "\n",
    "Let's quickly see if this model is any better in terms of out-of-sample prediction (not likely), explore a few different prediciton thresholds, and then take a final look at variable importance from a decision tree using the same formula as above."
   ]
  },
  {
   "cell_type": "code",
   "execution_count": 68,
   "metadata": {
    "collapsed": false
   },
   "outputs": [
    {
     "data": {
      "text/plain": [
       "array([[89269,     0],\n",
       "       [ 1685,     0]])"
      ]
     },
     "execution_count": 68,
     "metadata": {},
     "output_type": "execute_result"
    }
   ],
   "source": [
    "# store predictions and display confusion matrix\n",
    "preds = fit4.predict(X_test)\n",
    "confusion_matrix(Y_test,preds)"
   ]
  },
  {
   "cell_type": "code",
   "execution_count": 76,
   "metadata": {
    "collapsed": false
   },
   "outputs": [],
   "source": [
    "# store predicted probabilities\n",
    "preds_prob = list(fit4.predict_proba(X_test))\n",
    "\n",
    "# grab the second item (predicted probability for positive class)\n",
    "preds_prob_pos = [x[1] for x in preds_prob]"
   ]
  },
  {
   "cell_type": "code",
   "execution_count": 79,
   "metadata": {
    "collapsed": false
   },
   "outputs": [
    {
     "data": {
      "text/plain": [
       "count    90954.000000\n",
       "mean         0.018067\n",
       "std          0.007503\n",
       "min          0.001053\n",
       "25%          0.013041\n",
       "50%          0.017131\n",
       "75%          0.020842\n",
       "max          0.061466\n",
       "dtype: float64"
      ]
     },
     "execution_count": 79,
     "metadata": {},
     "output_type": "execute_result"
    }
   ],
   "source": [
    "# how does it look?\n",
    "pd.Series(preds_prob_pos).describe()"
   ]
  },
  {
   "cell_type": "code",
   "execution_count": 85,
   "metadata": {
    "collapsed": true
   },
   "outputs": [],
   "source": [
    "# define a function to display metrics for classification\n",
    "def get_cm_metrics(opt_cm):\n",
    "    accuracy = (opt_cm[1][1]+opt_cm[0][0])*1.0/(opt_cm[1][0]+opt_cm[1][1]+opt_cm[0][0]+opt_cm[0][1])\n",
    "    sensitivity = (opt_cm[1][1])*1.0/(opt_cm[1][0]+opt_cm[1][1])\n",
    "    specificity = (opt_cm[0][0])*1.0/(opt_cm[0][1]+opt_cm[0][0])\n",
    "    precision = (opt_cm[1][1])*1.0/(opt_cm[0][1]+opt_cm[1][1])\n",
    "    print \"Accuracy: %0.3f\" % accuracy\n",
    "    print \"Sensitivity: %0.3f\" % sensitivity\n",
    "    print \"Specificity: %0.3f\" % specificity\n",
    "    print \"Precision: %0.3f\" % precision"
   ]
  },
  {
   "cell_type": "code",
   "execution_count": 87,
   "metadata": {
    "collapsed": false,
    "scrolled": true
   },
   "outputs": [
    {
     "name": "stdout",
     "output_type": "stream",
     "text": [
      "0.01\n",
      "Accuracy: 0.075\n",
      "Sensitivity: 0.979\n",
      "Specificity: 0.058\n",
      "Precision: 0.019\n",
      "0.015\n",
      "Accuracy: 0.388\n",
      "Sensitivity: 0.733\n",
      "Specificity: 0.382\n",
      "Precision: 0.022\n",
      "0.02\n",
      "Accuracy: 0.706\n",
      "Sensitivity: 0.418\n",
      "Specificity: 0.712\n",
      "Precision: 0.027\n",
      "0.025\n",
      "Accuracy: 0.886\n",
      "Sensitivity: 0.178\n",
      "Specificity: 0.900\n",
      "Precision: 0.032\n",
      "0.03\n",
      "Accuracy: 0.935\n",
      "Sensitivity: 0.112\n",
      "Specificity: 0.951\n",
      "Precision: 0.041\n",
      "0.035\n",
      "Accuracy: 0.944\n",
      "Sensitivity: 0.090\n",
      "Specificity: 0.961\n",
      "Precision: 0.041\n",
      "0.04\n",
      "Accuracy: 0.956\n",
      "Sensitivity: 0.063\n",
      "Specificity: 0.973\n",
      "Precision: 0.042\n",
      "0.045\n",
      "Accuracy: 0.967\n",
      "Sensitivity: 0.037\n",
      "Specificity: 0.984\n",
      "Precision: 0.043\n",
      "0.05\n",
      "Accuracy: 0.976\n",
      "Sensitivity: 0.011\n",
      "Specificity: 0.994\n",
      "Precision: 0.037\n"
     ]
    }
   ],
   "source": [
    "# try different thresholds in the range of predicted probabilities\n",
    "thresholds = [.01, .015, .02, .025, .03, .035, .04, .045, .05]\n",
    "\n",
    "# for thresholds, do the following:\n",
    "for i in thresholds:\n",
    "    preds_test = pd.Series(preds_prob_pos) > i # predict positive class if pred_prob > threshold\n",
    "    print i # print threshold\n",
    "    get_cm_metrics(confusion_matrix(Y_test,preds_test)) #print the conf matrix metrics for that threshold"
   ]
  },
  {
   "cell_type": "markdown",
   "metadata": {},
   "source": [
    "Above we can see the tradeoff in true positive and false positive rate for varying thresholds. For example, when we take any user with a predicted conversion probability of .02 as positive, we are able to predict over 40% of the true positives, but we also have quite a few false positives (precision, or TP/(TP+FP), is less than 3%. \n",
    "\n",
    "These varying thresholds represent different scenarios for the business. Users with high predicted probabilities of conversion could be selected for targeted ads or promotions, which would come at a cost, but also likely cause some of these customers to convert who wouldn't otherwise. Depending on the cost of reaching out to users, as well as the profits from acquired users, varying thresholds could be optimal. This decision requires the input of more business data as well as strategic discussion with sales and marketing teams, but is useful to think about."
   ]
  },
  {
   "cell_type": "code",
   "execution_count": 66,
   "metadata": {
    "collapsed": false,
    "scrolled": true
   },
   "outputs": [
    {
     "data": {
      "text/plain": [
       "<matplotlib.axes._subplots.AxesSubplot at 0x162f04a8>"
      ]
     },
     "execution_count": 66,
     "metadata": {},
     "output_type": "execute_result"
    },
    {
     "data": {
      "image/png": "[encoded data removed]",
      "text/plain": [
       "<matplotlib.figure.Figure at 0x1632ce48>"
      ]
     },
     "metadata": {},
     "output_type": "display_data"
    }
   ],
   "source": [
    "tree1 = DecisionTreeClassifier()\n",
    "tree1.fit(X_train,Y_train)\n",
    "\n",
    "# let's view which variables are most important\n",
    "treeimps = pd.DataFrame(index=X_train.columns,data=tree1.feature_importances_)\n",
    "treeimps.plot(kind='bar',legend=False,title='Decision Tree Variable Importance',figsize=(10,5))"
   ]
  },
  {
   "cell_type": "code",
   "execution_count": 69,
   "metadata": {
    "collapsed": false,
    "scrolled": true
   },
   "outputs": [
    {
     "data": {
      "text/plain": [
       "array([[89269,     0],\n",
       "       [ 1685,     0]])"
      ]
     },
     "execution_count": 69,
     "metadata": {},
     "output_type": "execute_result"
    }
   ],
   "source": [
    "# store predictions and display confusion matrix\n",
    "preds = tree1.predict(X_test)\n",
    "confusion_matrix(Y_test,preds)\n",
    "# ugh..."
   ]
  },
  {
   "cell_type": "markdown",
   "metadata": {},
   "source": [
    "#### Actionable Insights and Conclusions\n",
    "\n",
    "After analyzing this data, we can draw a few conclusions, albeit with the caveat that our models were not realy able to accurately predict conversion. They include the following:  \n",
    "  \n",
    "**Pricing Decision** \n",
    "Based on economic analysis, we were able to show that demand is fairly inelastic between the prices of '$'39 and '$'59, so that both revenue per customer and profit per customer are higher at the higher price, regardless of product cost. This implies that if the goal is optimizing profit or revenue, then a price increase is a solid decision. However, this does not take into account the other consequences of increasing price, such as a change in market share or product perception. In addition to losing market share to competitors, if the product is known as a value product, then a price increase may fundamentally change how it's viewed and have unintended consequences. This requires input of marketing and sales resources, but based on the data available, the price increase is a good idea.\n",
    "  \n",
    "**Friend Referals**   \n",
    "Friend referals, compared to other sources, make a given user significantly more likely to convert and purchase the product, regardless of pricing scheme. This implies that if the company can increase the percentage of traffic on the site that come from referrals, conversion rate can also likely be increased. Possible actions for this include referral bonuses in the form of product giveaways, rewards programs, etc. Additionally, identifying and working with influencers who can serve as product advocates for target demographics - such as a super user with a large community of friends who use similar products - will likely have value. \n",
    "\n",
    "**Operating System**\n",
    "The data also showed that users across different operating systems are more or less likely to convert. Compared to the base case of Android, iOS, Mac, and Windows users all were more likely to convert, regardless of price. This could mean that the product is better suited for users on these platforms, or something about the demographics or preferences of these users makes them more inclined to purchase - they could be older and less tech-savvy, or seeking functionality different from what Android and Linux users are seeking. Possible recommendations include advertising specifically targeting Android users to bring their conversion rate up, or conversely, targetng iOS, Mac, and Windows users who may already be inclined to purchase. Another option would be to develop different product offerings targeting these different groups. Any of these decisions require business context beyond what is available in these data, such as product functionality, competitors, desired users, etc."
   ]
  },
  {
   "cell_type": "markdown",
   "metadata": {},
   "source": [
    "#### Bonus\n",
    "The VP of Product feels that the test has been running for too long and he should have been able to get statistically significant results in a shorter time. Do you agree with her intuition? After how many days you would have stopped the test? Please, explain why.\n",
    "\n",
    "\n",
    "This is a tricky question. As a general principle, results are better when sample size is larger, as the sample is more likely to be representative of the population as a whole, less likely to be sensitive to variations in the data, and is able to handle much more complex models with lower risk of overfitting. That being said, it is possible to obtain statistically significant results\n",
    "\n",
    "If the measure we care about is response rate, and we want to establish a statistical significance between the difference in two groups, the apporpriate statistic is the following:\n",
    "\n",
    "$$ Z=\\dfrac{(\\hat{p}_1-\\hat{p}_2)-0}{\\sqrt{\\hat{p}(1-\\hat{p})\\left(\\dfrac{1}{n_1}+\\dfrac{1}{n_2}\\right)}} $$\n",
    "\n",
    "Where p-hat(1) and p-hat(2) are the sample proportions for the two groups, p-hat is the proportion for the group as a whole, and n1 and n2 are the sample sizes of the two groups. We want to find the minimum sample size at which our results would be significant, which requires making a few assumptions. Namely, we will assume the response rates in both groups are what we've observed - .0197 for test = 0, .0154 for test = 1, and .0182 overall. We will also assume the same 2/3 and 1/3 distribution for samples across the two groups, so we can substitute n2 = n1/2 to simplify the math. That yields the following:\n",
    "\n",
    "$$ Z=\\dfrac{.0197-.0154}{\\sqrt{.0182(1-.0182)\\left(\\dfrac{1}{n_1}+\\dfrac{2}{n_1}\\right)}} $$\n",
    "\n",
    "$$ Z=\\dfrac{.0043}{\\sqrt{.01786\\left(\\dfrac{3}{n_1}\\right)}} $$\n",
    "\n",
    "Now suppose we want z-score to equal 2.576, which would indicate significance at the 1% level, we can solve for sample size:\n",
    "\n",
    "$$ 2.576=\\dfrac{.0043}{\\sqrt{.01786)\\left(\\dfrac{3}{n_1}\\right)}} $$\n",
    "\n",
    "$$ 2.576 * \\sqrt{.01786\\left(\\dfrac{3}{n_1}\\right)} = .0043 $$\n",
    "\n",
    "$$ \\sqrt{.01786\\left(\\dfrac{3}{n_1}\\right)} = 0.001669 $$\n",
    "\n",
    "$$ .01786\\dfrac{3}{n_1} = 0.000002786 $$\n",
    "\n",
    "$$ 6410.624 = \\dfrac{3}{n_1} $$\n",
    "\n",
    "$$ n_1 = ~2136 $$\n",
    "\n",
    "This implies that to obtain a statistically significant sample at the 1% level, we need a little over 2000 people in group 1 and therefore a little over 1000 people in group 2 for a total of ~3300 people. This is a far cry from the hundreds of thousands in the data above. However, with a sample this small of internet users, there is significant risk for a biased sample, and the relatively low cost of adding users to the trial is another fact in favor of a larger sample size. Overall, the right answer is probably somewhere in the middle, between the bare minimum and what has been done. Users per day in the above data varies from around 1500 to 6000 users, and so a week of the experiment should yield plenty of data from which to draw accurate insights."
   ]
  }
 ],
 "metadata": {
  "anaconda-cloud": {},
  "kernelspec": {
   "display_name": "Python [Root]",
   "language": "python",
   "name": "Python [Root]"
  },
  "language_info": {
   "codemirror_mode": {
    "name": "ipython",
    "version": 2
   },
   "file_extension": ".py",
   "mimetype": "text/x-python",
   "name": "python",
   "nbconvert_exporter": "python",
   "pygments_lexer": "ipython2",
   "version": "2.7.11"
  }
 },
 "nbformat": 4,
 "nbformat_minor": 0
}
